{
 "cells": [
  {
   "cell_type": "code",
   "execution_count": 1,
   "metadata": {},
   "outputs": [],
   "source": [
    "%load_ext autoreload\n",
    "%autoreload 2\n",
    "# https://towardsdatascience.com/automated-machine-learning-hyperparameter-tuning-in-python-dfda59b72f8a\n",
    "# https://github.com/WillKoehrsen/hyperparameter-optimization/blob/master/Bayesian%20Hyperparameter%20Optimization%20of%20Gradient%20Boosting%20Machine.ipynb\n",
    "from hyperopt import hp\n",
    "import numpy as np\n",
    "import lightgbm as lgb\n",
    "from hyperopt import STATUS_OK\n",
    "import hyperopt \n",
    "from hyperopt import tpe\n",
    "from hyperopt import Trials\n",
    "import csv\n",
    "import csv\n",
    "from hyperopt import STATUS_OK\n",
    "from timeit import default_timer as timer\n"
   ]
  },
  {
   "cell_type": "code",
   "execution_count": 35,
   "metadata": {},
   "outputs": [
    {
     "data": {
      "text/plain": [
       "{'bagging_fraction': 1,\n",
       " 'bagging_freq': 0,\n",
       " 'boost_from_average': 'false',\n",
       " 'boosting_type': 'goss',\n",
       " 'class_weight': 'balanced',\n",
       " 'colsample_bytree': 0.6458144443034962,\n",
       " 'feature_fraction': 0.6102713058101494,\n",
       " 'learning_rate': 0.00547510693042378,\n",
       " 'max_depth': -1,\n",
       " 'metric': 'root_mean_squared_error',\n",
       " 'min_child_samples': 18,\n",
       " 'min_data_in_leaf': 19,\n",
       " 'num_leaves': 50,\n",
       " 'num_threads': 1,\n",
       " 'objective': 'regression',\n",
       " 'reg_alpha': 0.29195304832035396,\n",
       " 'reg_lambda': 0.2384963171918152,\n",
       " 'seed': 99999,\n",
       " 'subsample_for_bin': 14,\n",
       " 'tree_learner': 'serial',\n",
       " 'use_missing': True,\n",
       " 'verbosity': 1,\n",
       " 'subsample': 1.0}"
      ]
     },
     "execution_count": 35,
     "metadata": {},
     "output_type": "execute_result"
    }
   ],
   "source": [
    "                                              # Define the search space\n",
    "\n",
    "space = {\n",
    "            'class_weight': hp.choice('class_weight', [None, 'balanced']),\n",
    "            'boosting_type': hp.choice('boosting_type', \n",
    "                               [{'boosting_type': 'gbdt', \n",
    "                                    'subsample': hp.uniform('gdbt_subsample', 0.5, 1)}, \n",
    "                                # {'boosting_type': 'dart', \n",
    "                                #     'subsample': hp.uniform('dart_subsample', 0.5, 1)},\n",
    "                                 {'boosting_type': 'goss'}]),\n",
    "            'num_leaves': hp.choice('num_leaves', np.arange(30, 151, dtype=int)),\n",
    "            'learning_rate': hp.loguniform('learning_rate', np.log(0.005), np.log(0.1)),\n",
    "            'subsample_for_bin': hp.choice('subsample_for_bin', np.arange(1, 16, dtype=int)),\n",
    "            'min_child_samples': hp.choice('min_child_examples', np.arange(4, 101, dtype=int)),\n",
    "            'reg_alpha': hp.uniform('reg_alpha', 0.0, 1.0),\n",
    "            'reg_lambda': hp.uniform('reg_lambda', 0.0, 1.0),\n",
    "            'colsample_bytree': hp.uniform('colsample_by_tree', 0.6, 1.0),\n",
    "            'seed':99999,\n",
    "            'bagging_freq':hp.choice('bagging_freq', \n",
    "                               [\n",
    "                                   {'gbdt': hp.choice('gbdt_bagging_freq', np.arange(1, 25, dtype=int))}, \n",
    "                               ]),\n",
    "            'bagging_fraction':hp.choice('bagging_fraction', \n",
    "                               [\n",
    "                                    {'gbdt': hp.uniform('gbdt_bagging_fraction', 0.95, 1)}, \n",
    "                               ]),\n",
    "            'boost_from_average':'false',\n",
    "            'feature_fraction':hp.uniform('feature_fraction', 0.05, 1),\n",
    "            'max_depth':-1,\n",
    "            'metric':'root_mean_squared_error',\n",
    "            'min_data_in_leaf':hp.choice('min_data_in_leaf', np.arange(5, 20, dtype=int)),\n",
    "            'num_threads':1,\n",
    "            'tree_learner':'serial',\n",
    "            'objective':'regression',\n",
    "            'use_missing':True,\n",
    "            'verbosity':1,\n",
    "\n",
    "}\n",
    "\n",
    " \n",
    "# Sample from the full space\n",
    "example = hyperopt.pyll.stochastic.sample(space)\n",
    "\n",
    "# Dictionary get method with default\n",
    "subsample = example['boosting_type'].get('subsample', 1.0)\n",
    "\n",
    "# Assign top-level keys\n",
    "example['boosting_type'] = example['boosting_type']['boosting_type']\n",
    "example['bagging_fraction'] = example['bagging_fraction'].get(example['boosting_type'], 1) # default to 1 unless lgtb\n",
    "example['bagging_freq'] = example['bagging_freq'].get(example['boosting_type'], 0) # default to 0 unless lgtb\n",
    "example['subsample'] = subsample\n",
    "example\n",
    "\n"
   ]
  },
  {
   "cell_type": "code",
   "execution_count": 209,
   "metadata": {},
   "outputs": [
    {
     "data": {
      "text/plain": [
       "1"
      ]
     },
     "execution_count": 209,
     "metadata": {},
     "output_type": "execute_result"
    }
   ],
   "source": [
    "example = hyperopt.pyll.stochastic.sample(space)\n",
    "example['bagging_freq'],example['bagging_freq'].get(example['boosting_type']['boosting_type'], 99), example['boosting_type']['boosting_type']\n",
    "example['bagging_fraction'] = example['bagging_fraction'].get(example['boosting_type']['boosting_type'], 1) \n",
    "example['bagging_fraction'] "
   ]
  },
  {
   "cell_type": "code",
   "execution_count": 208,
   "metadata": {},
   "outputs": [
    {
     "ename": "TypeError",
     "evalue": "string indices must be integers",
     "output_type": "error",
     "traceback": [
      "\u001b[0;31m---------------------------------------------------------------------------\u001b[0m",
      "\u001b[0;31mTypeError\u001b[0m                                 Traceback (most recent call last)",
      "\u001b[0;32m<ipython-input-208-50bd0d273949>\u001b[0m in \u001b[0;36m<module>\u001b[0;34m\u001b[0m\n\u001b[1;32m      4\u001b[0m \u001b[0mexample\u001b[0m\u001b[0;34m[\u001b[0m\u001b[0;34m'boosting_type'\u001b[0m\u001b[0;34m]\u001b[0m \u001b[0;34m=\u001b[0m \u001b[0mexample\u001b[0m\u001b[0;34m[\u001b[0m\u001b[0;34m'boosting_type'\u001b[0m\u001b[0;34m]\u001b[0m\u001b[0;34m[\u001b[0m\u001b[0;34m'boosting_type'\u001b[0m\u001b[0;34m]\u001b[0m\u001b[0;34m\u001b[0m\u001b[0m\n\u001b[1;32m      5\u001b[0m \u001b[0;31m#example['bagging_fraction'] = example['bagging_fraction'].get(example['boosting_type']['boosting_type'], 1) # default to 1 unless lgtb\u001b[0m\u001b[0;34m\u001b[0m\u001b[0;34m\u001b[0m\u001b[0m\n\u001b[0;32m----> 6\u001b[0;31m \u001b[0mexample\u001b[0m\u001b[0;34m[\u001b[0m\u001b[0;34m'bagging_freq'\u001b[0m\u001b[0;34m]\u001b[0m \u001b[0;34m=\u001b[0m \u001b[0mexample\u001b[0m\u001b[0;34m[\u001b[0m\u001b[0;34m'bagging_freq'\u001b[0m\u001b[0;34m]\u001b[0m\u001b[0;34m.\u001b[0m\u001b[0mget\u001b[0m\u001b[0;34m(\u001b[0m\u001b[0mexample\u001b[0m\u001b[0;34m[\u001b[0m\u001b[0;34m'boosting_type'\u001b[0m\u001b[0;34m]\u001b[0m\u001b[0;34m[\u001b[0m\u001b[0;34m'boosting_type'\u001b[0m\u001b[0;34m]\u001b[0m\u001b[0;34m,\u001b[0m \u001b[0;36m0\u001b[0m\u001b[0;34m)\u001b[0m \u001b[0;31m# default to 0 unless lgtb\u001b[0m\u001b[0;34m\u001b[0m\u001b[0m\n\u001b[0m\u001b[1;32m      7\u001b[0m \u001b[0;34m\u001b[0m\u001b[0m\n",
      "\u001b[0;31mTypeError\u001b[0m: string indices must be integers"
     ]
    }
   ],
   "source": [
    "example = hyperopt.pyll.stochastic.sample(space)\n",
    "\n",
    "# Assign top-level keys\n",
    "example['boosting_type'] = example['boosting_type']['boosting_type']\n",
    "#example['bagging_fraction'] = example['bagging_fraction'].get(example['boosting_type']['boosting_type'], 1) # default to 1 unless lgtb\n",
    "example['bagging_freq'] = example['bagging_freq'].get(example['boosting_type']['boosting_type'], 0) # default to 0 unless lgtb\n",
    "\n"
   ]
  },
  {
   "cell_type": "code",
   "execution_count": 43,
   "metadata": {},
   "outputs": [
    {
     "ename": "SyntaxError",
     "evalue": "invalid syntax (<ipython-input-43-4d75b9014fd8>, line 57)",
     "output_type": "error",
     "traceback": [
      "\u001b[0;36m  File \u001b[0;32m\"<ipython-input-43-4d75b9014fd8>\"\u001b[0;36m, line \u001b[0;32m57\u001b[0m\n\u001b[0;31m    best_stopping_iter_std=cv_results['best_stopping_iter_std']\u001b[0m\n\u001b[0m                         ^\u001b[0m\n\u001b[0;31mSyntaxError\u001b[0m\u001b[0;31m:\u001b[0m invalid syntax\n"
     ]
    }
   ],
   "source": [
    "from baseline5_for_sweep import perform_cv_lightgbm, get_training_set\n",
    "\n",
    "def objective(params, reporter):\n",
    "    \"\"\"Objective function for Gradient Boosting Machine Hyperparameter Optimization\"\"\"\n",
    "    \n",
    "    # Keep track of evals\n",
    "    global ITERATION\n",
    "    \n",
    "    ITERATION += 1\n",
    "    \n",
    "    # Retrieve the subsample if present otherwise set to 1.0\n",
    "    subsample = params['boosting_type'].get('subsample', 1.0)\n",
    "    \n",
    "    # Extract the boosting type\n",
    "    params['boosting_type'] = params['boosting_type']['boosting_type']\n",
    "    params['bagging_fraction'] = params['bagging_fraction'].get(params['boosting_type'], 1) # default to 1 unless lgtb\n",
    "    params['bagging_freq'] = params['bagging_freq'].get(params['boosting_type'], 0) # default to 0 unless lgtb\n",
    "    params['subsample'] = subsample\n",
    "    \n",
    "    # Make sure parameters that need to be integers are integers\n",
    "    for parameter_name in ['num_leaves', 'subsample_for_bin', 'min_child_samples']:\n",
    "        params[parameter_name] = int(params[parameter_name])\n",
    "    \n",
    "    start = timer()\n",
    "    early_stopping_rounds = 100\n",
    "    \n",
    "    # Perform n_folds cross validation\n",
    "    cv_results = perform_cv_lightgbm(df_train, \n",
    "                                     chosen_features,\n",
    "                                     params=params,\n",
    "                                     early_stopping_rounds=early_stopping_rounds,\n",
    "                                     n_folds=5) \n",
    "    # lgb.cv(params, train_set, num_boost_round = 10000, nfold = n_folds, \n",
    "    #                    early_stopping_rounds = 100, metrics = 'auc', seed = 50)\n",
    "    \n",
    "    run_time = timer() - start\n",
    "    \n",
    "    # Loss must be minimized\n",
    "    loss = cv_results['rmse_mean']\n",
    "    \n",
    "    # Write to the csv file ('a' means append)\n",
    "    #of_connection = open(out_file, 'a')\n",
    "    #writer = csv.writer(of_connection)\n",
    "    #writer.writerow([loss, params, ITERATION, \n",
    "    #                 cv_results['rmse_std'], \n",
    "    #                 cv_results['cv_stopping_iters'],\n",
    "    #                 cv_results['best_stopping_iter_std'],\n",
    "    #                 cv_results['best_stopping_iter_std'],\n",
    "    #                 run_time])\n",
    "    \n",
    "    # Ray will negate this by itself to feed into HyperOpt\n",
    "    reporter(timesteps_total=1, \n",
    "             mean_loss=cv_results['rmse_mean'], \n",
    "             rmse_std=cv_results['rmse_std'],\n",
    "             best_stopping_iter=cv_results['cv_stopping_iters'],\n",
    "             best_stopping_iter_mean=cv_results['best_stopping_iter_mean'],\n",
    "             best_stopping_iter_std=cv_results['best_stopping_iter_std'],\n",
    "             train_time=run_time )\n",
    "\n",
    "    #tune.track.log(**kwargs)\n",
    "    \n",
    "    # Dictionary with information for evaluation\n",
    "    return {'loss': loss,\n",
    "            'params': params, \n",
    "            'iteration': ITERATION,\n",
    "            'rmse_std': cv_results['rmse_std'],  \n",
    "            'best_stopping_iter':cv_results['cv_stopping_iters'],\n",
    "            'best_stopping_iter_mean':cv_results['best_stopping_iter_std'],\n",
    "            'best_stopping_iter_std':cv_results['best_stopping_iter_std'],\n",
    "            'train_time': run_time, \n",
    "            'status': STATUS_OK}"
   ]
  },
  {
   "cell_type": "code",
   "execution_count": 4,
   "metadata": {},
   "outputs": [
    {
     "name": "stdout",
     "output_type": "stream",
     "text": [
      "There is 0.24038838760298156 ratio is nan album\n",
      "There is 0.0017653981953707335 ratio is nan genre\n",
      "There is 0.24038838760298156 ratio is nan album_artist\n",
      "There is 0.0007846214201647705 ratio is nan track\n",
      "There is 0.6722244017261672 ratio is nan lyric\n",
      "2711 raw titles are identical between songs: 7485 unique titles\n",
      "After cleaning brackets etc. only 6202 unique titles remain, i.e. 1283 are highly similar titles \n",
      "In making albumHashandName, we filled in: 146 values Of the total albumHashAndName 171 nan\n",
      "In making albumHashAndNameAndReleaseday, we filled in the: 171 values remaining using the release second hash\n",
      "There is a statistically signficiant relationship between English-like title and rank. So adding feature: isEnglishLikeTitle\n",
      "Len before:  10190\n",
      "Len after:  10183\n",
      "Missing artist_count_id 799\n",
      "Missing artist_mean_id 799\n",
      "Missing artist_std_id 799\n"
     ]
    }
   ],
   "source": [
    "df_train, chosen_features = get_training_set()"
   ]
  },
  {
   "cell_type": "code",
   "execution_count": 288,
   "metadata": {},
   "outputs": [
    {
     "name": "stdout",
     "output_type": "stream",
     "text": [
      "\r",
      "  0%|          | 0/10 [00:00<?, ?it/s, best loss: ?]"
     ]
    },
    {
     "name": "stderr",
     "output_type": "stream",
     "text": [
      "/media/DATA/anaconda3/envs/thriai/lib/python3.6/site-packages/sklearn/model_selection/_split.py:657: Warning: The least populated class in y has only 1 members, which is too few. The minimum number of members in any class cannot be less than n_splits=2.\n",
      "  % (min_groups, self.n_splits)), Warning)\n",
      "\n"
     ]
    },
    {
     "name": "stdout",
     "output_type": "stream",
     "text": [
      "Fold 0                                              \n",
      "  0%|          | 0/10 [00:11<?, ?it/s, best loss: ?]\n"
     ]
    },
    {
     "ename": "KeyboardInterrupt",
     "evalue": "",
     "output_type": "error",
     "traceback": [
      "\u001b[0;31m---------------------------------------------------------------------------\u001b[0m",
      "\u001b[0;31mKeyboardInterrupt\u001b[0m                         Traceback (most recent call last)",
      "\u001b[0;32m<ipython-input-288-ccaa8264cea7>\u001b[0m in \u001b[0;36m<module>\u001b[0;34m\u001b[0m\n\u001b[1;32m     27\u001b[0m             \u001b[0malgo\u001b[0m \u001b[0;34m=\u001b[0m \u001b[0mtpe\u001b[0m\u001b[0;34m.\u001b[0m\u001b[0msuggest\u001b[0m\u001b[0;34m,\u001b[0m\u001b[0;34m\u001b[0m\u001b[0m\n\u001b[1;32m     28\u001b[0m             \u001b[0mmax_evals\u001b[0m \u001b[0;34m=\u001b[0m \u001b[0mMAX_EVALS\u001b[0m\u001b[0;34m,\u001b[0m\u001b[0;34m\u001b[0m\u001b[0m\n\u001b[0;32m---> 29\u001b[0;31m             trials = bayes_trials)\n\u001b[0m",
      "\u001b[0;32m/media/DATA/anaconda3/envs/thriai/lib/python3.6/site-packages/hyperopt/fmin.py\u001b[0m in \u001b[0;36mfmin\u001b[0;34m(fn, space, algo, max_evals, trials, rstate, allow_trials_fmin, pass_expr_memo_ctrl, catch_eval_exceptions, verbose, return_argmin, points_to_evaluate, max_queue_len, show_progressbar)\u001b[0m\n\u001b[1;32m    401\u001b[0m             \u001b[0mcatch_eval_exceptions\u001b[0m\u001b[0;34m=\u001b[0m\u001b[0mcatch_eval_exceptions\u001b[0m\u001b[0;34m,\u001b[0m\u001b[0;34m\u001b[0m\u001b[0m\n\u001b[1;32m    402\u001b[0m             \u001b[0mreturn_argmin\u001b[0m\u001b[0;34m=\u001b[0m\u001b[0mreturn_argmin\u001b[0m\u001b[0;34m,\u001b[0m\u001b[0;34m\u001b[0m\u001b[0m\n\u001b[0;32m--> 403\u001b[0;31m             \u001b[0mshow_progressbar\u001b[0m\u001b[0;34m=\u001b[0m\u001b[0mshow_progressbar\u001b[0m\u001b[0;34m,\u001b[0m\u001b[0;34m\u001b[0m\u001b[0m\n\u001b[0m\u001b[1;32m    404\u001b[0m         )\n\u001b[1;32m    405\u001b[0m \u001b[0;34m\u001b[0m\u001b[0m\n",
      "\u001b[0;32m/media/DATA/anaconda3/envs/thriai/lib/python3.6/site-packages/hyperopt/base.py\u001b[0m in \u001b[0;36mfmin\u001b[0;34m(self, fn, space, algo, max_evals, max_queue_len, rstate, verbose, pass_expr_memo_ctrl, catch_eval_exceptions, return_argmin, show_progressbar)\u001b[0m\n\u001b[1;32m    649\u001b[0m             \u001b[0mcatch_eval_exceptions\u001b[0m\u001b[0;34m=\u001b[0m\u001b[0mcatch_eval_exceptions\u001b[0m\u001b[0;34m,\u001b[0m\u001b[0;34m\u001b[0m\u001b[0m\n\u001b[1;32m    650\u001b[0m             \u001b[0mreturn_argmin\u001b[0m\u001b[0;34m=\u001b[0m\u001b[0mreturn_argmin\u001b[0m\u001b[0;34m,\u001b[0m\u001b[0;34m\u001b[0m\u001b[0m\n\u001b[0;32m--> 651\u001b[0;31m             show_progressbar=show_progressbar)\n\u001b[0m\u001b[1;32m    652\u001b[0m \u001b[0;34m\u001b[0m\u001b[0m\n\u001b[1;32m    653\u001b[0m \u001b[0;34m\u001b[0m\u001b[0m\n",
      "\u001b[0;32m/media/DATA/anaconda3/envs/thriai/lib/python3.6/site-packages/hyperopt/fmin.py\u001b[0m in \u001b[0;36mfmin\u001b[0;34m(fn, space, algo, max_evals, trials, rstate, allow_trials_fmin, pass_expr_memo_ctrl, catch_eval_exceptions, verbose, return_argmin, points_to_evaluate, max_queue_len, show_progressbar)\u001b[0m\n\u001b[1;32m    420\u001b[0m                     show_progressbar=show_progressbar)\n\u001b[1;32m    421\u001b[0m     \u001b[0mrval\u001b[0m\u001b[0;34m.\u001b[0m\u001b[0mcatch_eval_exceptions\u001b[0m \u001b[0;34m=\u001b[0m \u001b[0mcatch_eval_exceptions\u001b[0m\u001b[0;34m\u001b[0m\u001b[0m\n\u001b[0;32m--> 422\u001b[0;31m     \u001b[0mrval\u001b[0m\u001b[0;34m.\u001b[0m\u001b[0mexhaust\u001b[0m\u001b[0;34m(\u001b[0m\u001b[0;34m)\u001b[0m\u001b[0;34m\u001b[0m\u001b[0m\n\u001b[0m\u001b[1;32m    423\u001b[0m     \u001b[0;32mif\u001b[0m \u001b[0mreturn_argmin\u001b[0m\u001b[0;34m:\u001b[0m\u001b[0;34m\u001b[0m\u001b[0m\n\u001b[1;32m    424\u001b[0m         \u001b[0;32mif\u001b[0m \u001b[0mlen\u001b[0m\u001b[0;34m(\u001b[0m\u001b[0mtrials\u001b[0m\u001b[0;34m.\u001b[0m\u001b[0mtrials\u001b[0m\u001b[0;34m)\u001b[0m \u001b[0;34m==\u001b[0m \u001b[0;36m0\u001b[0m\u001b[0;34m:\u001b[0m\u001b[0;34m\u001b[0m\u001b[0m\n",
      "\u001b[0;32m/media/DATA/anaconda3/envs/thriai/lib/python3.6/site-packages/hyperopt/fmin.py\u001b[0m in \u001b[0;36mexhaust\u001b[0;34m(self)\u001b[0m\n\u001b[1;32m    274\u001b[0m     \u001b[0;32mdef\u001b[0m \u001b[0mexhaust\u001b[0m\u001b[0;34m(\u001b[0m\u001b[0mself\u001b[0m\u001b[0;34m)\u001b[0m\u001b[0;34m:\u001b[0m\u001b[0;34m\u001b[0m\u001b[0m\n\u001b[1;32m    275\u001b[0m         \u001b[0mn_done\u001b[0m \u001b[0;34m=\u001b[0m \u001b[0mlen\u001b[0m\u001b[0;34m(\u001b[0m\u001b[0mself\u001b[0m\u001b[0;34m.\u001b[0m\u001b[0mtrials\u001b[0m\u001b[0;34m)\u001b[0m\u001b[0;34m\u001b[0m\u001b[0m\n\u001b[0;32m--> 276\u001b[0;31m         \u001b[0mself\u001b[0m\u001b[0;34m.\u001b[0m\u001b[0mrun\u001b[0m\u001b[0;34m(\u001b[0m\u001b[0mself\u001b[0m\u001b[0;34m.\u001b[0m\u001b[0mmax_evals\u001b[0m \u001b[0;34m-\u001b[0m \u001b[0mn_done\u001b[0m\u001b[0;34m,\u001b[0m \u001b[0mblock_until_done\u001b[0m\u001b[0;34m=\u001b[0m\u001b[0mself\u001b[0m\u001b[0;34m.\u001b[0m\u001b[0masynchronous\u001b[0m\u001b[0;34m)\u001b[0m\u001b[0;34m\u001b[0m\u001b[0m\n\u001b[0m\u001b[1;32m    277\u001b[0m         \u001b[0mself\u001b[0m\u001b[0;34m.\u001b[0m\u001b[0mtrials\u001b[0m\u001b[0;34m.\u001b[0m\u001b[0mrefresh\u001b[0m\u001b[0;34m(\u001b[0m\u001b[0;34m)\u001b[0m\u001b[0;34m\u001b[0m\u001b[0m\n\u001b[1;32m    278\u001b[0m         \u001b[0;32mreturn\u001b[0m \u001b[0mself\u001b[0m\u001b[0;34m\u001b[0m\u001b[0m\n",
      "\u001b[0;32m/media/DATA/anaconda3/envs/thriai/lib/python3.6/site-packages/hyperopt/fmin.py\u001b[0m in \u001b[0;36mrun\u001b[0;34m(self, N, block_until_done)\u001b[0m\n\u001b[1;32m    239\u001b[0m                     \u001b[0;32melse\u001b[0m\u001b[0;34m:\u001b[0m\u001b[0;34m\u001b[0m\u001b[0m\n\u001b[1;32m    240\u001b[0m                         \u001b[0;31m# -- loop over trials and do the jobs directly\u001b[0m\u001b[0;34m\u001b[0m\u001b[0;34m\u001b[0m\u001b[0m\n\u001b[0;32m--> 241\u001b[0;31m                         \u001b[0mself\u001b[0m\u001b[0;34m.\u001b[0m\u001b[0mserial_evaluate\u001b[0m\u001b[0;34m(\u001b[0m\u001b[0;34m)\u001b[0m\u001b[0;34m\u001b[0m\u001b[0m\n\u001b[0m\u001b[1;32m    242\u001b[0m \u001b[0;34m\u001b[0m\u001b[0m\n\u001b[1;32m    243\u001b[0m                     \u001b[0;32mtry\u001b[0m\u001b[0;34m:\u001b[0m\u001b[0;34m\u001b[0m\u001b[0m\n",
      "\u001b[0;32m/media/DATA/anaconda3/envs/thriai/lib/python3.6/site-packages/hyperopt/fmin.py\u001b[0m in \u001b[0;36mserial_evaluate\u001b[0;34m(self, N)\u001b[0m\n\u001b[1;32m    139\u001b[0m                 \u001b[0mctrl\u001b[0m \u001b[0;34m=\u001b[0m \u001b[0mbase\u001b[0m\u001b[0;34m.\u001b[0m\u001b[0mCtrl\u001b[0m\u001b[0;34m(\u001b[0m\u001b[0mself\u001b[0m\u001b[0;34m.\u001b[0m\u001b[0mtrials\u001b[0m\u001b[0;34m,\u001b[0m \u001b[0mcurrent_trial\u001b[0m\u001b[0;34m=\u001b[0m\u001b[0mtrial\u001b[0m\u001b[0;34m)\u001b[0m\u001b[0;34m\u001b[0m\u001b[0m\n\u001b[1;32m    140\u001b[0m                 \u001b[0;32mtry\u001b[0m\u001b[0;34m:\u001b[0m\u001b[0;34m\u001b[0m\u001b[0m\n\u001b[0;32m--> 141\u001b[0;31m                     \u001b[0mresult\u001b[0m \u001b[0;34m=\u001b[0m \u001b[0mself\u001b[0m\u001b[0;34m.\u001b[0m\u001b[0mdomain\u001b[0m\u001b[0;34m.\u001b[0m\u001b[0mevaluate\u001b[0m\u001b[0;34m(\u001b[0m\u001b[0mspec\u001b[0m\u001b[0;34m,\u001b[0m \u001b[0mctrl\u001b[0m\u001b[0;34m)\u001b[0m\u001b[0;34m\u001b[0m\u001b[0m\n\u001b[0m\u001b[1;32m    142\u001b[0m                 \u001b[0;32mexcept\u001b[0m \u001b[0mException\u001b[0m \u001b[0;32mas\u001b[0m \u001b[0me\u001b[0m\u001b[0;34m:\u001b[0m\u001b[0;34m\u001b[0m\u001b[0m\n\u001b[1;32m    143\u001b[0m                     \u001b[0mlogger\u001b[0m\u001b[0;34m.\u001b[0m\u001b[0minfo\u001b[0m\u001b[0;34m(\u001b[0m\u001b[0;34m'job exception: %s'\u001b[0m \u001b[0;34m%\u001b[0m \u001b[0mstr\u001b[0m\u001b[0;34m(\u001b[0m\u001b[0me\u001b[0m\u001b[0;34m)\u001b[0m\u001b[0;34m)\u001b[0m\u001b[0;34m\u001b[0m\u001b[0m\n",
      "\u001b[0;32m/media/DATA/anaconda3/envs/thriai/lib/python3.6/site-packages/hyperopt/base.py\u001b[0m in \u001b[0;36mevaluate\u001b[0;34m(self, config, ctrl, attach_attachments)\u001b[0m\n\u001b[1;32m    854\u001b[0m                 \u001b[0mmemo\u001b[0m\u001b[0;34m=\u001b[0m\u001b[0mmemo\u001b[0m\u001b[0;34m,\u001b[0m\u001b[0;34m\u001b[0m\u001b[0m\n\u001b[1;32m    855\u001b[0m                 print_node_on_error=self.rec_eval_print_node_on_error)\n\u001b[0;32m--> 856\u001b[0;31m             \u001b[0mrval\u001b[0m \u001b[0;34m=\u001b[0m \u001b[0mself\u001b[0m\u001b[0;34m.\u001b[0m\u001b[0mfn\u001b[0m\u001b[0;34m(\u001b[0m\u001b[0mpyll_rval\u001b[0m\u001b[0;34m)\u001b[0m\u001b[0;34m\u001b[0m\u001b[0m\n\u001b[0m\u001b[1;32m    857\u001b[0m \u001b[0;34m\u001b[0m\u001b[0m\n\u001b[1;32m    858\u001b[0m         \u001b[0;32mif\u001b[0m \u001b[0misinstance\u001b[0m\u001b[0;34m(\u001b[0m\u001b[0mrval\u001b[0m\u001b[0;34m,\u001b[0m \u001b[0;34m(\u001b[0m\u001b[0mfloat\u001b[0m\u001b[0;34m,\u001b[0m \u001b[0mint\u001b[0m\u001b[0;34m,\u001b[0m \u001b[0mnp\u001b[0m\u001b[0;34m.\u001b[0m\u001b[0mnumber\u001b[0m\u001b[0;34m)\u001b[0m\u001b[0;34m)\u001b[0m\u001b[0;34m:\u001b[0m\u001b[0;34m\u001b[0m\u001b[0m\n",
      "\u001b[0;32m<ipython-input-286-fbf4b60377fe>\u001b[0m in \u001b[0;36mobjective\u001b[0;34m(params, n_folds)\u001b[0m\n\u001b[1;32m     26\u001b[0m \u001b[0;34m\u001b[0m\u001b[0m\n\u001b[1;32m     27\u001b[0m     \u001b[0;31m# Perform n_folds cross validation\u001b[0m\u001b[0;34m\u001b[0m\u001b[0;34m\u001b[0m\u001b[0m\n\u001b[0;32m---> 28\u001b[0;31m     \u001b[0mcv_results\u001b[0m \u001b[0;34m=\u001b[0m \u001b[0mperform_cv_lightgbm\u001b[0m\u001b[0;34m(\u001b[0m\u001b[0mdf_train\u001b[0m\u001b[0;34m,\u001b[0m \u001b[0mchosen_features\u001b[0m\u001b[0;34m,\u001b[0m \u001b[0mparams\u001b[0m\u001b[0;34m=\u001b[0m\u001b[0mparams\u001b[0m\u001b[0;34m,\u001b[0m \u001b[0mearly_stopping_rounds\u001b[0m\u001b[0;34m=\u001b[0m\u001b[0;36m1\u001b[0m\u001b[0;34m,\u001b[0m \u001b[0mn_folds\u001b[0m\u001b[0;34m=\u001b[0m\u001b[0;36m2\u001b[0m\u001b[0;34m)\u001b[0m\u001b[0;34m\u001b[0m\u001b[0m\n\u001b[0m\u001b[1;32m     29\u001b[0m     \u001b[0;31m# lgb.cv(params, train_set, num_boost_round = 10000, nfold = n_folds,\u001b[0m\u001b[0;34m\u001b[0m\u001b[0;34m\u001b[0m\u001b[0m\n\u001b[1;32m     30\u001b[0m     \u001b[0;31m#                    early_stopping_rounds = 100, metrics = 'auc', seed = 50)\u001b[0m\u001b[0;34m\u001b[0m\u001b[0;34m\u001b[0m\u001b[0m\n",
      "\u001b[0;32m/media/DATA/zalo-hit-song-prediction/src/hyper_sweep/baseline5_for_sweep.py\u001b[0m in \u001b[0;36mperform_cv_lightgbm\u001b[0;34m(df_train, chosen_features, params, early_stopping_rounds, n_folds)\u001b[0m\n\u001b[1;32m     92\u001b[0m         \u001b[0martist_lookup_table\u001b[0m \u001b[0;34m=\u001b[0m \u001b[0mcreate_artist_score_lookup_table\u001b[0m\u001b[0;34m(\u001b[0m\u001b[0mdf_train\u001b[0m\u001b[0;34m.\u001b[0m\u001b[0miloc\u001b[0m\u001b[0;34m[\u001b[0m\u001b[0mtrn_idx\u001b[0m\u001b[0;34m]\u001b[0m\u001b[0;34m)\u001b[0m\u001b[0;34m\u001b[0m\u001b[0m\n\u001b[1;32m     93\u001b[0m         df_train[\"predicted_label\"] = [assign_value_redesigned(album_lookup_table, artist_lookup_table, r) for i, r in\n\u001b[0;32m---> 94\u001b[0;31m                                        df_train.iterrows()]\n\u001b[0m\u001b[1;32m     95\u001b[0m         \u001b[0;31m#df_test[\"predicted_label\"] = [assign_value_redesigned(album_lookup_table, artist_lookup_table, r) for i, r in\u001b[0m\u001b[0;34m\u001b[0m\u001b[0;34m\u001b[0m\u001b[0m\n\u001b[1;32m     96\u001b[0m         \u001b[0;31m#                              df_test.iterrows()]\u001b[0m\u001b[0;34m\u001b[0m\u001b[0;34m\u001b[0m\u001b[0m\n",
      "\u001b[0;32m/media/DATA/zalo-hit-song-prediction/src/hyper_sweep/baseline5_for_sweep.py\u001b[0m in \u001b[0;36m<listcomp>\u001b[0;34m(.0)\u001b[0m\n\u001b[1;32m     91\u001b[0m         \u001b[0malbum_lookup_table\u001b[0m \u001b[0;34m=\u001b[0m \u001b[0mcreate_album_score_lookup_table\u001b[0m\u001b[0;34m(\u001b[0m\u001b[0mdf_train\u001b[0m\u001b[0;34m.\u001b[0m\u001b[0miloc\u001b[0m\u001b[0;34m[\u001b[0m\u001b[0mtrn_idx\u001b[0m\u001b[0;34m]\u001b[0m\u001b[0;34m)\u001b[0m\u001b[0;34m\u001b[0m\u001b[0m\n\u001b[1;32m     92\u001b[0m         \u001b[0martist_lookup_table\u001b[0m \u001b[0;34m=\u001b[0m \u001b[0mcreate_artist_score_lookup_table\u001b[0m\u001b[0;34m(\u001b[0m\u001b[0mdf_train\u001b[0m\u001b[0;34m.\u001b[0m\u001b[0miloc\u001b[0m\u001b[0;34m[\u001b[0m\u001b[0mtrn_idx\u001b[0m\u001b[0;34m]\u001b[0m\u001b[0;34m)\u001b[0m\u001b[0;34m\u001b[0m\u001b[0m\n\u001b[0;32m---> 93\u001b[0;31m         df_train[\"predicted_label\"] = [assign_value_redesigned(album_lookup_table, artist_lookup_table, r) for i, r in\n\u001b[0m\u001b[1;32m     94\u001b[0m                                        df_train.iterrows()]\n\u001b[1;32m     95\u001b[0m         \u001b[0;31m#df_test[\"predicted_label\"] = [assign_value_redesigned(album_lookup_table, artist_lookup_table, r) for i, r in\u001b[0m\u001b[0;34m\u001b[0m\u001b[0;34m\u001b[0m\u001b[0m\n",
      "\u001b[0;32m/media/DATA/zalo-hit-song-prediction/src/hyper_sweep/format_features.py\u001b[0m in \u001b[0;36massign_value_redesigned\u001b[0;34m(album_table, artist_table, row)\u001b[0m\n\u001b[1;32m    419\u001b[0m     \u001b[0;32mand\u001b[0m \u001b[0martist_mean_id\u001b[0m \u001b[0;34m(\u001b[0m\u001b[0mThe\u001b[0m \u001b[0mbest\u001b[0m \u001b[0mscoring\u001b[0m \u001b[0mID\u001b[0m \u001b[0mamongst\u001b[0m \u001b[0martists\u001b[0m \u001b[0;32mfor\u001b[0m \u001b[0mthat\u001b[0m \u001b[0msong\u001b[0m\u001b[0;34m)\u001b[0m\u001b[0;34m\u001b[0m\u001b[0m\n\u001b[1;32m    420\u001b[0m     '''\n\u001b[0;32m--> 421\u001b[0;31m     \u001b[0malbum_rank_stats\u001b[0m\u001b[0;34m,\u001b[0m \u001b[0malbum_not_found\u001b[0m \u001b[0;34m=\u001b[0m \u001b[0mget_value_by_key\u001b[0m\u001b[0;34m(\u001b[0m\u001b[0malbum_table\u001b[0m\u001b[0;34m,\u001b[0m \u001b[0mrow\u001b[0m\u001b[0;34m.\u001b[0m\u001b[0malbum_right\u001b[0m\u001b[0;34m)\u001b[0m\u001b[0;34m\u001b[0m\u001b[0m\n\u001b[0m\u001b[1;32m    422\u001b[0m     \u001b[0martist_rank_stats\u001b[0m\u001b[0;34m,\u001b[0m \u001b[0martist_not_found\u001b[0m \u001b[0;34m=\u001b[0m \u001b[0mget_value_by_key\u001b[0m\u001b[0;34m(\u001b[0m\u001b[0martist_table\u001b[0m\u001b[0;34m,\u001b[0m \u001b[0mrow\u001b[0m\u001b[0;34m.\u001b[0m\u001b[0martist_mean_id\u001b[0m\u001b[0;34m)\u001b[0m\u001b[0;34m\u001b[0m\u001b[0m\n\u001b[1;32m    423\u001b[0m \u001b[0;34m\u001b[0m\u001b[0m\n",
      "\u001b[0;32m/media/DATA/zalo-hit-song-prediction/src/hyper_sweep/format_features.py\u001b[0m in \u001b[0;36mget_value_by_key\u001b[0;34m(table, k)\u001b[0m\n\u001b[1;32m    409\u001b[0m     \u001b[0;31m# Else return np.nan and True to represent unavailable\u001b[0m\u001b[0;34m\u001b[0m\u001b[0;34m\u001b[0m\u001b[0m\n\u001b[1;32m    410\u001b[0m     \u001b[0;32mif\u001b[0m \u001b[0mk\u001b[0m \u001b[0;32min\u001b[0m \u001b[0mtable\u001b[0m\u001b[0;34m.\u001b[0m\u001b[0mindex\u001b[0m\u001b[0;34m:\u001b[0m\u001b[0;34m\u001b[0m\u001b[0m\n\u001b[0;32m--> 411\u001b[0;31m         \u001b[0;32mreturn\u001b[0m \u001b[0mtable\u001b[0m\u001b[0;34m.\u001b[0m\u001b[0mloc\u001b[0m\u001b[0;34m[\u001b[0m\u001b[0mk\u001b[0m\u001b[0;34m]\u001b[0m\u001b[0;34m,\u001b[0m \u001b[0;32mFalse\u001b[0m\u001b[0;34m\u001b[0m\u001b[0m\n\u001b[0m\u001b[1;32m    412\u001b[0m     \u001b[0;32mreturn\u001b[0m \u001b[0mnp\u001b[0m\u001b[0;34m.\u001b[0m\u001b[0mnan\u001b[0m\u001b[0;34m,\u001b[0m \u001b[0;32mTrue\u001b[0m\u001b[0;34m\u001b[0m\u001b[0m\n\u001b[1;32m    413\u001b[0m \u001b[0;34m\u001b[0m\u001b[0m\n",
      "\u001b[0;32m/media/DATA/anaconda3/envs/thriai/lib/python3.6/site-packages/pandas/core/indexing.py\u001b[0m in \u001b[0;36m__getitem__\u001b[0;34m(self, key)\u001b[0m\n\u001b[1;32m   1476\u001b[0m \u001b[0;34m\u001b[0m\u001b[0m\n\u001b[1;32m   1477\u001b[0m             \u001b[0mmaybe_callable\u001b[0m \u001b[0;34m=\u001b[0m \u001b[0mcom\u001b[0m\u001b[0;34m.\u001b[0m\u001b[0m_apply_if_callable\u001b[0m\u001b[0;34m(\u001b[0m\u001b[0mkey\u001b[0m\u001b[0;34m,\u001b[0m \u001b[0mself\u001b[0m\u001b[0;34m.\u001b[0m\u001b[0mobj\u001b[0m\u001b[0;34m)\u001b[0m\u001b[0;34m\u001b[0m\u001b[0m\n\u001b[0;32m-> 1478\u001b[0;31m             \u001b[0;32mreturn\u001b[0m \u001b[0mself\u001b[0m\u001b[0;34m.\u001b[0m\u001b[0m_getitem_axis\u001b[0m\u001b[0;34m(\u001b[0m\u001b[0mmaybe_callable\u001b[0m\u001b[0;34m,\u001b[0m \u001b[0maxis\u001b[0m\u001b[0;34m=\u001b[0m\u001b[0maxis\u001b[0m\u001b[0;34m)\u001b[0m\u001b[0;34m\u001b[0m\u001b[0m\n\u001b[0m\u001b[1;32m   1479\u001b[0m \u001b[0;34m\u001b[0m\u001b[0m\n\u001b[1;32m   1480\u001b[0m     \u001b[0;32mdef\u001b[0m \u001b[0m_is_scalar_access\u001b[0m\u001b[0;34m(\u001b[0m\u001b[0mself\u001b[0m\u001b[0;34m,\u001b[0m \u001b[0mkey\u001b[0m\u001b[0;34m)\u001b[0m\u001b[0;34m:\u001b[0m\u001b[0;34m\u001b[0m\u001b[0m\n",
      "\u001b[0;32m/media/DATA/anaconda3/envs/thriai/lib/python3.6/site-packages/pandas/core/indexing.py\u001b[0m in \u001b[0;36m_getitem_axis\u001b[0;34m(self, key, axis)\u001b[0m\n\u001b[1;32m   1910\u001b[0m         \u001b[0;31m# fall thru to straight lookup\u001b[0m\u001b[0;34m\u001b[0m\u001b[0;34m\u001b[0m\u001b[0m\n\u001b[1;32m   1911\u001b[0m         \u001b[0mself\u001b[0m\u001b[0;34m.\u001b[0m\u001b[0m_validate_key\u001b[0m\u001b[0;34m(\u001b[0m\u001b[0mkey\u001b[0m\u001b[0;34m,\u001b[0m \u001b[0maxis\u001b[0m\u001b[0;34m)\u001b[0m\u001b[0;34m\u001b[0m\u001b[0m\n\u001b[0;32m-> 1912\u001b[0;31m         \u001b[0;32mreturn\u001b[0m \u001b[0mself\u001b[0m\u001b[0;34m.\u001b[0m\u001b[0m_get_label\u001b[0m\u001b[0;34m(\u001b[0m\u001b[0mkey\u001b[0m\u001b[0;34m,\u001b[0m \u001b[0maxis\u001b[0m\u001b[0;34m=\u001b[0m\u001b[0maxis\u001b[0m\u001b[0;34m)\u001b[0m\u001b[0;34m\u001b[0m\u001b[0m\n\u001b[0m\u001b[1;32m   1913\u001b[0m \u001b[0;34m\u001b[0m\u001b[0m\n\u001b[1;32m   1914\u001b[0m \u001b[0;34m\u001b[0m\u001b[0m\n",
      "\u001b[0;32m/media/DATA/anaconda3/envs/thriai/lib/python3.6/site-packages/pandas/core/indexing.py\u001b[0m in \u001b[0;36m_get_label\u001b[0;34m(self, label, axis)\u001b[0m\n\u001b[1;32m    138\u001b[0m             \u001b[0;32mraise\u001b[0m \u001b[0mIndexingError\u001b[0m\u001b[0;34m(\u001b[0m\u001b[0;34m'no slices here, handle elsewhere'\u001b[0m\u001b[0;34m)\u001b[0m\u001b[0;34m\u001b[0m\u001b[0m\n\u001b[1;32m    139\u001b[0m \u001b[0;34m\u001b[0m\u001b[0m\n\u001b[0;32m--> 140\u001b[0;31m         \u001b[0;32mreturn\u001b[0m \u001b[0mself\u001b[0m\u001b[0;34m.\u001b[0m\u001b[0mobj\u001b[0m\u001b[0;34m.\u001b[0m\u001b[0m_xs\u001b[0m\u001b[0;34m(\u001b[0m\u001b[0mlabel\u001b[0m\u001b[0;34m,\u001b[0m \u001b[0maxis\u001b[0m\u001b[0;34m=\u001b[0m\u001b[0maxis\u001b[0m\u001b[0;34m)\u001b[0m\u001b[0;34m\u001b[0m\u001b[0m\n\u001b[0m\u001b[1;32m    141\u001b[0m \u001b[0;34m\u001b[0m\u001b[0m\n\u001b[1;32m    142\u001b[0m     \u001b[0;32mdef\u001b[0m \u001b[0m_get_loc\u001b[0m\u001b[0;34m(\u001b[0m\u001b[0mself\u001b[0m\u001b[0;34m,\u001b[0m \u001b[0mkey\u001b[0m\u001b[0;34m,\u001b[0m \u001b[0maxis\u001b[0m\u001b[0;34m=\u001b[0m\u001b[0;32mNone\u001b[0m\u001b[0;34m)\u001b[0m\u001b[0;34m:\u001b[0m\u001b[0;34m\u001b[0m\u001b[0m\n",
      "\u001b[0;32m/media/DATA/anaconda3/envs/thriai/lib/python3.6/site-packages/pandas/core/generic.py\u001b[0m in \u001b[0;36mxs\u001b[0;34m(self, key, axis, level, drop_level)\u001b[0m\n\u001b[1;32m   2998\u001b[0m \u001b[0;34m\u001b[0m\u001b[0m\n\u001b[1;32m   2999\u001b[0m         \u001b[0;32mif\u001b[0m \u001b[0mis_scalar\u001b[0m\u001b[0;34m(\u001b[0m\u001b[0mloc\u001b[0m\u001b[0;34m)\u001b[0m\u001b[0;34m:\u001b[0m\u001b[0;34m\u001b[0m\u001b[0m\n\u001b[0;32m-> 3000\u001b[0;31m             \u001b[0mnew_values\u001b[0m \u001b[0;34m=\u001b[0m \u001b[0mself\u001b[0m\u001b[0;34m.\u001b[0m\u001b[0m_data\u001b[0m\u001b[0;34m.\u001b[0m\u001b[0mfast_xs\u001b[0m\u001b[0;34m(\u001b[0m\u001b[0mloc\u001b[0m\u001b[0;34m)\u001b[0m\u001b[0;34m\u001b[0m\u001b[0m\n\u001b[0m\u001b[1;32m   3001\u001b[0m \u001b[0;34m\u001b[0m\u001b[0m\n\u001b[1;32m   3002\u001b[0m             \u001b[0;31m# may need to box a datelike-scalar\u001b[0m\u001b[0;34m\u001b[0m\u001b[0;34m\u001b[0m\u001b[0m\n",
      "\u001b[0;32m/media/DATA/anaconda3/envs/thriai/lib/python3.6/site-packages/pandas/core/internals.py\u001b[0m in \u001b[0;36mfast_xs\u001b[0;34m(self, loc)\u001b[0m\n\u001b[1;32m   4072\u001b[0m \u001b[0;34m\u001b[0m\u001b[0m\n\u001b[1;32m   4073\u001b[0m         \u001b[0;31m# unique\u001b[0m\u001b[0;34m\u001b[0m\u001b[0;34m\u001b[0m\u001b[0m\n\u001b[0;32m-> 4074\u001b[0;31m         \u001b[0mdtype\u001b[0m \u001b[0;34m=\u001b[0m \u001b[0m_interleaved_dtype\u001b[0m\u001b[0;34m(\u001b[0m\u001b[0mself\u001b[0m\u001b[0;34m.\u001b[0m\u001b[0mblocks\u001b[0m\u001b[0;34m)\u001b[0m\u001b[0;34m\u001b[0m\u001b[0m\n\u001b[0m\u001b[1;32m   4075\u001b[0m         \u001b[0mn\u001b[0m \u001b[0;34m=\u001b[0m \u001b[0mlen\u001b[0m\u001b[0;34m(\u001b[0m\u001b[0mitems\u001b[0m\u001b[0;34m)\u001b[0m\u001b[0;34m\u001b[0m\u001b[0m\n\u001b[1;32m   4076\u001b[0m         \u001b[0mresult\u001b[0m \u001b[0;34m=\u001b[0m \u001b[0mnp\u001b[0m\u001b[0;34m.\u001b[0m\u001b[0mempty\u001b[0m\u001b[0;34m(\u001b[0m\u001b[0mn\u001b[0m\u001b[0;34m,\u001b[0m \u001b[0mdtype\u001b[0m\u001b[0;34m=\u001b[0m\u001b[0mdtype\u001b[0m\u001b[0;34m)\u001b[0m\u001b[0;34m\u001b[0m\u001b[0m\n",
      "\u001b[0;32m/media/DATA/anaconda3/envs/thriai/lib/python3.6/site-packages/pandas/core/internals.py\u001b[0m in \u001b[0;36m_interleaved_dtype\u001b[0;34m(blocks)\u001b[0m\n\u001b[1;32m   5046\u001b[0m         \u001b[0;32mreturn\u001b[0m \u001b[0;32mNone\u001b[0m\u001b[0;34m\u001b[0m\u001b[0m\n\u001b[1;32m   5047\u001b[0m \u001b[0;34m\u001b[0m\u001b[0m\n\u001b[0;32m-> 5048\u001b[0;31m     \u001b[0mdtype\u001b[0m \u001b[0;34m=\u001b[0m \u001b[0mfind_common_type\u001b[0m\u001b[0;34m(\u001b[0m\u001b[0;34m[\u001b[0m\u001b[0mb\u001b[0m\u001b[0;34m.\u001b[0m\u001b[0mdtype\u001b[0m \u001b[0;32mfor\u001b[0m \u001b[0mb\u001b[0m \u001b[0;32min\u001b[0m \u001b[0mblocks\u001b[0m\u001b[0;34m]\u001b[0m\u001b[0;34m)\u001b[0m\u001b[0;34m\u001b[0m\u001b[0m\n\u001b[0m\u001b[1;32m   5049\u001b[0m \u001b[0;34m\u001b[0m\u001b[0m\n\u001b[1;32m   5050\u001b[0m     \u001b[0;31m# only numpy compat\u001b[0m\u001b[0;34m\u001b[0m\u001b[0;34m\u001b[0m\u001b[0m\n",
      "\u001b[0;32m/media/DATA/anaconda3/envs/thriai/lib/python3.6/site-packages/pandas/core/dtypes/cast.py\u001b[0m in \u001b[0;36mfind_common_type\u001b[0;34m(types)\u001b[0m\n\u001b[1;32m   1131\u001b[0m     \u001b[0;31m# don't mix bool / int or float or complex\u001b[0m\u001b[0;34m\u001b[0m\u001b[0;34m\u001b[0m\u001b[0m\n\u001b[1;32m   1132\u001b[0m     \u001b[0;31m# this is different from numpy, which casts bool with float/int as int\u001b[0m\u001b[0;34m\u001b[0m\u001b[0;34m\u001b[0m\u001b[0m\n\u001b[0;32m-> 1133\u001b[0;31m     \u001b[0mhas_bools\u001b[0m \u001b[0;34m=\u001b[0m \u001b[0many\u001b[0m\u001b[0;34m(\u001b[0m\u001b[0mis_bool_dtype\u001b[0m\u001b[0;34m(\u001b[0m\u001b[0mt\u001b[0m\u001b[0;34m)\u001b[0m \u001b[0;32mfor\u001b[0m \u001b[0mt\u001b[0m \u001b[0;32min\u001b[0m \u001b[0mtypes\u001b[0m\u001b[0;34m)\u001b[0m\u001b[0;34m\u001b[0m\u001b[0m\n\u001b[0m\u001b[1;32m   1134\u001b[0m     \u001b[0;32mif\u001b[0m \u001b[0mhas_bools\u001b[0m\u001b[0;34m:\u001b[0m\u001b[0;34m\u001b[0m\u001b[0m\n\u001b[1;32m   1135\u001b[0m         \u001b[0mhas_ints\u001b[0m \u001b[0;34m=\u001b[0m \u001b[0many\u001b[0m\u001b[0;34m(\u001b[0m\u001b[0mis_integer_dtype\u001b[0m\u001b[0;34m(\u001b[0m\u001b[0mt\u001b[0m\u001b[0;34m)\u001b[0m \u001b[0;32mfor\u001b[0m \u001b[0mt\u001b[0m \u001b[0;32min\u001b[0m \u001b[0mtypes\u001b[0m\u001b[0;34m)\u001b[0m\u001b[0;34m\u001b[0m\u001b[0m\n",
      "\u001b[0;32m/media/DATA/anaconda3/envs/thriai/lib/python3.6/site-packages/pandas/core/dtypes/cast.py\u001b[0m in \u001b[0;36m<genexpr>\u001b[0;34m(.0)\u001b[0m\n\u001b[1;32m   1131\u001b[0m     \u001b[0;31m# don't mix bool / int or float or complex\u001b[0m\u001b[0;34m\u001b[0m\u001b[0;34m\u001b[0m\u001b[0m\n\u001b[1;32m   1132\u001b[0m     \u001b[0;31m# this is different from numpy, which casts bool with float/int as int\u001b[0m\u001b[0;34m\u001b[0m\u001b[0;34m\u001b[0m\u001b[0m\n\u001b[0;32m-> 1133\u001b[0;31m     \u001b[0mhas_bools\u001b[0m \u001b[0;34m=\u001b[0m \u001b[0many\u001b[0m\u001b[0;34m(\u001b[0m\u001b[0mis_bool_dtype\u001b[0m\u001b[0;34m(\u001b[0m\u001b[0mt\u001b[0m\u001b[0;34m)\u001b[0m \u001b[0;32mfor\u001b[0m \u001b[0mt\u001b[0m \u001b[0;32min\u001b[0m \u001b[0mtypes\u001b[0m\u001b[0;34m)\u001b[0m\u001b[0;34m\u001b[0m\u001b[0m\n\u001b[0m\u001b[1;32m   1134\u001b[0m     \u001b[0;32mif\u001b[0m \u001b[0mhas_bools\u001b[0m\u001b[0;34m:\u001b[0m\u001b[0;34m\u001b[0m\u001b[0m\n\u001b[1;32m   1135\u001b[0m         \u001b[0mhas_ints\u001b[0m \u001b[0;34m=\u001b[0m \u001b[0many\u001b[0m\u001b[0;34m(\u001b[0m\u001b[0mis_integer_dtype\u001b[0m\u001b[0;34m(\u001b[0m\u001b[0mt\u001b[0m\u001b[0;34m)\u001b[0m \u001b[0;32mfor\u001b[0m \u001b[0mt\u001b[0m \u001b[0;32min\u001b[0m \u001b[0mtypes\u001b[0m\u001b[0;34m)\u001b[0m\u001b[0;34m\u001b[0m\u001b[0m\n",
      "\u001b[0;31mKeyboardInterrupt\u001b[0m: "
     ]
    }
   ],
   "source": [
    "\n",
    "from hyperopt import fmin\n",
    "\n",
    "# Trials object to track progress\n",
    "bayes_trials = Trials()\n",
    "# Algorithm\n",
    "tpe_algorithm = tpe.suggest\n",
    "# File to save first results\n",
    "out_file = 'gbm_trials.csv'\n",
    "of_connection = open(out_file, 'w')\n",
    "writer = csv.writer(of_connection)\n",
    "# Write the headers to the file\n",
    "writer.writerow(['loss', 'params', 'iteration', 'rmse_std', 'best_stopping_iter',\n",
    "                 'best_stopping_iter_mean', 'best_stopping_iter_std', 'train_time', 'status'])\n",
    "    \n",
    "of_connection.close()\n",
    "\n",
    "# Global variable\n",
    "global  ITERATION\n",
    "\n",
    "ITERATION = 0\n",
    "\n",
    "MAX_EVALS = 10\n",
    "\n",
    "# Optimize\n",
    "best = fmin(fn = objective, \n",
    "            space = space, \n",
    "            algo = tpe.suggest, \n",
    "            max_evals = MAX_EVALS, \n",
    "            trials = bayes_trials)"
   ]
  },
  {
   "cell_type": "code",
   "execution_count": 45,
   "metadata": {},
   "outputs": [
    {
     "name": "stdout",
     "output_type": "stream",
     "text": [
      "\u001b[2m\u001b[36m(pid=7670)\u001b[0m Mean val RMSE 1.8037 +/- 0.0554\n",
      "\u001b[2m\u001b[36m(pid=7670)\u001b[0m The number of best number of iterations was: 1455.6 +/- 394.9514400530779\n",
      "== Status ==\n",
      "Using AsyncHyperBand: num_stopped=0\n",
      "Bracket: Iter 64.000: None | Iter 16.000: None | Iter 4.000: None | Iter 1.000: None\n",
      "Resources requested: 0/8 CPUs, 0/1 GPUs, 0.0/1.46 GiB heap, 0.0/0.49 GiB objects\n",
      "Memory usage on this node: 13.1/15.6 GiB\n",
      "\n"
     ]
    },
    {
     "name": "stderr",
     "output_type": "stream",
     "text": [
      "2019-11-26 10:50:13,592\tWARNING worker.py:1619 -- Warning: The actor WrappedFunc has size 17142982 when pickled. It will be stored in Redis, which could cause memory issues. This may mean that its definition uses a large array or other object.\n"
     ]
    },
    {
     "name": "stdout",
     "output_type": "stream",
     "text": [
      "== Status ==\n",
      "Using AsyncHyperBand: num_stopped=0\n",
      "Bracket: Iter 64.000: None | Iter 16.000: None | Iter 4.000: None | Iter 1.000: None\n",
      "Resources requested: 1/8 CPUs, 0/1 GPUs, 0.0/1.46 GiB heap, 0.0/0.49 GiB objects\n",
      "Memory usage on this node: 13.2/15.6 GiB\n",
      "Result logdir: /home/ben/ray_results/hyperband_test3\n",
      "Number of trials: 1 ({'RUNNING': 1})\n",
      "RUNNING trials:\n",
      " - objective_1_gbdt=0.99087,gbdt=23,boost_from_average=false,boosting_type=gbdt,subsample=0.63636,class_weight=balanced,colsample_bytree=0.88794,feature_fraction=0.062492,iterations=1,learning_rate=0.049527,max_depth=-1,metric=root_mean_squared_error,min_child_samples=19,min_data_in_leaf=13,num_leaves=87,num_threads=1,objective=regression,reg_alpha=0.33822,reg_lambda=0.63667,seed=99999,subsample_for_bin=6,tree_learner=serial,use_missing=True,verbosity=1:\tRUNNING\n",
      "\n",
      "\u001b[2m\u001b[36m(pid=7671)\u001b[0m /media/DATA/anaconda3/envs/thriai/lib/python3.6/site-packages/sklearn/externals/joblib/__init__.py:15: DeprecationWarning: sklearn.externals.joblib is deprecated in 0.21 and will be removed in 0.23. Please import this functionality directly from joblib, which can be installed with: pip install joblib. If this warning is raised when loading pickled models, you may need to re-serialize those models with scikit-learn 0.21+.\n",
      "\u001b[2m\u001b[36m(pid=7671)\u001b[0m   warnings.warn(msg, category=DeprecationWarning)\n",
      "\u001b[2m\u001b[36m(pid=7671)\u001b[0m /media/DATA/anaconda3/envs/thriai/lib/python3.6/site-packages/sklearn/model_selection/_split.py:657: Warning: The least populated class in y has only 1 members, which is too few. The minimum number of members in any class cannot be less than n_splits=5.\n",
      "\u001b[2m\u001b[36m(pid=7671)\u001b[0m   % (min_groups, self.n_splits)), Warning)\n",
      "\u001b[2m\u001b[36m(pid=7671)\u001b[0m Fold 0\n",
      "\u001b[2m\u001b[36m(pid=7671)\u001b[0m [LightGBM] [Warning] Unknown parameter: class_weight\n",
      "\u001b[2m\u001b[36m(pid=7671)\u001b[0m [LightGBM] [Warning] Unknown parameter: iterations\n",
      "\u001b[2m\u001b[36m(pid=7671)\u001b[0m [LightGBM] [Warning] min_data_in_leaf is set=13, min_child_samples=19 will be ignored. Current value: min_data_in_leaf=13\n",
      "\u001b[2m\u001b[36m(pid=7671)\u001b[0m [LightGBM] [Warning] feature_fraction is set=0.062491969145098004, colsample_bytree=0.8879377622456881 will be ignored. Current value: feature_fraction=0.062491969145098004\n",
      "\u001b[2m\u001b[36m(pid=7671)\u001b[0m [LightGBM] [Warning] bagging_fraction is set=0.9908743310770062, subsample=0.6363600788887684 will be ignored. Current value: bagging_fraction=0.9908743310770062\n",
      "\u001b[2m\u001b[36m(pid=7671)\u001b[0m [LightGBM] [Warning] verbosity is set=1, verbose=-1 will be ignored. Current value: verbosity=1\n",
      "\u001b[2m\u001b[36m(pid=7671)\u001b[0m [LightGBM] [Warning] Met categorical feature which contains sparse values. Consider renumbering to consecutive integers started from zero\n",
      "\u001b[2m\u001b[36m(pid=7671)\u001b[0m [LightGBM] [Warning] Met categorical feature which contains sparse values. Consider renumbering to consecutive integers started from zero\n",
      "\u001b[2m\u001b[36m(pid=7671)\u001b[0m [LightGBM] [Warning] Met categorical feature which contains sparse values. Consider renumbering to consecutive integers started from zero\n",
      "\u001b[2m\u001b[36m(pid=7671)\u001b[0m [LightGBM] [Warning] Unknown parameter: class_weight\n",
      "\u001b[2m\u001b[36m(pid=7671)\u001b[0m [LightGBM] [Warning] Unknown parameter: iterations\n",
      "\u001b[2m\u001b[36m(pid=7671)\u001b[0m [LightGBM] [Warning] bagging_fraction is set=0.9908743310770062, subsample=0.6363600788887684 will be ignored. Current value: bagging_fraction=0.9908743310770062\n",
      "\u001b[2m\u001b[36m(pid=7671)\u001b[0m [LightGBM] [Warning] feature_fraction is set=0.062491969145098004, colsample_bytree=0.8879377622456881 will be ignored. Current value: feature_fraction=0.062491969145098004\n",
      "\u001b[2m\u001b[36m(pid=7671)\u001b[0m [LightGBM] [Warning] min_data_in_leaf is set=13, min_child_samples=19 will be ignored. Current value: min_data_in_leaf=13\n",
      "\u001b[2m\u001b[36m(pid=7671)\u001b[0m [LightGBM] [Info] Total Bins 115\n",
      "\u001b[2m\u001b[36m(pid=7671)\u001b[0m [LightGBM] [Info] Number of data: 7020, number of used features: 43\n",
      "\u001b[2m\u001b[36m(pid=7671)\u001b[0m [LightGBM] [Warning] Unknown parameter: class_weight\n",
      "\u001b[2m\u001b[36m(pid=7671)\u001b[0m [LightGBM] [Warning] Unknown parameter: iterations\n",
      "\u001b[2m\u001b[36m(pid=7671)\u001b[0m [LightGBM] [Warning] min_data_in_leaf is set=13, min_child_samples=19 will be ignored. Current value: min_data_in_leaf=13\n",
      "\u001b[2m\u001b[36m(pid=7671)\u001b[0m [LightGBM] [Warning] feature_fraction is set=0.062491969145098004, colsample_bytree=0.8879377622456881 will be ignored. Current value: feature_fraction=0.062491969145098004\n",
      "\u001b[2m\u001b[36m(pid=7671)\u001b[0m [LightGBM] [Warning] bagging_fraction is set=0.9908743310770062, subsample=0.6363600788887684 will be ignored. Current value: bagging_fraction=0.9908743310770062\n",
      "\u001b[2m\u001b[36m(pid=7671)\u001b[0m [LightGBM] [Warning] verbosity is set=1, verbose=-1 will be ignored. Current value: verbosity=1\n",
      "\u001b[2m\u001b[36m(pid=7671)\u001b[0m Training until validation scores don't improve for 100 rounds\n",
      "\u001b[2m\u001b[36m(pid=7671)\u001b[0m Early stopping, best iteration is:\n",
      "\u001b[2m\u001b[36m(pid=7671)\u001b[0m [2202]\ttraining's rmse: 1.77437\tvalid_1's rmse: 2.03527\n",
      "\u001b[2m\u001b[36m(pid=7671)\u001b[0m Fold 1\n",
      "\u001b[2m\u001b[36m(pid=7671)\u001b[0m [LightGBM] [Warning] Unknown parameter: class_weight\n",
      "\u001b[2m\u001b[36m(pid=7671)\u001b[0m [LightGBM] [Warning] Unknown parameter: iterations\n",
      "\u001b[2m\u001b[36m(pid=7671)\u001b[0m [LightGBM] [Warning] min_data_in_leaf is set=13, min_child_samples=19 will be ignored. Current value: min_data_in_leaf=13\n",
      "\u001b[2m\u001b[36m(pid=7671)\u001b[0m [LightGBM] [Warning] feature_fraction is set=0.062491969145098004, colsample_bytree=0.8879377622456881 will be ignored. Current value: feature_fraction=0.062491969145098004\n",
      "\u001b[2m\u001b[36m(pid=7671)\u001b[0m [LightGBM] [Warning] bagging_fraction is set=0.9908743310770062, subsample=0.6363600788887684 will be ignored. Current value: bagging_fraction=0.9908743310770062\n",
      "\u001b[2m\u001b[36m(pid=7671)\u001b[0m [LightGBM] [Warning] verbosity is set=1, verbose=-1 will be ignored. Current value: verbosity=1\n",
      "\u001b[2m\u001b[36m(pid=7671)\u001b[0m [LightGBM] [Warning] Met categorical feature which contains sparse values. Consider renumbering to consecutive integers started from zero\n",
      "\u001b[2m\u001b[36m(pid=7671)\u001b[0m [LightGBM] [Warning] Met categorical feature which contains sparse values. Consider renumbering to consecutive integers started from zero\n",
      "\u001b[2m\u001b[36m(pid=7671)\u001b[0m [LightGBM] [Warning] Met categorical feature which contains sparse values. Consider renumbering to consecutive integers started from zero\n",
      "\u001b[2m\u001b[36m(pid=7671)\u001b[0m [LightGBM] [Warning] Unknown parameter: class_weight\n",
      "\u001b[2m\u001b[36m(pid=7671)\u001b[0m [LightGBM] [Warning] Unknown parameter: iterations\n",
      "\u001b[2m\u001b[36m(pid=7671)\u001b[0m [LightGBM] [Warning] bagging_fraction is set=0.9908743310770062, subsample=0.6363600788887684 will be ignored. Current value: bagging_fraction=0.9908743310770062\n",
      "\u001b[2m\u001b[36m(pid=7671)\u001b[0m [LightGBM] [Warning] feature_fraction is set=0.062491969145098004, colsample_bytree=0.8879377622456881 will be ignored. Current value: feature_fraction=0.062491969145098004\n",
      "\u001b[2m\u001b[36m(pid=7671)\u001b[0m [LightGBM] [Warning] min_data_in_leaf is set=13, min_child_samples=19 will be ignored. Current value: min_data_in_leaf=13\n",
      "\u001b[2m\u001b[36m(pid=7671)\u001b[0m [LightGBM] [Info] Total Bins 110\n",
      "\u001b[2m\u001b[36m(pid=7671)\u001b[0m [LightGBM] [Info] Number of data: 7141, number of used features: 40\n",
      "\u001b[2m\u001b[36m(pid=7671)\u001b[0m [LightGBM] [Warning] Unknown parameter: class_weight\n",
      "\u001b[2m\u001b[36m(pid=7671)\u001b[0m [LightGBM] [Warning] Unknown parameter: iterations\n",
      "\u001b[2m\u001b[36m(pid=7671)\u001b[0m [LightGBM] [Warning] min_data_in_leaf is set=13, min_child_samples=19 will be ignored. Current value: min_data_in_leaf=13\n",
      "\u001b[2m\u001b[36m(pid=7671)\u001b[0m [LightGBM] [Warning] feature_fraction is set=0.062491969145098004, colsample_bytree=0.8879377622456881 will be ignored. Current value: feature_fraction=0.062491969145098004\n",
      "\u001b[2m\u001b[36m(pid=7671)\u001b[0m [LightGBM] [Warning] bagging_fraction is set=0.9908743310770062, subsample=0.6363600788887684 will be ignored. Current value: bagging_fraction=0.9908743310770062\n",
      "\u001b[2m\u001b[36m(pid=7671)\u001b[0m [LightGBM] [Warning] verbosity is set=1, verbose=-1 will be ignored. Current value: verbosity=1\n",
      "\u001b[2m\u001b[36m(pid=7671)\u001b[0m Training until validation scores don't improve for 100 rounds\n",
      "\u001b[2m\u001b[36m(pid=7671)\u001b[0m Early stopping, best iteration is:\n",
      "\u001b[2m\u001b[36m(pid=7671)\u001b[0m [1914]\ttraining's rmse: 2.12036\tvalid_1's rmse: 2.26919\n",
      "\u001b[2m\u001b[36m(pid=7671)\u001b[0m Fold 2\n",
      "\u001b[2m\u001b[36m(pid=7671)\u001b[0m [LightGBM] [Warning] Unknown parameter: class_weight\n",
      "\u001b[2m\u001b[36m(pid=7671)\u001b[0m [LightGBM] [Warning] Unknown parameter: iterations\n",
      "\u001b[2m\u001b[36m(pid=7671)\u001b[0m [LightGBM] [Warning] min_data_in_leaf is set=13, min_child_samples=19 will be ignored. Current value: min_data_in_leaf=13\n",
      "\u001b[2m\u001b[36m(pid=7671)\u001b[0m [LightGBM] [Warning] feature_fraction is set=0.062491969145098004, colsample_bytree=0.8879377622456881 will be ignored. Current value: feature_fraction=0.062491969145098004\n",
      "\u001b[2m\u001b[36m(pid=7671)\u001b[0m [LightGBM] [Warning] bagging_fraction is set=0.9908743310770062, subsample=0.6363600788887684 will be ignored. Current value: bagging_fraction=0.9908743310770062\n",
      "\u001b[2m\u001b[36m(pid=7671)\u001b[0m [LightGBM] [Warning] verbosity is set=1, verbose=-1 will be ignored. Current value: verbosity=1\n",
      "\u001b[2m\u001b[36m(pid=7671)\u001b[0m [LightGBM] [Warning] Met categorical feature which contains sparse values. Consider renumbering to consecutive integers started from zero\n",
      "\u001b[2m\u001b[36m(pid=7671)\u001b[0m [LightGBM] [Warning] Met categorical feature which contains sparse values. Consider renumbering to consecutive integers started from zero\n",
      "\u001b[2m\u001b[36m(pid=7671)\u001b[0m [LightGBM] [Warning] Met categorical feature which contains sparse values. Consider renumbering to consecutive integers started from zero\n",
      "\u001b[2m\u001b[36m(pid=7671)\u001b[0m [LightGBM] [Warning] Unknown parameter: class_weight\n",
      "\u001b[2m\u001b[36m(pid=7671)\u001b[0m [LightGBM] [Warning] Unknown parameter: iterations\n",
      "\u001b[2m\u001b[36m(pid=7671)\u001b[0m [LightGBM] [Warning] bagging_fraction is set=0.9908743310770062, subsample=0.6363600788887684 will be ignored. Current value: bagging_fraction=0.9908743310770062\n",
      "\u001b[2m\u001b[36m(pid=7671)\u001b[0m [LightGBM] [Warning] feature_fraction is set=0.062491969145098004, colsample_bytree=0.8879377622456881 will be ignored. Current value: feature_fraction=0.062491969145098004\n",
      "\u001b[2m\u001b[36m(pid=7671)\u001b[0m [LightGBM] [Warning] min_data_in_leaf is set=13, min_child_samples=19 will be ignored. Current value: min_data_in_leaf=13\n",
      "\u001b[2m\u001b[36m(pid=7671)\u001b[0m [LightGBM] [Info] Total Bins 117\n",
      "\u001b[2m\u001b[36m(pid=7671)\u001b[0m [LightGBM] [Info] Number of data: 7273, number of used features: 42\n",
      "\u001b[2m\u001b[36m(pid=7671)\u001b[0m [LightGBM] [Warning] Unknown parameter: class_weight\n",
      "\u001b[2m\u001b[36m(pid=7671)\u001b[0m [LightGBM] [Warning] Unknown parameter: iterations\n",
      "\u001b[2m\u001b[36m(pid=7671)\u001b[0m [LightGBM] [Warning] min_data_in_leaf is set=13, min_child_samples=19 will be ignored. Current value: min_data_in_leaf=13\n",
      "\u001b[2m\u001b[36m(pid=7671)\u001b[0m [LightGBM] [Warning] feature_fraction is set=0.062491969145098004, colsample_bytree=0.8879377622456881 will be ignored. Current value: feature_fraction=0.062491969145098004\n",
      "\u001b[2m\u001b[36m(pid=7671)\u001b[0m [LightGBM] [Warning] bagging_fraction is set=0.9908743310770062, subsample=0.6363600788887684 will be ignored. Current value: bagging_fraction=0.9908743310770062\n",
      "\u001b[2m\u001b[36m(pid=7671)\u001b[0m [LightGBM] [Warning] verbosity is set=1, verbose=-1 will be ignored. Current value: verbosity=1\n",
      "\u001b[2m\u001b[36m(pid=7671)\u001b[0m Training until validation scores don't improve for 100 rounds\n"
     ]
    },
    {
     "name": "stdout",
     "output_type": "stream",
     "text": [
      "\u001b[2m\u001b[36m(pid=7671)\u001b[0m Early stopping, best iteration is:\n",
      "\u001b[2m\u001b[36m(pid=7671)\u001b[0m [3339]\ttraining's rmse: 1.73756\tvalid_1's rmse: 2.02358\n",
      "\u001b[2m\u001b[36m(pid=7671)\u001b[0m Fold 3\n",
      "\u001b[2m\u001b[36m(pid=7671)\u001b[0m [LightGBM] [Warning] Unknown parameter: class_weight\n",
      "\u001b[2m\u001b[36m(pid=7671)\u001b[0m [LightGBM] [Warning] Unknown parameter: iterations\n",
      "\u001b[2m\u001b[36m(pid=7671)\u001b[0m [LightGBM] [Warning] min_data_in_leaf is set=13, min_child_samples=19 will be ignored. Current value: min_data_in_leaf=13\n",
      "\u001b[2m\u001b[36m(pid=7671)\u001b[0m [LightGBM] [Warning] feature_fraction is set=0.062491969145098004, colsample_bytree=0.8879377622456881 will be ignored. Current value: feature_fraction=0.062491969145098004\n",
      "\u001b[2m\u001b[36m(pid=7671)\u001b[0m [LightGBM] [Warning] bagging_fraction is set=0.9908743310770062, subsample=0.6363600788887684 will be ignored. Current value: bagging_fraction=0.9908743310770062\n",
      "\u001b[2m\u001b[36m(pid=7671)\u001b[0m [LightGBM] [Warning] verbosity is set=1, verbose=-1 will be ignored. Current value: verbosity=1\n",
      "\u001b[2m\u001b[36m(pid=7671)\u001b[0m [LightGBM] [Warning] Met categorical feature which contains sparse values. Consider renumbering to consecutive integers started from zero\n",
      "\u001b[2m\u001b[36m(pid=7671)\u001b[0m [LightGBM] [Warning] Met categorical feature which contains sparse values. Consider renumbering to consecutive integers started from zero\n",
      "\u001b[2m\u001b[36m(pid=7671)\u001b[0m [LightGBM] [Warning] Met categorical feature which contains sparse values. Consider renumbering to consecutive integers started from zero\n",
      "\u001b[2m\u001b[36m(pid=7671)\u001b[0m [LightGBM] [Warning] Unknown parameter: class_weight\n",
      "\u001b[2m\u001b[36m(pid=7671)\u001b[0m [LightGBM] [Warning] Unknown parameter: iterations\n",
      "\u001b[2m\u001b[36m(pid=7671)\u001b[0m [LightGBM] [Warning] bagging_fraction is set=0.9908743310770062, subsample=0.6363600788887684 will be ignored. Current value: bagging_fraction=0.9908743310770062\n",
      "\u001b[2m\u001b[36m(pid=7671)\u001b[0m [LightGBM] [Warning] feature_fraction is set=0.062491969145098004, colsample_bytree=0.8879377622456881 will be ignored. Current value: feature_fraction=0.062491969145098004\n",
      "\u001b[2m\u001b[36m(pid=7671)\u001b[0m [LightGBM] [Warning] min_data_in_leaf is set=13, min_child_samples=19 will be ignored. Current value: min_data_in_leaf=13\n",
      "\u001b[2m\u001b[36m(pid=7671)\u001b[0m [LightGBM] [Info] Total Bins 108\n",
      "\u001b[2m\u001b[36m(pid=7671)\u001b[0m [LightGBM] [Info] Number of data: 7369, number of used features: 40\n",
      "\u001b[2m\u001b[36m(pid=7671)\u001b[0m [LightGBM] [Warning] Unknown parameter: class_weight\n",
      "\u001b[2m\u001b[36m(pid=7671)\u001b[0m [LightGBM] [Warning] Unknown parameter: iterations\n",
      "\u001b[2m\u001b[36m(pid=7671)\u001b[0m [LightGBM] [Warning] min_data_in_leaf is set=13, min_child_samples=19 will be ignored. Current value: min_data_in_leaf=13\n",
      "\u001b[2m\u001b[36m(pid=7671)\u001b[0m [LightGBM] [Warning] feature_fraction is set=0.062491969145098004, colsample_bytree=0.8879377622456881 will be ignored. Current value: feature_fraction=0.062491969145098004\n",
      "\u001b[2m\u001b[36m(pid=7671)\u001b[0m [LightGBM] [Warning] bagging_fraction is set=0.9908743310770062, subsample=0.6363600788887684 will be ignored. Current value: bagging_fraction=0.9908743310770062\n",
      "\u001b[2m\u001b[36m(pid=7671)\u001b[0m [LightGBM] [Warning] verbosity is set=1, verbose=-1 will be ignored. Current value: verbosity=1\n",
      "\u001b[2m\u001b[36m(pid=7671)\u001b[0m Training until validation scores don't improve for 100 rounds\n",
      "\u001b[2m\u001b[36m(pid=7671)\u001b[0m Early stopping, best iteration is:\n",
      "\u001b[2m\u001b[36m(pid=7671)\u001b[0m [1026]\ttraining's rmse: 2.54004\tvalid_1's rmse: 2.49869\n",
      "\u001b[2m\u001b[36m(pid=7671)\u001b[0m Fold 4\n",
      "\u001b[2m\u001b[36m(pid=7671)\u001b[0m [LightGBM] [Warning] Unknown parameter: class_weight\n",
      "\u001b[2m\u001b[36m(pid=7671)\u001b[0m [LightGBM] [Warning] Unknown parameter: iterations\n",
      "\u001b[2m\u001b[36m(pid=7671)\u001b[0m [LightGBM] [Warning] min_data_in_leaf is set=13, min_child_samples=19 will be ignored. Current value: min_data_in_leaf=13\n",
      "\u001b[2m\u001b[36m(pid=7671)\u001b[0m [LightGBM] [Warning] feature_fraction is set=0.062491969145098004, colsample_bytree=0.8879377622456881 will be ignored. Current value: feature_fraction=0.062491969145098004\n",
      "\u001b[2m\u001b[36m(pid=7671)\u001b[0m [LightGBM] [Warning] bagging_fraction is set=0.9908743310770062, subsample=0.6363600788887684 will be ignored. Current value: bagging_fraction=0.9908743310770062\n",
      "\u001b[2m\u001b[36m(pid=7671)\u001b[0m [LightGBM] [Warning] verbosity is set=1, verbose=-1 will be ignored. Current value: verbosity=1\n",
      "\u001b[2m\u001b[36m(pid=7671)\u001b[0m [LightGBM] [Warning] Met categorical feature which contains sparse values. Consider renumbering to consecutive integers started from zero\n",
      "\u001b[2m\u001b[36m(pid=7671)\u001b[0m [LightGBM] [Warning] Met categorical feature which contains sparse values. Consider renumbering to consecutive integers started from zero\n",
      "\u001b[2m\u001b[36m(pid=7671)\u001b[0m [LightGBM] [Warning] Met categorical feature which contains sparse values. Consider renumbering to consecutive integers started from zero\n",
      "\u001b[2m\u001b[36m(pid=7671)\u001b[0m [LightGBM] [Warning] Unknown parameter: class_weight\n",
      "\u001b[2m\u001b[36m(pid=7671)\u001b[0m [LightGBM] [Warning] Unknown parameter: iterations\n",
      "\u001b[2m\u001b[36m(pid=7671)\u001b[0m [LightGBM] [Warning] bagging_fraction is set=0.9908743310770062, subsample=0.6363600788887684 will be ignored. Current value: bagging_fraction=0.9908743310770062\n",
      "\u001b[2m\u001b[36m(pid=7671)\u001b[0m [LightGBM] [Warning] feature_fraction is set=0.062491969145098004, colsample_bytree=0.8879377622456881 will be ignored. Current value: feature_fraction=0.062491969145098004\n",
      "\u001b[2m\u001b[36m(pid=7671)\u001b[0m [LightGBM] [Warning] min_data_in_leaf is set=13, min_child_samples=19 will be ignored. Current value: min_data_in_leaf=13\n",
      "\u001b[2m\u001b[36m(pid=7671)\u001b[0m [LightGBM] [Info] Total Bins 118\n",
      "\u001b[2m\u001b[36m(pid=7671)\u001b[0m [LightGBM] [Info] Number of data: 7457, number of used features: 45\n",
      "\u001b[2m\u001b[36m(pid=7671)\u001b[0m [LightGBM] [Warning] Unknown parameter: class_weight\n",
      "\u001b[2m\u001b[36m(pid=7671)\u001b[0m [LightGBM] [Warning] Unknown parameter: iterations\n",
      "\u001b[2m\u001b[36m(pid=7671)\u001b[0m [LightGBM] [Warning] min_data_in_leaf is set=13, min_child_samples=19 will be ignored. Current value: min_data_in_leaf=13\n",
      "\u001b[2m\u001b[36m(pid=7671)\u001b[0m [LightGBM] [Warning] feature_fraction is set=0.062491969145098004, colsample_bytree=0.8879377622456881 will be ignored. Current value: feature_fraction=0.062491969145098004\n",
      "\u001b[2m\u001b[36m(pid=7671)\u001b[0m [LightGBM] [Warning] bagging_fraction is set=0.9908743310770062, subsample=0.6363600788887684 will be ignored. Current value: bagging_fraction=0.9908743310770062\n",
      "\u001b[2m\u001b[36m(pid=7671)\u001b[0m [LightGBM] [Warning] verbosity is set=1, verbose=-1 will be ignored. Current value: verbosity=1\n",
      "\u001b[2m\u001b[36m(pid=7671)\u001b[0m Training until validation scores don't improve for 100 rounds\n",
      "\u001b[2m\u001b[36m(pid=7671)\u001b[0m [5000]\ttraining's rmse: 2.22717\tvalid_1's rmse: 2.39808\n",
      "\u001b[2m\u001b[36m(pid=7671)\u001b[0m Early stopping, best iteration is:\n",
      "\u001b[2m\u001b[36m(pid=7671)\u001b[0m [5592]\ttraining's rmse: 2.21335\tvalid_1's rmse: 2.391\n"
     ]
    },
    {
     "name": "stderr",
     "output_type": "stream",
     "text": [
      "2019-11-26 10:52:06,269\tINFO tune.py:276 -- Returning an analysis object by default. You can call `analysis.trials` to retrieve a list of trials. This message will be removed in future versions of Tune.\n"
     ]
    },
    {
     "name": "stdout",
     "output_type": "stream",
     "text": [
      "\u001b[2m\u001b[36m(pid=7671)\u001b[0m CV RMSE: 2.24062 \n",
      "Result for objective_1_gbdt=0.99087,gbdt=23,boost_from_average=false,boosting_type=gbdt,subsample=0.63636,class_weight=balanced,colsample_bytree=0.88794,feature_fraction=0.062492,iterations=1,learning_rate=0.049527,max_depth=-1,metric=root_mean_squared_error,min_child_samples=19,min_data_in_leaf=13,num_leaves=87,num_threads=1,objective=regression,reg_alpha=0.33822,reg_lambda=0.63667,seed=99999,subsample_for_bin=6,tree_learner=serial,use_missing=True,verbosity=1:\n",
      "\u001b[2m\u001b[36m(pid=7671)\u001b[0m Mean val RMSE 2.2402 +/- 0.0409  date: 2019-11-26_10-52-06\n",
      "  done: false\n",
      "  experiment_id: 7e7ba85ca15d4adba23c1a8363735bf8\n",
      "  hostname: ben-asus\n",
      "  iterations_since_restore: 1\n",
      "  mean_loss: 2.2402090404095807\n",
      "  neg_mean_loss: -2.2402090404095807\n",
      "  node_ip: 192.168.0.15\n",
      "  pid: 7671\n",
      "  rmse_std: 0.040879394738253624\n",
      "  time_since_restore: 111.68003821372986\n",
      "  time_this_iter_s: 111.68003821372986\n",
      "  time_total_s: 111.68003821372986\n",
      "  timestamp: 1574733126\n",
      "  timesteps_since_restore: 0\n",
      "  timesteps_total: 1\n",
      "  training_iteration: 1\n",
      "  trial_id: 163808f0\n",
      "  \n",
      "\u001b[2m\u001b[36m(pid=7671)\u001b[0m The number of best number of iterations was: 2814.6 +/- 1573.1748281739065\n",
      "\n",
      "== Status ==\n",
      "Using AsyncHyperBand: num_stopped=0\n",
      "Bracket: Iter 64.000: None | Iter 16.000: None | Iter 4.000: None | Iter 1.000: -2.2402090404095807\n",
      "Resources requested: 1/8 CPUs, 0/1 GPUs, 0.0/1.46 GiB heap, 0.0/0.49 GiB objects\n",
      "Memory usage on this node: 13.4/15.6 GiB\n",
      "Result logdir: /home/ben/ray_results/hyperband_test3\n",
      "Number of trials: 1 ({'RUNNING': 1})\n",
      "RUNNING trials:\n",
      " - objective_1_gbdt=0.99087,gbdt=23,boost_from_average=false,boosting_type=gbdt,subsample=0.63636,class_weight=balanced,colsample_bytree=0.88794,feature_fraction=0.062492,iterations=1,learning_rate=0.049527,max_depth=-1,metric=root_mean_squared_error,min_child_samples=19,min_data_in_leaf=13,num_leaves=87,num_threads=1,objective=regression,reg_alpha=0.33822,reg_lambda=0.63667,seed=99999,subsample_for_bin=6,tree_learner=serial,use_missing=True,verbosity=1:\tRUNNING, [1 CPUs, 0 GPUs], [pid=7671], 111 s, 1 iter, 1 ts, 2.24 loss\n",
      "\n",
      "== Status ==\n",
      "Using AsyncHyperBand: num_stopped=0\n",
      "Bracket: Iter 64.000: None | Iter 16.000: None | Iter 4.000: None | Iter 1.000: -2.2402090404095807\n",
      "Resources requested: 0/8 CPUs, 0/1 GPUs, 0.0/1.46 GiB heap, 0.0/0.49 GiB objects\n",
      "Memory usage on this node: 13.4/15.6 GiB\n",
      "Result logdir: /home/ben/ray_results/hyperband_test3\n",
      "Number of trials: 1 ({'TERMINATED': 1})\n",
      "TERMINATED trials:\n",
      " - objective_1_gbdt=0.99087,gbdt=23,boost_from_average=false,boosting_type=gbdt,subsample=0.63636,class_weight=balanced,colsample_bytree=0.88794,feature_fraction=0.062492,iterations=1,learning_rate=0.049527,max_depth=-1,metric=root_mean_squared_error,min_child_samples=19,min_data_in_leaf=13,num_leaves=87,num_threads=1,objective=regression,reg_alpha=0.33822,reg_lambda=0.63667,seed=99999,subsample_for_bin=6,tree_learner=serial,use_missing=True,verbosity=1:\tTERMINATED, [1 CPUs, 0 GPUs], [pid=7671], 111 s, 1 iter, 1 ts, 2.24 loss\n",
      "\n"
     ]
    }
   ],
   "source": [
    "import ray\n",
    "from ray.tune import run\n",
    "from ray.tune.schedulers import AsyncHyperBandScheduler\n",
    "from ray.tune.suggest.hyperopt import HyperOptSearch\n",
    "from ray.tune.logger import DEFAULT_LOGGERS\n",
    "\n",
    "# Global variable\n",
    "global  ITERATION\n",
    "\n",
    "ITERATION = 0\n",
    "\n",
    "MAX_EVALS = 10\n",
    "# https://github.com/ray-project/ray/blob/master/python/ray/tune/examples/hyperopt_example.py\n",
    "config = {\n",
    "    \"num_samples\": 1,\n",
    "    \"config\": {\n",
    "        \"iterations\": 1, # passed to our objective\n",
    "    },\n",
    "    \"stop\": {\n",
    "        \"timesteps_total\": 999\n",
    "    },\n",
    "}\n",
    "    \n",
    "algo = HyperOptSearch(\n",
    "    space,\n",
    "    max_concurrent=4,\n",
    "    metric=\"mean_loss\",\n",
    "    mode=\"min\")\n",
    "\n",
    "scheduler = AsyncHyperBandScheduler(metric=\"mean_loss\", mode=\"min\")\n",
    "analysis = run(objective,\n",
    "    name=\"hyperband_test3\",\n",
    "    search_alg=algo,\n",
    "    scheduler=scheduler,\n",
    "    loggers=[ray.tune.logger.CSVLogger],\n",
    "    **config)\n"
   ]
  },
  {
   "cell_type": "code",
   "execution_count": 46,
   "metadata": {},
   "outputs": [
    {
     "name": "stderr",
     "output_type": "stream",
     "text": [
      "2019-11-26 10:52:24,235\tWARNING experiment_analysis.py:119 -- Couldn't read config from 1 paths\n"
     ]
    },
    {
     "data": {
      "text/html": [
       "<div>\n",
       "<style scoped>\n",
       "    .dataframe tbody tr th:only-of-type {\n",
       "        vertical-align: middle;\n",
       "    }\n",
       "\n",
       "    .dataframe tbody tr th {\n",
       "        vertical-align: top;\n",
       "    }\n",
       "\n",
       "    .dataframe thead th {\n",
       "        text-align: right;\n",
       "    }\n",
       "</style>\n",
       "<table border=\"1\" class=\"dataframe\">\n",
       "  <thead>\n",
       "    <tr style=\"text-align: right;\">\n",
       "      <th></th>\n",
       "      <th>date</th>\n",
       "      <th>done</th>\n",
       "      <th>episodes_total</th>\n",
       "      <th>experiment_id</th>\n",
       "      <th>hostname</th>\n",
       "      <th>iterations_since_restore</th>\n",
       "      <th>mean_loss</th>\n",
       "      <th>neg_mean_loss</th>\n",
       "      <th>node_ip</th>\n",
       "      <th>pid</th>\n",
       "      <th>rmse_std</th>\n",
       "      <th>time_since_restore</th>\n",
       "      <th>time_this_iter_s</th>\n",
       "      <th>time_total_s</th>\n",
       "      <th>timestamp</th>\n",
       "      <th>timesteps_since_restore</th>\n",
       "      <th>timesteps_total</th>\n",
       "      <th>training_iteration</th>\n",
       "      <th>trial_id</th>\n",
       "    </tr>\n",
       "  </thead>\n",
       "  <tbody>\n",
       "    <tr>\n",
       "      <th>0</th>\n",
       "      <td>2019-11-26_10-52-06</td>\n",
       "      <td>False</td>\n",
       "      <td>NaN</td>\n",
       "      <td>7e7ba85ca15d4adba23c1a8363735bf8</td>\n",
       "      <td>ben-asus</td>\n",
       "      <td>1</td>\n",
       "      <td>2.240209</td>\n",
       "      <td>-2.240209</td>\n",
       "      <td>192.168.0.15</td>\n",
       "      <td>7671</td>\n",
       "      <td>0.040879</td>\n",
       "      <td>111.680038</td>\n",
       "      <td>111.680038</td>\n",
       "      <td>111.680038</td>\n",
       "      <td>1574733126</td>\n",
       "      <td>0</td>\n",
       "      <td>1</td>\n",
       "      <td>1</td>\n",
       "      <td>163808f0</td>\n",
       "    </tr>\n",
       "  </tbody>\n",
       "</table>\n",
       "</div>"
      ],
      "text/plain": [
       "                  date   done  episodes_total  \\\n",
       "0  2019-11-26_10-52-06  False             NaN   \n",
       "\n",
       "                      experiment_id  hostname  iterations_since_restore  \\\n",
       "0  7e7ba85ca15d4adba23c1a8363735bf8  ben-asus                         1   \n",
       "\n",
       "   mean_loss  neg_mean_loss       node_ip   pid  rmse_std  time_since_restore  \\\n",
       "0   2.240209      -2.240209  192.168.0.15  7671  0.040879          111.680038   \n",
       "\n",
       "   time_this_iter_s  time_total_s   timestamp  timesteps_since_restore  \\\n",
       "0        111.680038    111.680038  1574733126                        0   \n",
       "\n",
       "   timesteps_total  training_iteration  trial_id  \n",
       "0                1                   1  163808f0  "
      ]
     },
     "execution_count": 46,
     "metadata": {},
     "output_type": "execute_result"
    }
   ],
   "source": [
    "analysis.dataframe()"
   ]
  },
  {
   "cell_type": "code",
   "execution_count": 223,
   "metadata": {},
   "outputs": [
    {
     "data": {
      "text/plain": [
       "(ray.tune.logger.JsonLogger,\n",
       " ray.tune.logger.CSVLogger,\n",
       " <function ray.tune.logger.tf2_compat_logger(config, logdir, trial=None)>)"
      ]
     },
     "execution_count": 223,
     "metadata": {},
     "output_type": "execute_result"
    }
   ],
   "source": [
    "DEFAULT_LOGGERS"
   ]
  },
  {
   "cell_type": "code",
   "execution_count": 7,
   "metadata": {},
   "outputs": [
    {
     "name": "stdout",
     "output_type": "stream",
     "text": [
      "hyper_sweep_analysis14.pickle                 100% 1023KB   3.3MB/s   00:00    \n",
      "results_complete14.csv                        100%   66KB  23.4KB/s   00:02    \n"
     ]
    }
   ],
   "source": [
    "!scp mlpc:~/zalo-hit-song-prediction/src/hyper_sweep/exp14_exploratory/hyper_sweep_analysis14.pickle .\n",
    "!scp mlpc:~/zalo-hit-song-prediction/src/hyper_sweep/exp14_exploratory/results_complete14.csv ."
   ]
  },
  {
   "cell_type": "code",
   "execution_count": 11,
   "metadata": {},
   "outputs": [
    {
     "data": {
      "text/plain": [
       "45    1.695299\n",
       "16    1.700580\n",
       "71    1.703087\n",
       "30    1.707766\n",
       "51    1.709519\n",
       "        ...   \n",
       "54    2.780780\n",
       "38    2.782551\n",
       "3     2.783404\n",
       "29    2.838523\n",
       "20    2.868646\n",
       "Name: mean_loss, Length: 80, dtype: float64"
      ]
     },
     "execution_count": 11,
     "metadata": {},
     "output_type": "execute_result"
    }
   ],
   "source": [
    "import pandas as pd\n",
    "df = pd.read_csv('results_complete14.csv')\n",
    "df.sort_values('mean_loss')['mean_loss']"
   ]
  },
  {
   "cell_type": "code",
   "execution_count": 5,
   "metadata": {},
   "outputs": [
    {
     "ename": "UnicodeDecodeError",
     "evalue": "'utf-8' codec can't decode byte 0x80 in position 0: invalid start byte",
     "output_type": "error",
     "traceback": [
      "\u001b[0;31m---------------------------------------------------------------------------\u001b[0m",
      "\u001b[0;31mUnicodeDecodeError\u001b[0m                        Traceback (most recent call last)",
      "\u001b[0;32m<ipython-input-5-15d535b18dc9>\u001b[0m in \u001b[0;36m<module>\u001b[0;34m\u001b[0m\n\u001b[1;32m      1\u001b[0m \u001b[0;32mimport\u001b[0m \u001b[0mpickle\u001b[0m\u001b[0;34m\u001b[0m\u001b[0m\n\u001b[1;32m      2\u001b[0m \u001b[0;32mwith\u001b[0m \u001b[0mopen\u001b[0m\u001b[0;34m(\u001b[0m\u001b[0;34m'hyper_sweep_analysis14.pickle'\u001b[0m\u001b[0;34m,\u001b[0m \u001b[0;34m'r'\u001b[0m\u001b[0;34m)\u001b[0m \u001b[0;32mas\u001b[0m \u001b[0mf\u001b[0m\u001b[0;34m:\u001b[0m\u001b[0;34m\u001b[0m\u001b[0m\n\u001b[0;32m----> 3\u001b[0;31m     \u001b[0mdf\u001b[0m \u001b[0;34m=\u001b[0m \u001b[0mpickle\u001b[0m\u001b[0;34m.\u001b[0m\u001b[0mload\u001b[0m\u001b[0;34m(\u001b[0m\u001b[0mf\u001b[0m\u001b[0;34m,\u001b[0m \u001b[0mencoding\u001b[0m\u001b[0;34m=\u001b[0m\u001b[0;34m'utf-8'\u001b[0m\u001b[0;34m)\u001b[0m\u001b[0;34m\u001b[0m\u001b[0m\n\u001b[0m",
      "\u001b[0;32m/media/DATA/anaconda3/envs/thriai/lib/python3.6/codecs.py\u001b[0m in \u001b[0;36mdecode\u001b[0;34m(self, input, final)\u001b[0m\n\u001b[1;32m    319\u001b[0m         \u001b[0;31m# decode input (taking the buffer into account)\u001b[0m\u001b[0;34m\u001b[0m\u001b[0;34m\u001b[0m\u001b[0m\n\u001b[1;32m    320\u001b[0m         \u001b[0mdata\u001b[0m \u001b[0;34m=\u001b[0m \u001b[0mself\u001b[0m\u001b[0;34m.\u001b[0m\u001b[0mbuffer\u001b[0m \u001b[0;34m+\u001b[0m \u001b[0minput\u001b[0m\u001b[0;34m\u001b[0m\u001b[0m\n\u001b[0;32m--> 321\u001b[0;31m         \u001b[0;34m(\u001b[0m\u001b[0mresult\u001b[0m\u001b[0;34m,\u001b[0m \u001b[0mconsumed\u001b[0m\u001b[0;34m)\u001b[0m \u001b[0;34m=\u001b[0m \u001b[0mself\u001b[0m\u001b[0;34m.\u001b[0m\u001b[0m_buffer_decode\u001b[0m\u001b[0;34m(\u001b[0m\u001b[0mdata\u001b[0m\u001b[0;34m,\u001b[0m \u001b[0mself\u001b[0m\u001b[0;34m.\u001b[0m\u001b[0merrors\u001b[0m\u001b[0;34m,\u001b[0m \u001b[0mfinal\u001b[0m\u001b[0;34m)\u001b[0m\u001b[0;34m\u001b[0m\u001b[0m\n\u001b[0m\u001b[1;32m    322\u001b[0m         \u001b[0;31m# keep undecoded input until the next call\u001b[0m\u001b[0;34m\u001b[0m\u001b[0;34m\u001b[0m\u001b[0m\n\u001b[1;32m    323\u001b[0m         \u001b[0mself\u001b[0m\u001b[0;34m.\u001b[0m\u001b[0mbuffer\u001b[0m \u001b[0;34m=\u001b[0m \u001b[0mdata\u001b[0m\u001b[0;34m[\u001b[0m\u001b[0mconsumed\u001b[0m\u001b[0;34m:\u001b[0m\u001b[0;34m]\u001b[0m\u001b[0;34m\u001b[0m\u001b[0m\n",
      "\u001b[0;31mUnicodeDecodeError\u001b[0m: 'utf-8' codec can't decode byte 0x80 in position 0: invalid start byte"
     ]
    }
   ],
   "source": [
    "import pickle\n",
    "with open('hyper_sweep_analysis14.pickle', 'r') as f:\n",
    "    df = pickle.load(f, encoding='utf-8')"
   ]
  }
 ],
 "metadata": {
  "kernelspec": {
   "display_name": "Python [conda env:thriai] *",
   "language": "python",
   "name": "conda-env-thriai-py"
  },
  "language_info": {
   "codemirror_mode": {
    "name": "ipython",
    "version": 3
   },
   "file_extension": ".py",
   "mimetype": "text/x-python",
   "name": "python",
   "nbconvert_exporter": "python",
   "pygments_lexer": "ipython3",
   "version": "3.6.5"
  }
 },
 "nbformat": 4,
 "nbformat_minor": 2
}
