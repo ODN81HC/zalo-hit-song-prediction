{
 "cells": [
  {
   "cell_type": "code",
   "execution_count": 1,
   "metadata": {},
   "outputs": [],
   "source": [
    "%load_ext autoreload\n",
    "%autoreload 2\n",
    "# https://towardsdatascience.com/automated-machine-learning-hyperparameter-tuning-in-python-dfda59b72f8a\n",
    "# https://github.com/WillKoehrsen/hyperparameter-optimization/blob/master/Bayesian%20Hyperparameter%20Optimization%20of%20Gradient%20Boosting%20Machine.ipynb\n",
    "from hyperopt import hp\n",
    "import numpy as np\n",
    "import lightgbm as lgb\n",
    "from hyperopt import STATUS_OK\n",
    "import hyperopt \n",
    "from hyperopt import tpe\n",
    "from hyperopt import Trials\n",
    "import csv\n",
    "import csv\n",
    "from hyperopt import STATUS_OK\n",
    "from timeit import default_timer as timer\n"
   ]
  },
  {
   "cell_type": "code",
   "execution_count": 219,
   "metadata": {},
   "outputs": [
    {
     "data": {
      "text/plain": [
       "{'bagging_fraction': 1,\n",
       " 'bagging_freq': 0,\n",
       " 'boost_from_average': 'false',\n",
       " 'boosting_type': 'dart',\n",
       " 'class_weight': 'balanced',\n",
       " 'colsample_bytree': 0.8289740768038011,\n",
       " 'feature_fraction': 0.11610678946916064,\n",
       " 'learning_rate': 0.012594453789711607,\n",
       " 'max_depth': -1,\n",
       " 'metric': 'root_mean_squared_error',\n",
       " 'min_child_samples': 94,\n",
       " 'min_data_in_leaf': 5,\n",
       " 'num_leaves': 49,\n",
       " 'num_threads': 1,\n",
       " 'objective': 'regression',\n",
       " 'reg_alpha': 0.532318489229641,\n",
       " 'reg_lambda': 0.42263086575159026,\n",
       " 'seed': 99999,\n",
       " 'subsample_for_bin': 10,\n",
       " 'tree_learner': 'serial',\n",
       " 'use_missing': True,\n",
       " 'verbosity': 1,\n",
       " 'subsample': 0.9424891735356111}"
      ]
     },
     "execution_count": 219,
     "metadata": {},
     "output_type": "execute_result"
    }
   ],
   "source": [
    "                                              # Define the search space\n",
    "\n",
    "space = {\n",
    "            'class_weight': hp.choice('class_weight', [None, 'balanced']),\n",
    "            'boosting_type': hp.choice('boosting_type', \n",
    "                               [{'boosting_type': 'gbdt', \n",
    "                                    'subsample': hp.uniform('gdbt_subsample', 0.5, 1)}, \n",
    "                                 {'boosting_type': 'dart', \n",
    "                                     'subsample': hp.uniform('dart_subsample', 0.5, 1)},\n",
    "                                 {'boosting_type': 'goss'}]),\n",
    "            'num_leaves': hp.choice('num_leaves', np.arange(30, 151, dtype=int)),\n",
    "            'learning_rate': hp.loguniform('learning_rate', np.log(0.005), np.log(0.1)),\n",
    "            'subsample_for_bin': hp.choice('subsample_for_bin', np.arange(1, 16, dtype=int)),\n",
    "            'min_child_samples': hp.choice('min_child_examples', np.arange(4, 101, dtype=int)),\n",
    "            'reg_alpha': hp.uniform('reg_alpha', 0.0, 1.0),\n",
    "            'reg_lambda': hp.uniform('reg_lambda', 0.0, 1.0),\n",
    "            'colsample_bytree': hp.uniform('colsample_by_tree', 0.6, 1.0),\n",
    "            'seed':99999,\n",
    "            'bagging_freq':hp.choice('bagging_freq', \n",
    "                               [\n",
    "                                   {'gbdt': hp.choice('gbdt_bagging_freq', np.arange(1, 25, dtype=int))}, \n",
    "                               ]),\n",
    "            'bagging_fraction':hp.choice('bagging_fraction', \n",
    "                               [\n",
    "                                    {'gbdt': hp.uniform('gbdt_bagging_fraction', 0.95, 1)}, \n",
    "                               ]),\n",
    "            'boost_from_average':'false',\n",
    "            'feature_fraction':hp.uniform('feature_fraction', 0.05, 1),\n",
    "            'max_depth':-1,\n",
    "            'metric':'root_mean_squared_error',\n",
    "            'min_data_in_leaf':hp.choice('min_data_in_leaf', np.arange(5, 20, dtype=int)),\n",
    "            'num_threads':1,\n",
    "            'tree_learner':'serial',\n",
    "            'objective':'regression',\n",
    "            'use_missing':True,\n",
    "            'verbosity':1,\n",
    "\n",
    "}\n",
    "\n",
    " \n",
    "# Sample from the full space\n",
    "example = hyperopt.pyll.stochastic.sample(space)\n",
    "\n",
    "# Dictionary get method with default\n",
    "subsample = example['boosting_type'].get('subsample', 1.0)\n",
    "\n",
    "# Assign top-level keys\n",
    "example['boosting_type'] = example['boosting_type']['boosting_type']\n",
    "example['bagging_fraction'] = example['bagging_fraction'].get(example['boosting_type'], 1) # default to 1 unless lgtb\n",
    "example['bagging_freq'] = example['bagging_freq'].get(example['boosting_type'], 0) # default to 0 unless lgtb\n",
    "example['subsample'] = subsample\n",
    "example\n",
    "\n"
   ]
  },
  {
   "cell_type": "code",
   "execution_count": 209,
   "metadata": {},
   "outputs": [
    {
     "data": {
      "text/plain": [
       "1"
      ]
     },
     "execution_count": 209,
     "metadata": {},
     "output_type": "execute_result"
    }
   ],
   "source": [
    "example = hyperopt.pyll.stochastic.sample(space)\n",
    "example['bagging_freq'],example['bagging_freq'].get(example['boosting_type']['boosting_type'], 99), example['boosting_type']['boosting_type']\n",
    "example['bagging_fraction'] = example['bagging_fraction'].get(example['boosting_type']['boosting_type'], 1) \n",
    "example['bagging_fraction'] "
   ]
  },
  {
   "cell_type": "code",
   "execution_count": 208,
   "metadata": {},
   "outputs": [
    {
     "ename": "TypeError",
     "evalue": "string indices must be integers",
     "output_type": "error",
     "traceback": [
      "\u001b[0;31m---------------------------------------------------------------------------\u001b[0m",
      "\u001b[0;31mTypeError\u001b[0m                                 Traceback (most recent call last)",
      "\u001b[0;32m<ipython-input-208-50bd0d273949>\u001b[0m in \u001b[0;36m<module>\u001b[0;34m\u001b[0m\n\u001b[1;32m      4\u001b[0m \u001b[0mexample\u001b[0m\u001b[0;34m[\u001b[0m\u001b[0;34m'boosting_type'\u001b[0m\u001b[0;34m]\u001b[0m \u001b[0;34m=\u001b[0m \u001b[0mexample\u001b[0m\u001b[0;34m[\u001b[0m\u001b[0;34m'boosting_type'\u001b[0m\u001b[0;34m]\u001b[0m\u001b[0;34m[\u001b[0m\u001b[0;34m'boosting_type'\u001b[0m\u001b[0;34m]\u001b[0m\u001b[0;34m\u001b[0m\u001b[0m\n\u001b[1;32m      5\u001b[0m \u001b[0;31m#example['bagging_fraction'] = example['bagging_fraction'].get(example['boosting_type']['boosting_type'], 1) # default to 1 unless lgtb\u001b[0m\u001b[0;34m\u001b[0m\u001b[0;34m\u001b[0m\u001b[0m\n\u001b[0;32m----> 6\u001b[0;31m \u001b[0mexample\u001b[0m\u001b[0;34m[\u001b[0m\u001b[0;34m'bagging_freq'\u001b[0m\u001b[0;34m]\u001b[0m \u001b[0;34m=\u001b[0m \u001b[0mexample\u001b[0m\u001b[0;34m[\u001b[0m\u001b[0;34m'bagging_freq'\u001b[0m\u001b[0;34m]\u001b[0m\u001b[0;34m.\u001b[0m\u001b[0mget\u001b[0m\u001b[0;34m(\u001b[0m\u001b[0mexample\u001b[0m\u001b[0;34m[\u001b[0m\u001b[0;34m'boosting_type'\u001b[0m\u001b[0;34m]\u001b[0m\u001b[0;34m[\u001b[0m\u001b[0;34m'boosting_type'\u001b[0m\u001b[0;34m]\u001b[0m\u001b[0;34m,\u001b[0m \u001b[0;36m0\u001b[0m\u001b[0;34m)\u001b[0m \u001b[0;31m# default to 0 unless lgtb\u001b[0m\u001b[0;34m\u001b[0m\u001b[0m\n\u001b[0m\u001b[1;32m      7\u001b[0m \u001b[0;34m\u001b[0m\u001b[0m\n",
      "\u001b[0;31mTypeError\u001b[0m: string indices must be integers"
     ]
    }
   ],
   "source": [
    "example = hyperopt.pyll.stochastic.sample(space)\n",
    "\n",
    "# Assign top-level keys\n",
    "example['boosting_type'] = example['boosting_type']['boosting_type']\n",
    "#example['bagging_fraction'] = example['bagging_fraction'].get(example['boosting_type']['boosting_type'], 1) # default to 1 unless lgtb\n",
    "example['bagging_freq'] = example['bagging_freq'].get(example['boosting_type']['boosting_type'], 0) # default to 0 unless lgtb\n",
    "\n"
   ]
  },
  {
   "cell_type": "code",
   "execution_count": 3,
   "metadata": {},
   "outputs": [
    {
     "name": "stderr",
     "output_type": "stream",
     "text": [
      "/media/DATA/anaconda3/envs/thriai/lib/python3.6/site-packages/sklearn/externals/joblib/__init__.py:15: DeprecationWarning: sklearn.externals.joblib is deprecated in 0.21 and will be removed in 0.23. Please import this functionality directly from joblib, which can be installed with: pip install joblib. If this warning is raised when loading pickled models, you may need to re-serialize those models with scikit-learn 0.21+.\n",
      "  warnings.warn(msg, category=DeprecationWarning)\n"
     ]
    }
   ],
   "source": [
    "from baseline5_for_sweep import perform_cv_lightgbm, get_training_set\n",
    "\n",
    "def objective(params, reporter):\n",
    "    \"\"\"Objective function for Gradient Boosting Machine Hyperparameter Optimization\"\"\"\n",
    "    \n",
    "    # Keep track of evals\n",
    "    global ITERATION\n",
    "    \n",
    "    ITERATION += 1\n",
    "    \n",
    "    # Retrieve the subsample if present otherwise set to 1.0\n",
    "    subsample = params['boosting_type'].get('subsample', 1.0)\n",
    "    \n",
    "    # Extract the boosting type\n",
    "    params['boosting_type'] = params['boosting_type']['boosting_type']\n",
    "    params['bagging_fraction'] = params['bagging_fraction'].get(params['boosting_type'], 1) # default to 1 unless lgtb\n",
    "    params['bagging_freq'] = params['bagging_freq'].get(params['boosting_type'], 0) # default to 0 unless lgtb\n",
    "    params['subsample'] = subsample\n",
    "    \n",
    "    # Make sure parameters that need to be integers are integers\n",
    "    for parameter_name in ['num_leaves', 'subsample_for_bin', 'min_child_samples']:\n",
    "        params[parameter_name] = int(params[parameter_name])\n",
    "    \n",
    "    start = timer()\n",
    "    if params['boosting_type'] == 'dart':\n",
    "        early_stopping_rounds = 0\n",
    "    else:\n",
    "        early_stopping_rounds = 100\n",
    "    \n",
    "    # Perform n_folds cross validation\n",
    "    cv_results = perform_cv_lightgbm(df_train, \n",
    "                                     chosen_features,\n",
    "                                     params=params,\n",
    "                                     early_stopping_rounds=early_stopping_rounds,\n",
    "                                     n_folds=5) \n",
    "    # lgb.cv(params, train_set, num_boost_round = 10000, nfold = n_folds, \n",
    "    #                    early_stopping_rounds = 100, metrics = 'auc', seed = 50)\n",
    "    \n",
    "    run_time = timer() - start\n",
    "    \n",
    "    # Loss must be minimized\n",
    "    loss = cv_results['rmse_mean']\n",
    "    \n",
    "    # Write to the csv file ('a' means append)\n",
    "    #of_connection = open(out_file, 'a')\n",
    "    #writer = csv.writer(of_connection)\n",
    "    #writer.writerow([loss, params, ITERATION, \n",
    "    #                 cv_results['rmse_std'], \n",
    "    #                 cv_results['cv_stopping_iters'],\n",
    "    #                 cv_results['best_stopping_iter_std'],\n",
    "    #                 cv_results['best_stopping_iter_std'],\n",
    "    #                 run_time])\n",
    "    \n",
    "    # Ray will negate this by itself to feed into HyperOpt\n",
    "    reporter(timesteps_total=1,  mean_loss=cv_results['rmse_std'])\n",
    "\n",
    "    \n",
    "    # Dictionary with information for evaluation\n",
    "    return {'loss': loss,\n",
    "            'params': params, \n",
    "            'iteration': ITERATION,\n",
    "            'rmse_std': cv_results['rmse_std'],  \n",
    "            'best_stopping_iter':cv_results['cv_stopping_iters'],\n",
    "            'best_stopping_iter_mean':cv_results['best_stopping_iter_std'],\n",
    "            'best_stopping_iter_std':cv_results['best_stopping_iter_std'],\n",
    "            'train_time': run_time, \n",
    "            'status': STATUS_OK}"
   ]
  },
  {
   "cell_type": "code",
   "execution_count": 4,
   "metadata": {},
   "outputs": [
    {
     "name": "stdout",
     "output_type": "stream",
     "text": [
      "There is 0.24038838760298156 ratio is nan album\n",
      "There is 0.0017653981953707335 ratio is nan genre\n",
      "There is 0.24038838760298156 ratio is nan album_artist\n",
      "There is 0.0007846214201647705 ratio is nan track\n",
      "There is 0.6722244017261672 ratio is nan lyric\n",
      "2711 raw titles are identical between songs: 7485 unique titles\n",
      "After cleaning brackets etc. only 6202 unique titles remain, i.e. 1283 are highly similar titles \n",
      "In making albumHashandName, we filled in: 146 values Of the total albumHashAndName 171 nan\n",
      "In making albumHashAndNameAndReleaseday, we filled in the: 171 values remaining using the release second hash\n",
      "There is a statistically signficiant relationship between English-like title and rank. So adding feature: isEnglishLikeTitle\n",
      "Len before:  10190\n",
      "Len after:  10183\n",
      "Missing artist_count_id 799\n",
      "Missing artist_mean_id 799\n",
      "Missing artist_std_id 799\n"
     ]
    }
   ],
   "source": [
    "df_train, chosen_features = get_training_set()"
   ]
  },
  {
   "cell_type": "code",
   "execution_count": 288,
   "metadata": {},
   "outputs": [
    {
     "name": "stdout",
     "output_type": "stream",
     "text": [
      "\r",
      "  0%|          | 0/10 [00:00<?, ?it/s, best loss: ?]"
     ]
    },
    {
     "name": "stderr",
     "output_type": "stream",
     "text": [
      "/media/DATA/anaconda3/envs/thriai/lib/python3.6/site-packages/sklearn/model_selection/_split.py:657: Warning: The least populated class in y has only 1 members, which is too few. The minimum number of members in any class cannot be less than n_splits=2.\n",
      "  % (min_groups, self.n_splits)), Warning)\n",
      "\n"
     ]
    },
    {
     "name": "stdout",
     "output_type": "stream",
     "text": [
      "Fold 0                                              \n",
      "  0%|          | 0/10 [00:11<?, ?it/s, best loss: ?]\n"
     ]
    },
    {
     "ename": "KeyboardInterrupt",
     "evalue": "",
     "output_type": "error",
     "traceback": [
      "\u001b[0;31m---------------------------------------------------------------------------\u001b[0m",
      "\u001b[0;31mKeyboardInterrupt\u001b[0m                         Traceback (most recent call last)",
      "\u001b[0;32m<ipython-input-288-ccaa8264cea7>\u001b[0m in \u001b[0;36m<module>\u001b[0;34m\u001b[0m\n\u001b[1;32m     27\u001b[0m             \u001b[0malgo\u001b[0m \u001b[0;34m=\u001b[0m \u001b[0mtpe\u001b[0m\u001b[0;34m.\u001b[0m\u001b[0msuggest\u001b[0m\u001b[0;34m,\u001b[0m\u001b[0;34m\u001b[0m\u001b[0m\n\u001b[1;32m     28\u001b[0m             \u001b[0mmax_evals\u001b[0m \u001b[0;34m=\u001b[0m \u001b[0mMAX_EVALS\u001b[0m\u001b[0;34m,\u001b[0m\u001b[0;34m\u001b[0m\u001b[0m\n\u001b[0;32m---> 29\u001b[0;31m             trials = bayes_trials)\n\u001b[0m",
      "\u001b[0;32m/media/DATA/anaconda3/envs/thriai/lib/python3.6/site-packages/hyperopt/fmin.py\u001b[0m in \u001b[0;36mfmin\u001b[0;34m(fn, space, algo, max_evals, trials, rstate, allow_trials_fmin, pass_expr_memo_ctrl, catch_eval_exceptions, verbose, return_argmin, points_to_evaluate, max_queue_len, show_progressbar)\u001b[0m\n\u001b[1;32m    401\u001b[0m             \u001b[0mcatch_eval_exceptions\u001b[0m\u001b[0;34m=\u001b[0m\u001b[0mcatch_eval_exceptions\u001b[0m\u001b[0;34m,\u001b[0m\u001b[0;34m\u001b[0m\u001b[0m\n\u001b[1;32m    402\u001b[0m             \u001b[0mreturn_argmin\u001b[0m\u001b[0;34m=\u001b[0m\u001b[0mreturn_argmin\u001b[0m\u001b[0;34m,\u001b[0m\u001b[0;34m\u001b[0m\u001b[0m\n\u001b[0;32m--> 403\u001b[0;31m             \u001b[0mshow_progressbar\u001b[0m\u001b[0;34m=\u001b[0m\u001b[0mshow_progressbar\u001b[0m\u001b[0;34m,\u001b[0m\u001b[0;34m\u001b[0m\u001b[0m\n\u001b[0m\u001b[1;32m    404\u001b[0m         )\n\u001b[1;32m    405\u001b[0m \u001b[0;34m\u001b[0m\u001b[0m\n",
      "\u001b[0;32m/media/DATA/anaconda3/envs/thriai/lib/python3.6/site-packages/hyperopt/base.py\u001b[0m in \u001b[0;36mfmin\u001b[0;34m(self, fn, space, algo, max_evals, max_queue_len, rstate, verbose, pass_expr_memo_ctrl, catch_eval_exceptions, return_argmin, show_progressbar)\u001b[0m\n\u001b[1;32m    649\u001b[0m             \u001b[0mcatch_eval_exceptions\u001b[0m\u001b[0;34m=\u001b[0m\u001b[0mcatch_eval_exceptions\u001b[0m\u001b[0;34m,\u001b[0m\u001b[0;34m\u001b[0m\u001b[0m\n\u001b[1;32m    650\u001b[0m             \u001b[0mreturn_argmin\u001b[0m\u001b[0;34m=\u001b[0m\u001b[0mreturn_argmin\u001b[0m\u001b[0;34m,\u001b[0m\u001b[0;34m\u001b[0m\u001b[0m\n\u001b[0;32m--> 651\u001b[0;31m             show_progressbar=show_progressbar)\n\u001b[0m\u001b[1;32m    652\u001b[0m \u001b[0;34m\u001b[0m\u001b[0m\n\u001b[1;32m    653\u001b[0m \u001b[0;34m\u001b[0m\u001b[0m\n",
      "\u001b[0;32m/media/DATA/anaconda3/envs/thriai/lib/python3.6/site-packages/hyperopt/fmin.py\u001b[0m in \u001b[0;36mfmin\u001b[0;34m(fn, space, algo, max_evals, trials, rstate, allow_trials_fmin, pass_expr_memo_ctrl, catch_eval_exceptions, verbose, return_argmin, points_to_evaluate, max_queue_len, show_progressbar)\u001b[0m\n\u001b[1;32m    420\u001b[0m                     show_progressbar=show_progressbar)\n\u001b[1;32m    421\u001b[0m     \u001b[0mrval\u001b[0m\u001b[0;34m.\u001b[0m\u001b[0mcatch_eval_exceptions\u001b[0m \u001b[0;34m=\u001b[0m \u001b[0mcatch_eval_exceptions\u001b[0m\u001b[0;34m\u001b[0m\u001b[0m\n\u001b[0;32m--> 422\u001b[0;31m     \u001b[0mrval\u001b[0m\u001b[0;34m.\u001b[0m\u001b[0mexhaust\u001b[0m\u001b[0;34m(\u001b[0m\u001b[0;34m)\u001b[0m\u001b[0;34m\u001b[0m\u001b[0m\n\u001b[0m\u001b[1;32m    423\u001b[0m     \u001b[0;32mif\u001b[0m \u001b[0mreturn_argmin\u001b[0m\u001b[0;34m:\u001b[0m\u001b[0;34m\u001b[0m\u001b[0m\n\u001b[1;32m    424\u001b[0m         \u001b[0;32mif\u001b[0m \u001b[0mlen\u001b[0m\u001b[0;34m(\u001b[0m\u001b[0mtrials\u001b[0m\u001b[0;34m.\u001b[0m\u001b[0mtrials\u001b[0m\u001b[0;34m)\u001b[0m \u001b[0;34m==\u001b[0m \u001b[0;36m0\u001b[0m\u001b[0;34m:\u001b[0m\u001b[0;34m\u001b[0m\u001b[0m\n",
      "\u001b[0;32m/media/DATA/anaconda3/envs/thriai/lib/python3.6/site-packages/hyperopt/fmin.py\u001b[0m in \u001b[0;36mexhaust\u001b[0;34m(self)\u001b[0m\n\u001b[1;32m    274\u001b[0m     \u001b[0;32mdef\u001b[0m \u001b[0mexhaust\u001b[0m\u001b[0;34m(\u001b[0m\u001b[0mself\u001b[0m\u001b[0;34m)\u001b[0m\u001b[0;34m:\u001b[0m\u001b[0;34m\u001b[0m\u001b[0m\n\u001b[1;32m    275\u001b[0m         \u001b[0mn_done\u001b[0m \u001b[0;34m=\u001b[0m \u001b[0mlen\u001b[0m\u001b[0;34m(\u001b[0m\u001b[0mself\u001b[0m\u001b[0;34m.\u001b[0m\u001b[0mtrials\u001b[0m\u001b[0;34m)\u001b[0m\u001b[0;34m\u001b[0m\u001b[0m\n\u001b[0;32m--> 276\u001b[0;31m         \u001b[0mself\u001b[0m\u001b[0;34m.\u001b[0m\u001b[0mrun\u001b[0m\u001b[0;34m(\u001b[0m\u001b[0mself\u001b[0m\u001b[0;34m.\u001b[0m\u001b[0mmax_evals\u001b[0m \u001b[0;34m-\u001b[0m \u001b[0mn_done\u001b[0m\u001b[0;34m,\u001b[0m \u001b[0mblock_until_done\u001b[0m\u001b[0;34m=\u001b[0m\u001b[0mself\u001b[0m\u001b[0;34m.\u001b[0m\u001b[0masynchronous\u001b[0m\u001b[0;34m)\u001b[0m\u001b[0;34m\u001b[0m\u001b[0m\n\u001b[0m\u001b[1;32m    277\u001b[0m         \u001b[0mself\u001b[0m\u001b[0;34m.\u001b[0m\u001b[0mtrials\u001b[0m\u001b[0;34m.\u001b[0m\u001b[0mrefresh\u001b[0m\u001b[0;34m(\u001b[0m\u001b[0;34m)\u001b[0m\u001b[0;34m\u001b[0m\u001b[0m\n\u001b[1;32m    278\u001b[0m         \u001b[0;32mreturn\u001b[0m \u001b[0mself\u001b[0m\u001b[0;34m\u001b[0m\u001b[0m\n",
      "\u001b[0;32m/media/DATA/anaconda3/envs/thriai/lib/python3.6/site-packages/hyperopt/fmin.py\u001b[0m in \u001b[0;36mrun\u001b[0;34m(self, N, block_until_done)\u001b[0m\n\u001b[1;32m    239\u001b[0m                     \u001b[0;32melse\u001b[0m\u001b[0;34m:\u001b[0m\u001b[0;34m\u001b[0m\u001b[0m\n\u001b[1;32m    240\u001b[0m                         \u001b[0;31m# -- loop over trials and do the jobs directly\u001b[0m\u001b[0;34m\u001b[0m\u001b[0;34m\u001b[0m\u001b[0m\n\u001b[0;32m--> 241\u001b[0;31m                         \u001b[0mself\u001b[0m\u001b[0;34m.\u001b[0m\u001b[0mserial_evaluate\u001b[0m\u001b[0;34m(\u001b[0m\u001b[0;34m)\u001b[0m\u001b[0;34m\u001b[0m\u001b[0m\n\u001b[0m\u001b[1;32m    242\u001b[0m \u001b[0;34m\u001b[0m\u001b[0m\n\u001b[1;32m    243\u001b[0m                     \u001b[0;32mtry\u001b[0m\u001b[0;34m:\u001b[0m\u001b[0;34m\u001b[0m\u001b[0m\n",
      "\u001b[0;32m/media/DATA/anaconda3/envs/thriai/lib/python3.6/site-packages/hyperopt/fmin.py\u001b[0m in \u001b[0;36mserial_evaluate\u001b[0;34m(self, N)\u001b[0m\n\u001b[1;32m    139\u001b[0m                 \u001b[0mctrl\u001b[0m \u001b[0;34m=\u001b[0m \u001b[0mbase\u001b[0m\u001b[0;34m.\u001b[0m\u001b[0mCtrl\u001b[0m\u001b[0;34m(\u001b[0m\u001b[0mself\u001b[0m\u001b[0;34m.\u001b[0m\u001b[0mtrials\u001b[0m\u001b[0;34m,\u001b[0m \u001b[0mcurrent_trial\u001b[0m\u001b[0;34m=\u001b[0m\u001b[0mtrial\u001b[0m\u001b[0;34m)\u001b[0m\u001b[0;34m\u001b[0m\u001b[0m\n\u001b[1;32m    140\u001b[0m                 \u001b[0;32mtry\u001b[0m\u001b[0;34m:\u001b[0m\u001b[0;34m\u001b[0m\u001b[0m\n\u001b[0;32m--> 141\u001b[0;31m                     \u001b[0mresult\u001b[0m \u001b[0;34m=\u001b[0m \u001b[0mself\u001b[0m\u001b[0;34m.\u001b[0m\u001b[0mdomain\u001b[0m\u001b[0;34m.\u001b[0m\u001b[0mevaluate\u001b[0m\u001b[0;34m(\u001b[0m\u001b[0mspec\u001b[0m\u001b[0;34m,\u001b[0m \u001b[0mctrl\u001b[0m\u001b[0;34m)\u001b[0m\u001b[0;34m\u001b[0m\u001b[0m\n\u001b[0m\u001b[1;32m    142\u001b[0m                 \u001b[0;32mexcept\u001b[0m \u001b[0mException\u001b[0m \u001b[0;32mas\u001b[0m \u001b[0me\u001b[0m\u001b[0;34m:\u001b[0m\u001b[0;34m\u001b[0m\u001b[0m\n\u001b[1;32m    143\u001b[0m                     \u001b[0mlogger\u001b[0m\u001b[0;34m.\u001b[0m\u001b[0minfo\u001b[0m\u001b[0;34m(\u001b[0m\u001b[0;34m'job exception: %s'\u001b[0m \u001b[0;34m%\u001b[0m \u001b[0mstr\u001b[0m\u001b[0;34m(\u001b[0m\u001b[0me\u001b[0m\u001b[0;34m)\u001b[0m\u001b[0;34m)\u001b[0m\u001b[0;34m\u001b[0m\u001b[0m\n",
      "\u001b[0;32m/media/DATA/anaconda3/envs/thriai/lib/python3.6/site-packages/hyperopt/base.py\u001b[0m in \u001b[0;36mevaluate\u001b[0;34m(self, config, ctrl, attach_attachments)\u001b[0m\n\u001b[1;32m    854\u001b[0m                 \u001b[0mmemo\u001b[0m\u001b[0;34m=\u001b[0m\u001b[0mmemo\u001b[0m\u001b[0;34m,\u001b[0m\u001b[0;34m\u001b[0m\u001b[0m\n\u001b[1;32m    855\u001b[0m                 print_node_on_error=self.rec_eval_print_node_on_error)\n\u001b[0;32m--> 856\u001b[0;31m             \u001b[0mrval\u001b[0m \u001b[0;34m=\u001b[0m \u001b[0mself\u001b[0m\u001b[0;34m.\u001b[0m\u001b[0mfn\u001b[0m\u001b[0;34m(\u001b[0m\u001b[0mpyll_rval\u001b[0m\u001b[0;34m)\u001b[0m\u001b[0;34m\u001b[0m\u001b[0m\n\u001b[0m\u001b[1;32m    857\u001b[0m \u001b[0;34m\u001b[0m\u001b[0m\n\u001b[1;32m    858\u001b[0m         \u001b[0;32mif\u001b[0m \u001b[0misinstance\u001b[0m\u001b[0;34m(\u001b[0m\u001b[0mrval\u001b[0m\u001b[0;34m,\u001b[0m \u001b[0;34m(\u001b[0m\u001b[0mfloat\u001b[0m\u001b[0;34m,\u001b[0m \u001b[0mint\u001b[0m\u001b[0;34m,\u001b[0m \u001b[0mnp\u001b[0m\u001b[0;34m.\u001b[0m\u001b[0mnumber\u001b[0m\u001b[0;34m)\u001b[0m\u001b[0;34m)\u001b[0m\u001b[0;34m:\u001b[0m\u001b[0;34m\u001b[0m\u001b[0m\n",
      "\u001b[0;32m<ipython-input-286-fbf4b60377fe>\u001b[0m in \u001b[0;36mobjective\u001b[0;34m(params, n_folds)\u001b[0m\n\u001b[1;32m     26\u001b[0m \u001b[0;34m\u001b[0m\u001b[0m\n\u001b[1;32m     27\u001b[0m     \u001b[0;31m# Perform n_folds cross validation\u001b[0m\u001b[0;34m\u001b[0m\u001b[0;34m\u001b[0m\u001b[0m\n\u001b[0;32m---> 28\u001b[0;31m     \u001b[0mcv_results\u001b[0m \u001b[0;34m=\u001b[0m \u001b[0mperform_cv_lightgbm\u001b[0m\u001b[0;34m(\u001b[0m\u001b[0mdf_train\u001b[0m\u001b[0;34m,\u001b[0m \u001b[0mchosen_features\u001b[0m\u001b[0;34m,\u001b[0m \u001b[0mparams\u001b[0m\u001b[0;34m=\u001b[0m\u001b[0mparams\u001b[0m\u001b[0;34m,\u001b[0m \u001b[0mearly_stopping_rounds\u001b[0m\u001b[0;34m=\u001b[0m\u001b[0;36m1\u001b[0m\u001b[0;34m,\u001b[0m \u001b[0mn_folds\u001b[0m\u001b[0;34m=\u001b[0m\u001b[0;36m2\u001b[0m\u001b[0;34m)\u001b[0m\u001b[0;34m\u001b[0m\u001b[0m\n\u001b[0m\u001b[1;32m     29\u001b[0m     \u001b[0;31m# lgb.cv(params, train_set, num_boost_round = 10000, nfold = n_folds,\u001b[0m\u001b[0;34m\u001b[0m\u001b[0;34m\u001b[0m\u001b[0m\n\u001b[1;32m     30\u001b[0m     \u001b[0;31m#                    early_stopping_rounds = 100, metrics = 'auc', seed = 50)\u001b[0m\u001b[0;34m\u001b[0m\u001b[0;34m\u001b[0m\u001b[0m\n",
      "\u001b[0;32m/media/DATA/zalo-hit-song-prediction/src/hyper_sweep/baseline5_for_sweep.py\u001b[0m in \u001b[0;36mperform_cv_lightgbm\u001b[0;34m(df_train, chosen_features, params, early_stopping_rounds, n_folds)\u001b[0m\n\u001b[1;32m     92\u001b[0m         \u001b[0martist_lookup_table\u001b[0m \u001b[0;34m=\u001b[0m \u001b[0mcreate_artist_score_lookup_table\u001b[0m\u001b[0;34m(\u001b[0m\u001b[0mdf_train\u001b[0m\u001b[0;34m.\u001b[0m\u001b[0miloc\u001b[0m\u001b[0;34m[\u001b[0m\u001b[0mtrn_idx\u001b[0m\u001b[0;34m]\u001b[0m\u001b[0;34m)\u001b[0m\u001b[0;34m\u001b[0m\u001b[0m\n\u001b[1;32m     93\u001b[0m         df_train[\"predicted_label\"] = [assign_value_redesigned(album_lookup_table, artist_lookup_table, r) for i, r in\n\u001b[0;32m---> 94\u001b[0;31m                                        df_train.iterrows()]\n\u001b[0m\u001b[1;32m     95\u001b[0m         \u001b[0;31m#df_test[\"predicted_label\"] = [assign_value_redesigned(album_lookup_table, artist_lookup_table, r) for i, r in\u001b[0m\u001b[0;34m\u001b[0m\u001b[0;34m\u001b[0m\u001b[0m\n\u001b[1;32m     96\u001b[0m         \u001b[0;31m#                              df_test.iterrows()]\u001b[0m\u001b[0;34m\u001b[0m\u001b[0;34m\u001b[0m\u001b[0m\n",
      "\u001b[0;32m/media/DATA/zalo-hit-song-prediction/src/hyper_sweep/baseline5_for_sweep.py\u001b[0m in \u001b[0;36m<listcomp>\u001b[0;34m(.0)\u001b[0m\n\u001b[1;32m     91\u001b[0m         \u001b[0malbum_lookup_table\u001b[0m \u001b[0;34m=\u001b[0m \u001b[0mcreate_album_score_lookup_table\u001b[0m\u001b[0;34m(\u001b[0m\u001b[0mdf_train\u001b[0m\u001b[0;34m.\u001b[0m\u001b[0miloc\u001b[0m\u001b[0;34m[\u001b[0m\u001b[0mtrn_idx\u001b[0m\u001b[0;34m]\u001b[0m\u001b[0;34m)\u001b[0m\u001b[0;34m\u001b[0m\u001b[0m\n\u001b[1;32m     92\u001b[0m         \u001b[0martist_lookup_table\u001b[0m \u001b[0;34m=\u001b[0m \u001b[0mcreate_artist_score_lookup_table\u001b[0m\u001b[0;34m(\u001b[0m\u001b[0mdf_train\u001b[0m\u001b[0;34m.\u001b[0m\u001b[0miloc\u001b[0m\u001b[0;34m[\u001b[0m\u001b[0mtrn_idx\u001b[0m\u001b[0;34m]\u001b[0m\u001b[0;34m)\u001b[0m\u001b[0;34m\u001b[0m\u001b[0m\n\u001b[0;32m---> 93\u001b[0;31m         df_train[\"predicted_label\"] = [assign_value_redesigned(album_lookup_table, artist_lookup_table, r) for i, r in\n\u001b[0m\u001b[1;32m     94\u001b[0m                                        df_train.iterrows()]\n\u001b[1;32m     95\u001b[0m         \u001b[0;31m#df_test[\"predicted_label\"] = [assign_value_redesigned(album_lookup_table, artist_lookup_table, r) for i, r in\u001b[0m\u001b[0;34m\u001b[0m\u001b[0;34m\u001b[0m\u001b[0m\n",
      "\u001b[0;32m/media/DATA/zalo-hit-song-prediction/src/hyper_sweep/format_features.py\u001b[0m in \u001b[0;36massign_value_redesigned\u001b[0;34m(album_table, artist_table, row)\u001b[0m\n\u001b[1;32m    419\u001b[0m     \u001b[0;32mand\u001b[0m \u001b[0martist_mean_id\u001b[0m \u001b[0;34m(\u001b[0m\u001b[0mThe\u001b[0m \u001b[0mbest\u001b[0m \u001b[0mscoring\u001b[0m \u001b[0mID\u001b[0m \u001b[0mamongst\u001b[0m \u001b[0martists\u001b[0m \u001b[0;32mfor\u001b[0m \u001b[0mthat\u001b[0m \u001b[0msong\u001b[0m\u001b[0;34m)\u001b[0m\u001b[0;34m\u001b[0m\u001b[0m\n\u001b[1;32m    420\u001b[0m     '''\n\u001b[0;32m--> 421\u001b[0;31m     \u001b[0malbum_rank_stats\u001b[0m\u001b[0;34m,\u001b[0m \u001b[0malbum_not_found\u001b[0m \u001b[0;34m=\u001b[0m \u001b[0mget_value_by_key\u001b[0m\u001b[0;34m(\u001b[0m\u001b[0malbum_table\u001b[0m\u001b[0;34m,\u001b[0m \u001b[0mrow\u001b[0m\u001b[0;34m.\u001b[0m\u001b[0malbum_right\u001b[0m\u001b[0;34m)\u001b[0m\u001b[0;34m\u001b[0m\u001b[0m\n\u001b[0m\u001b[1;32m    422\u001b[0m     \u001b[0martist_rank_stats\u001b[0m\u001b[0;34m,\u001b[0m \u001b[0martist_not_found\u001b[0m \u001b[0;34m=\u001b[0m \u001b[0mget_value_by_key\u001b[0m\u001b[0;34m(\u001b[0m\u001b[0martist_table\u001b[0m\u001b[0;34m,\u001b[0m \u001b[0mrow\u001b[0m\u001b[0;34m.\u001b[0m\u001b[0martist_mean_id\u001b[0m\u001b[0;34m)\u001b[0m\u001b[0;34m\u001b[0m\u001b[0m\n\u001b[1;32m    423\u001b[0m \u001b[0;34m\u001b[0m\u001b[0m\n",
      "\u001b[0;32m/media/DATA/zalo-hit-song-prediction/src/hyper_sweep/format_features.py\u001b[0m in \u001b[0;36mget_value_by_key\u001b[0;34m(table, k)\u001b[0m\n\u001b[1;32m    409\u001b[0m     \u001b[0;31m# Else return np.nan and True to represent unavailable\u001b[0m\u001b[0;34m\u001b[0m\u001b[0;34m\u001b[0m\u001b[0m\n\u001b[1;32m    410\u001b[0m     \u001b[0;32mif\u001b[0m \u001b[0mk\u001b[0m \u001b[0;32min\u001b[0m \u001b[0mtable\u001b[0m\u001b[0;34m.\u001b[0m\u001b[0mindex\u001b[0m\u001b[0;34m:\u001b[0m\u001b[0;34m\u001b[0m\u001b[0m\n\u001b[0;32m--> 411\u001b[0;31m         \u001b[0;32mreturn\u001b[0m \u001b[0mtable\u001b[0m\u001b[0;34m.\u001b[0m\u001b[0mloc\u001b[0m\u001b[0;34m[\u001b[0m\u001b[0mk\u001b[0m\u001b[0;34m]\u001b[0m\u001b[0;34m,\u001b[0m \u001b[0;32mFalse\u001b[0m\u001b[0;34m\u001b[0m\u001b[0m\n\u001b[0m\u001b[1;32m    412\u001b[0m     \u001b[0;32mreturn\u001b[0m \u001b[0mnp\u001b[0m\u001b[0;34m.\u001b[0m\u001b[0mnan\u001b[0m\u001b[0;34m,\u001b[0m \u001b[0;32mTrue\u001b[0m\u001b[0;34m\u001b[0m\u001b[0m\n\u001b[1;32m    413\u001b[0m \u001b[0;34m\u001b[0m\u001b[0m\n",
      "\u001b[0;32m/media/DATA/anaconda3/envs/thriai/lib/python3.6/site-packages/pandas/core/indexing.py\u001b[0m in \u001b[0;36m__getitem__\u001b[0;34m(self, key)\u001b[0m\n\u001b[1;32m   1476\u001b[0m \u001b[0;34m\u001b[0m\u001b[0m\n\u001b[1;32m   1477\u001b[0m             \u001b[0mmaybe_callable\u001b[0m \u001b[0;34m=\u001b[0m \u001b[0mcom\u001b[0m\u001b[0;34m.\u001b[0m\u001b[0m_apply_if_callable\u001b[0m\u001b[0;34m(\u001b[0m\u001b[0mkey\u001b[0m\u001b[0;34m,\u001b[0m \u001b[0mself\u001b[0m\u001b[0;34m.\u001b[0m\u001b[0mobj\u001b[0m\u001b[0;34m)\u001b[0m\u001b[0;34m\u001b[0m\u001b[0m\n\u001b[0;32m-> 1478\u001b[0;31m             \u001b[0;32mreturn\u001b[0m \u001b[0mself\u001b[0m\u001b[0;34m.\u001b[0m\u001b[0m_getitem_axis\u001b[0m\u001b[0;34m(\u001b[0m\u001b[0mmaybe_callable\u001b[0m\u001b[0;34m,\u001b[0m \u001b[0maxis\u001b[0m\u001b[0;34m=\u001b[0m\u001b[0maxis\u001b[0m\u001b[0;34m)\u001b[0m\u001b[0;34m\u001b[0m\u001b[0m\n\u001b[0m\u001b[1;32m   1479\u001b[0m \u001b[0;34m\u001b[0m\u001b[0m\n\u001b[1;32m   1480\u001b[0m     \u001b[0;32mdef\u001b[0m \u001b[0m_is_scalar_access\u001b[0m\u001b[0;34m(\u001b[0m\u001b[0mself\u001b[0m\u001b[0;34m,\u001b[0m \u001b[0mkey\u001b[0m\u001b[0;34m)\u001b[0m\u001b[0;34m:\u001b[0m\u001b[0;34m\u001b[0m\u001b[0m\n",
      "\u001b[0;32m/media/DATA/anaconda3/envs/thriai/lib/python3.6/site-packages/pandas/core/indexing.py\u001b[0m in \u001b[0;36m_getitem_axis\u001b[0;34m(self, key, axis)\u001b[0m\n\u001b[1;32m   1910\u001b[0m         \u001b[0;31m# fall thru to straight lookup\u001b[0m\u001b[0;34m\u001b[0m\u001b[0;34m\u001b[0m\u001b[0m\n\u001b[1;32m   1911\u001b[0m         \u001b[0mself\u001b[0m\u001b[0;34m.\u001b[0m\u001b[0m_validate_key\u001b[0m\u001b[0;34m(\u001b[0m\u001b[0mkey\u001b[0m\u001b[0;34m,\u001b[0m \u001b[0maxis\u001b[0m\u001b[0;34m)\u001b[0m\u001b[0;34m\u001b[0m\u001b[0m\n\u001b[0;32m-> 1912\u001b[0;31m         \u001b[0;32mreturn\u001b[0m \u001b[0mself\u001b[0m\u001b[0;34m.\u001b[0m\u001b[0m_get_label\u001b[0m\u001b[0;34m(\u001b[0m\u001b[0mkey\u001b[0m\u001b[0;34m,\u001b[0m \u001b[0maxis\u001b[0m\u001b[0;34m=\u001b[0m\u001b[0maxis\u001b[0m\u001b[0;34m)\u001b[0m\u001b[0;34m\u001b[0m\u001b[0m\n\u001b[0m\u001b[1;32m   1913\u001b[0m \u001b[0;34m\u001b[0m\u001b[0m\n\u001b[1;32m   1914\u001b[0m \u001b[0;34m\u001b[0m\u001b[0m\n",
      "\u001b[0;32m/media/DATA/anaconda3/envs/thriai/lib/python3.6/site-packages/pandas/core/indexing.py\u001b[0m in \u001b[0;36m_get_label\u001b[0;34m(self, label, axis)\u001b[0m\n\u001b[1;32m    138\u001b[0m             \u001b[0;32mraise\u001b[0m \u001b[0mIndexingError\u001b[0m\u001b[0;34m(\u001b[0m\u001b[0;34m'no slices here, handle elsewhere'\u001b[0m\u001b[0;34m)\u001b[0m\u001b[0;34m\u001b[0m\u001b[0m\n\u001b[1;32m    139\u001b[0m \u001b[0;34m\u001b[0m\u001b[0m\n\u001b[0;32m--> 140\u001b[0;31m         \u001b[0;32mreturn\u001b[0m \u001b[0mself\u001b[0m\u001b[0;34m.\u001b[0m\u001b[0mobj\u001b[0m\u001b[0;34m.\u001b[0m\u001b[0m_xs\u001b[0m\u001b[0;34m(\u001b[0m\u001b[0mlabel\u001b[0m\u001b[0;34m,\u001b[0m \u001b[0maxis\u001b[0m\u001b[0;34m=\u001b[0m\u001b[0maxis\u001b[0m\u001b[0;34m)\u001b[0m\u001b[0;34m\u001b[0m\u001b[0m\n\u001b[0m\u001b[1;32m    141\u001b[0m \u001b[0;34m\u001b[0m\u001b[0m\n\u001b[1;32m    142\u001b[0m     \u001b[0;32mdef\u001b[0m \u001b[0m_get_loc\u001b[0m\u001b[0;34m(\u001b[0m\u001b[0mself\u001b[0m\u001b[0;34m,\u001b[0m \u001b[0mkey\u001b[0m\u001b[0;34m,\u001b[0m \u001b[0maxis\u001b[0m\u001b[0;34m=\u001b[0m\u001b[0;32mNone\u001b[0m\u001b[0;34m)\u001b[0m\u001b[0;34m:\u001b[0m\u001b[0;34m\u001b[0m\u001b[0m\n",
      "\u001b[0;32m/media/DATA/anaconda3/envs/thriai/lib/python3.6/site-packages/pandas/core/generic.py\u001b[0m in \u001b[0;36mxs\u001b[0;34m(self, key, axis, level, drop_level)\u001b[0m\n\u001b[1;32m   2998\u001b[0m \u001b[0;34m\u001b[0m\u001b[0m\n\u001b[1;32m   2999\u001b[0m         \u001b[0;32mif\u001b[0m \u001b[0mis_scalar\u001b[0m\u001b[0;34m(\u001b[0m\u001b[0mloc\u001b[0m\u001b[0;34m)\u001b[0m\u001b[0;34m:\u001b[0m\u001b[0;34m\u001b[0m\u001b[0m\n\u001b[0;32m-> 3000\u001b[0;31m             \u001b[0mnew_values\u001b[0m \u001b[0;34m=\u001b[0m \u001b[0mself\u001b[0m\u001b[0;34m.\u001b[0m\u001b[0m_data\u001b[0m\u001b[0;34m.\u001b[0m\u001b[0mfast_xs\u001b[0m\u001b[0;34m(\u001b[0m\u001b[0mloc\u001b[0m\u001b[0;34m)\u001b[0m\u001b[0;34m\u001b[0m\u001b[0m\n\u001b[0m\u001b[1;32m   3001\u001b[0m \u001b[0;34m\u001b[0m\u001b[0m\n\u001b[1;32m   3002\u001b[0m             \u001b[0;31m# may need to box a datelike-scalar\u001b[0m\u001b[0;34m\u001b[0m\u001b[0;34m\u001b[0m\u001b[0m\n",
      "\u001b[0;32m/media/DATA/anaconda3/envs/thriai/lib/python3.6/site-packages/pandas/core/internals.py\u001b[0m in \u001b[0;36mfast_xs\u001b[0;34m(self, loc)\u001b[0m\n\u001b[1;32m   4072\u001b[0m \u001b[0;34m\u001b[0m\u001b[0m\n\u001b[1;32m   4073\u001b[0m         \u001b[0;31m# unique\u001b[0m\u001b[0;34m\u001b[0m\u001b[0;34m\u001b[0m\u001b[0m\n\u001b[0;32m-> 4074\u001b[0;31m         \u001b[0mdtype\u001b[0m \u001b[0;34m=\u001b[0m \u001b[0m_interleaved_dtype\u001b[0m\u001b[0;34m(\u001b[0m\u001b[0mself\u001b[0m\u001b[0;34m.\u001b[0m\u001b[0mblocks\u001b[0m\u001b[0;34m)\u001b[0m\u001b[0;34m\u001b[0m\u001b[0m\n\u001b[0m\u001b[1;32m   4075\u001b[0m         \u001b[0mn\u001b[0m \u001b[0;34m=\u001b[0m \u001b[0mlen\u001b[0m\u001b[0;34m(\u001b[0m\u001b[0mitems\u001b[0m\u001b[0;34m)\u001b[0m\u001b[0;34m\u001b[0m\u001b[0m\n\u001b[1;32m   4076\u001b[0m         \u001b[0mresult\u001b[0m \u001b[0;34m=\u001b[0m \u001b[0mnp\u001b[0m\u001b[0;34m.\u001b[0m\u001b[0mempty\u001b[0m\u001b[0;34m(\u001b[0m\u001b[0mn\u001b[0m\u001b[0;34m,\u001b[0m \u001b[0mdtype\u001b[0m\u001b[0;34m=\u001b[0m\u001b[0mdtype\u001b[0m\u001b[0;34m)\u001b[0m\u001b[0;34m\u001b[0m\u001b[0m\n",
      "\u001b[0;32m/media/DATA/anaconda3/envs/thriai/lib/python3.6/site-packages/pandas/core/internals.py\u001b[0m in \u001b[0;36m_interleaved_dtype\u001b[0;34m(blocks)\u001b[0m\n\u001b[1;32m   5046\u001b[0m         \u001b[0;32mreturn\u001b[0m \u001b[0;32mNone\u001b[0m\u001b[0;34m\u001b[0m\u001b[0m\n\u001b[1;32m   5047\u001b[0m \u001b[0;34m\u001b[0m\u001b[0m\n\u001b[0;32m-> 5048\u001b[0;31m     \u001b[0mdtype\u001b[0m \u001b[0;34m=\u001b[0m \u001b[0mfind_common_type\u001b[0m\u001b[0;34m(\u001b[0m\u001b[0;34m[\u001b[0m\u001b[0mb\u001b[0m\u001b[0;34m.\u001b[0m\u001b[0mdtype\u001b[0m \u001b[0;32mfor\u001b[0m \u001b[0mb\u001b[0m \u001b[0;32min\u001b[0m \u001b[0mblocks\u001b[0m\u001b[0;34m]\u001b[0m\u001b[0;34m)\u001b[0m\u001b[0;34m\u001b[0m\u001b[0m\n\u001b[0m\u001b[1;32m   5049\u001b[0m \u001b[0;34m\u001b[0m\u001b[0m\n\u001b[1;32m   5050\u001b[0m     \u001b[0;31m# only numpy compat\u001b[0m\u001b[0;34m\u001b[0m\u001b[0;34m\u001b[0m\u001b[0m\n",
      "\u001b[0;32m/media/DATA/anaconda3/envs/thriai/lib/python3.6/site-packages/pandas/core/dtypes/cast.py\u001b[0m in \u001b[0;36mfind_common_type\u001b[0;34m(types)\u001b[0m\n\u001b[1;32m   1131\u001b[0m     \u001b[0;31m# don't mix bool / int or float or complex\u001b[0m\u001b[0;34m\u001b[0m\u001b[0;34m\u001b[0m\u001b[0m\n\u001b[1;32m   1132\u001b[0m     \u001b[0;31m# this is different from numpy, which casts bool with float/int as int\u001b[0m\u001b[0;34m\u001b[0m\u001b[0;34m\u001b[0m\u001b[0m\n\u001b[0;32m-> 1133\u001b[0;31m     \u001b[0mhas_bools\u001b[0m \u001b[0;34m=\u001b[0m \u001b[0many\u001b[0m\u001b[0;34m(\u001b[0m\u001b[0mis_bool_dtype\u001b[0m\u001b[0;34m(\u001b[0m\u001b[0mt\u001b[0m\u001b[0;34m)\u001b[0m \u001b[0;32mfor\u001b[0m \u001b[0mt\u001b[0m \u001b[0;32min\u001b[0m \u001b[0mtypes\u001b[0m\u001b[0;34m)\u001b[0m\u001b[0;34m\u001b[0m\u001b[0m\n\u001b[0m\u001b[1;32m   1134\u001b[0m     \u001b[0;32mif\u001b[0m \u001b[0mhas_bools\u001b[0m\u001b[0;34m:\u001b[0m\u001b[0;34m\u001b[0m\u001b[0m\n\u001b[1;32m   1135\u001b[0m         \u001b[0mhas_ints\u001b[0m \u001b[0;34m=\u001b[0m \u001b[0many\u001b[0m\u001b[0;34m(\u001b[0m\u001b[0mis_integer_dtype\u001b[0m\u001b[0;34m(\u001b[0m\u001b[0mt\u001b[0m\u001b[0;34m)\u001b[0m \u001b[0;32mfor\u001b[0m \u001b[0mt\u001b[0m \u001b[0;32min\u001b[0m \u001b[0mtypes\u001b[0m\u001b[0;34m)\u001b[0m\u001b[0;34m\u001b[0m\u001b[0m\n",
      "\u001b[0;32m/media/DATA/anaconda3/envs/thriai/lib/python3.6/site-packages/pandas/core/dtypes/cast.py\u001b[0m in \u001b[0;36m<genexpr>\u001b[0;34m(.0)\u001b[0m\n\u001b[1;32m   1131\u001b[0m     \u001b[0;31m# don't mix bool / int or float or complex\u001b[0m\u001b[0;34m\u001b[0m\u001b[0;34m\u001b[0m\u001b[0m\n\u001b[1;32m   1132\u001b[0m     \u001b[0;31m# this is different from numpy, which casts bool with float/int as int\u001b[0m\u001b[0;34m\u001b[0m\u001b[0;34m\u001b[0m\u001b[0m\n\u001b[0;32m-> 1133\u001b[0;31m     \u001b[0mhas_bools\u001b[0m \u001b[0;34m=\u001b[0m \u001b[0many\u001b[0m\u001b[0;34m(\u001b[0m\u001b[0mis_bool_dtype\u001b[0m\u001b[0;34m(\u001b[0m\u001b[0mt\u001b[0m\u001b[0;34m)\u001b[0m \u001b[0;32mfor\u001b[0m \u001b[0mt\u001b[0m \u001b[0;32min\u001b[0m \u001b[0mtypes\u001b[0m\u001b[0;34m)\u001b[0m\u001b[0;34m\u001b[0m\u001b[0m\n\u001b[0m\u001b[1;32m   1134\u001b[0m     \u001b[0;32mif\u001b[0m \u001b[0mhas_bools\u001b[0m\u001b[0;34m:\u001b[0m\u001b[0;34m\u001b[0m\u001b[0m\n\u001b[1;32m   1135\u001b[0m         \u001b[0mhas_ints\u001b[0m \u001b[0;34m=\u001b[0m \u001b[0many\u001b[0m\u001b[0;34m(\u001b[0m\u001b[0mis_integer_dtype\u001b[0m\u001b[0;34m(\u001b[0m\u001b[0mt\u001b[0m\u001b[0;34m)\u001b[0m \u001b[0;32mfor\u001b[0m \u001b[0mt\u001b[0m \u001b[0;32min\u001b[0m \u001b[0mtypes\u001b[0m\u001b[0;34m)\u001b[0m\u001b[0;34m\u001b[0m\u001b[0m\n",
      "\u001b[0;31mKeyboardInterrupt\u001b[0m: "
     ]
    }
   ],
   "source": [
    "\n",
    "from hyperopt import fmin\n",
    "\n",
    "# Trials object to track progress\n",
    "bayes_trials = Trials()\n",
    "# Algorithm\n",
    "tpe_algorithm = tpe.suggest\n",
    "# File to save first results\n",
    "out_file = 'gbm_trials.csv'\n",
    "of_connection = open(out_file, 'w')\n",
    "writer = csv.writer(of_connection)\n",
    "# Write the headers to the file\n",
    "writer.writerow(['loss', 'params', 'iteration', 'rmse_std', 'best_stopping_iter',\n",
    "                 'best_stopping_iter_mean', 'best_stopping_iter_std', 'train_time', 'status'])\n",
    "    \n",
    "of_connection.close()\n",
    "\n",
    "# Global variable\n",
    "global  ITERATION\n",
    "\n",
    "ITERATION = 0\n",
    "\n",
    "MAX_EVALS = 10\n",
    "\n",
    "# Optimize\n",
    "best = fmin(fn = objective, \n",
    "            space = space, \n",
    "            algo = tpe.suggest, \n",
    "            max_evals = MAX_EVALS, \n",
    "            trials = bayes_trials)"
   ]
  },
  {
   "cell_type": "code",
   "execution_count": 220,
   "metadata": {},
   "outputs": [
    {
     "name": "stdout",
     "output_type": "stream",
     "text": [
      "== Status ==\n",
      "Using AsyncHyperBand: num_stopped=0\n",
      "Bracket: Iter 64.000: None | Iter 16.000: None | Iter 4.000: None | Iter 1.000: None\n",
      "Resources requested: 0/8 CPUs, 0/1 GPUs, 0.0/1.51 GiB heap, 0.0/0.49 GiB objects\n",
      "Memory usage on this node: 10.2/15.6 GiB\n",
      "\n"
     ]
    },
    {
     "name": "stderr",
     "output_type": "stream",
     "text": [
      "2019-11-26 00:47:59,911\tWARNING worker.py:1619 -- Warning: The actor WrappedFunc has size 17145505 when pickled. It will be stored in Redis, which could cause memory issues. This may mean that its definition uses a large array or other object.\n"
     ]
    },
    {
     "name": "stdout",
     "output_type": "stream",
     "text": [
      "== Status ==\n",
      "Using AsyncHyperBand: num_stopped=0\n",
      "Bracket: Iter 64.000: None | Iter 16.000: None | Iter 4.000: None | Iter 1.000: None\n",
      "Resources requested: 1/8 CPUs, 0/1 GPUs, 0.0/1.51 GiB heap, 0.0/0.49 GiB objects\n",
      "Memory usage on this node: 10.3/15.6 GiB\n",
      "Result logdir: /home/ben/ray_results/hyperband_test2\n",
      "Number of trials: 2 ({'RUNNING': 1, 'PENDING': 1})\n",
      "PENDING trials:\n",
      " - objective_2_gbdt=0.95931,gbdt=6,boost_from_average=false,boosting_type=goss,class_weight=None,colsample_bytree=0.91728,feature_fraction=0.6398,iterations=2,learning_rate=0.022792,max_depth=-1,metric=root_mean_squared_error,min_child_samples=6,min_data_in_leaf=14,num_leaves=136,num_threads=1,objective=regression,reg_alpha=0.444,reg_lambda=0.83056,seed=99999,subsample_for_bin=7,tree_learner=serial,use_missing=True,verbosity=1:\tPENDING\n",
      "RUNNING trials:\n",
      " - objective_1_gbdt=0.95012,gbdt=14,boost_from_average=false,boosting_type=gbdt,subsample=0.80368,class_weight=balanced,colsample_bytree=0.76208,feature_fraction=0.25823,iterations=2,learning_rate=0.069354,max_depth=-1,metric=root_mean_squared_error,min_child_samples=18,min_data_in_leaf=8,num_leaves=33,num_threads=1,objective=regression,reg_alpha=0.62144,reg_lambda=0.65754,seed=99999,subsample_for_bin=6,tree_learner=serial,use_missing=True,verbosity=1:\tRUNNING\n",
      "\n"
     ]
    },
    {
     "name": "stderr",
     "output_type": "stream",
     "text": [
      "2019-11-26 00:48:00,201\tWARNING worker.py:1619 -- Warning: The actor WrappedFunc has size 17145505 when pickled. It will be stored in Redis, which could cause memory issues. This may mean that its definition uses a large array or other object.\n"
     ]
    },
    {
     "name": "stdout",
     "output_type": "stream",
     "text": [
      "\u001b[2m\u001b[36m(pid=2889)\u001b[0m /media/DATA/anaconda3/envs/thriai/lib/python3.6/site-packages/sklearn/model_selection/_split.py:657: Warning: The least populated class in y has only 1 members, which is too few. The minimum number of members in any class cannot be less than n_splits=2.\n",
      "\u001b[2m\u001b[36m(pid=2889)\u001b[0m   % (min_groups, self.n_splits)), Warning)\n",
      "\u001b[2m\u001b[36m(pid=2889)\u001b[0m Fold 0\n",
      "\u001b[2m\u001b[36m(pid=4371)\u001b[0m /media/DATA/anaconda3/envs/thriai/lib/python3.6/site-packages/sklearn/model_selection/_split.py:657: Warning: The least populated class in y has only 1 members, which is too few. The minimum number of members in any class cannot be less than n_splits=2.\n",
      "\u001b[2m\u001b[36m(pid=4371)\u001b[0m   % (min_groups, self.n_splits)), Warning)\n",
      "\u001b[2m\u001b[36m(pid=4371)\u001b[0m Fold 0\n",
      "\u001b[2m\u001b[36m(pid=2889)\u001b[0m [LightGBM] [Warning] Unknown parameter: class_weight\n",
      "\u001b[2m\u001b[36m(pid=2889)\u001b[0m [LightGBM] [Warning] Unknown parameter: iterations\n",
      "\u001b[2m\u001b[36m(pid=2889)\u001b[0m [LightGBM] [Warning] min_data_in_leaf is set=8, min_child_samples=18 will be ignored. Current value: min_data_in_leaf=8\n",
      "\u001b[2m\u001b[36m(pid=2889)\u001b[0m [LightGBM] [Warning] feature_fraction is set=0.2582316655084985, colsample_bytree=0.7620829044761457 will be ignored. Current value: feature_fraction=0.2582316655084985\n",
      "\u001b[2m\u001b[36m(pid=2889)\u001b[0m [LightGBM] [Warning] bagging_fraction is set=1, subsample=0.8036757566950207 will be ignored. Current value: bagging_fraction=1\n",
      "\u001b[2m\u001b[36m(pid=2889)\u001b[0m [LightGBM] [Warning] verbosity is set=1, verbose=-1 will be ignored. Current value: verbosity=1\n",
      "\u001b[2m\u001b[36m(pid=2889)\u001b[0m [LightGBM] [Warning] Met categorical feature which contains sparse values. Consider renumbering to consecutive integers started from zero\n",
      "\u001b[2m\u001b[36m(pid=2889)\u001b[0m [LightGBM] [Warning] Met categorical feature which contains sparse values. Consider renumbering to consecutive integers started from zero\n",
      "\u001b[2m\u001b[36m(pid=2889)\u001b[0m [LightGBM] [Warning] Met categorical feature which contains sparse values. Consider renumbering to consecutive integers started from zero\n",
      "\u001b[2m\u001b[36m(pid=2889)\u001b[0m [LightGBM] [Warning] Unknown parameter: class_weight\n",
      "\u001b[2m\u001b[36m(pid=2889)\u001b[0m [LightGBM] [Warning] Unknown parameter: iterations\n",
      "\u001b[2m\u001b[36m(pid=2889)\u001b[0m [LightGBM] [Warning] bagging_fraction is set=1, subsample=0.8036757566950207 will be ignored. Current value: bagging_fraction=1\n",
      "\u001b[2m\u001b[36m(pid=2889)\u001b[0m [LightGBM] [Warning] feature_fraction is set=0.2582316655084985, colsample_bytree=0.7620829044761457 will be ignored. Current value: feature_fraction=0.2582316655084985\n",
      "\u001b[2m\u001b[36m(pid=2889)\u001b[0m [LightGBM] [Warning] min_data_in_leaf is set=8, min_child_samples=18 will be ignored. Current value: min_data_in_leaf=8\n",
      "\u001b[2m\u001b[36m(pid=2889)\u001b[0m [LightGBM] [Info] Total Bins 104\n",
      "\u001b[2m\u001b[36m(pid=2889)\u001b[0m [LightGBM] [Info] Number of data: 4247, number of used features: 38\n",
      "\u001b[2m\u001b[36m(pid=2889)\u001b[0m [LightGBM] [Warning] Unknown parameter: class_weight\n",
      "\u001b[2m\u001b[36m(pid=2889)\u001b[0m [LightGBM] [Warning] Unknown parameter: iterations\n",
      "\u001b[2m\u001b[36m(pid=2889)\u001b[0m [LightGBM] [Warning] min_data_in_leaf is set=8, min_child_samples=18 will be ignored. Current value: min_data_in_leaf=8\n",
      "\u001b[2m\u001b[36m(pid=2889)\u001b[0m [LightGBM] [Warning] feature_fraction is set=0.2582316655084985, colsample_bytree=0.7620829044761457 will be ignored. Current value: feature_fraction=0.2582316655084985\n",
      "\u001b[2m\u001b[36m(pid=2889)\u001b[0m [LightGBM] [Warning] bagging_fraction is set=1, subsample=0.8036757566950207 will be ignored. Current value: bagging_fraction=1\n",
      "\u001b[2m\u001b[36m(pid=2889)\u001b[0m [LightGBM] [Warning] verbosity is set=1, verbose=-1 will be ignored. Current value: verbosity=1\n",
      "\u001b[2m\u001b[36m(pid=2889)\u001b[0m Training until validation scores don't improve for 1 rounds\n",
      "\u001b[2m\u001b[36m(pid=2889)\u001b[0m Did not meet early stopping. Best iteration is:\n",
      "\u001b[2m\u001b[36m(pid=2889)\u001b[0m [1]\ttraining's rmse: 5.83791\tvalid_1's rmse: 5.88707\n",
      "\u001b[2m\u001b[36m(pid=2889)\u001b[0m Fold 1\n",
      "\u001b[2m\u001b[36m(pid=4371)\u001b[0m [LightGBM] [Warning] Unknown parameter: iterations\n",
      "\u001b[2m\u001b[36m(pid=4371)\u001b[0m [LightGBM] [Warning] min_data_in_leaf is set=14, min_child_samples=6 will be ignored. Current value: min_data_in_leaf=14\n",
      "\u001b[2m\u001b[36m(pid=4371)\u001b[0m [LightGBM] [Warning] feature_fraction is set=0.6398003435705414, colsample_bytree=0.9172796226169015 will be ignored. Current value: feature_fraction=0.6398003435705414\n",
      "\u001b[2m\u001b[36m(pid=4371)\u001b[0m [LightGBM] [Warning] bagging_fraction is set=1, subsample=1.0 will be ignored. Current value: bagging_fraction=1\n",
      "\u001b[2m\u001b[36m(pid=4371)\u001b[0m [LightGBM] [Warning] verbosity is set=1, verbose=-1 will be ignored. Current value: verbosity=1\n",
      "\u001b[2m\u001b[36m(pid=4371)\u001b[0m [LightGBM] [Warning] Met categorical feature which contains sparse values. Consider renumbering to consecutive integers started from zero\n",
      "\u001b[2m\u001b[36m(pid=4371)\u001b[0m [LightGBM] [Warning] Met categorical feature which contains sparse values. Consider renumbering to consecutive integers started from zero\n",
      "\u001b[2m\u001b[36m(pid=4371)\u001b[0m [LightGBM] [Warning] Met categorical feature which contains sparse values. Consider renumbering to consecutive integers started from zero\n",
      "\u001b[2m\u001b[36m(pid=4371)\u001b[0m [LightGBM] [Warning] Unknown parameter: iterations\n",
      "\u001b[2m\u001b[36m(pid=4371)\u001b[0m [LightGBM] [Warning] bagging_fraction is set=1, subsample=1.0 will be ignored. Current value: bagging_fraction=1\n",
      "\u001b[2m\u001b[36m(pid=4371)\u001b[0m [LightGBM] [Warning] feature_fraction is set=0.6398003435705414, colsample_bytree=0.9172796226169015 will be ignored. Current value: feature_fraction=0.6398003435705414\n",
      "\u001b[2m\u001b[36m(pid=4371)\u001b[0m [LightGBM] [Warning] min_data_in_leaf is set=14, min_child_samples=6 will be ignored. Current value: min_data_in_leaf=14\n",
      "\u001b[2m\u001b[36m(pid=4371)\u001b[0m [LightGBM] [Info] Total Bins 132\n",
      "\u001b[2m\u001b[36m(pid=4371)\u001b[0m [LightGBM] [Info] Number of data: 4247, number of used features: 41\n",
      "\u001b[2m\u001b[36m(pid=4371)\u001b[0m [LightGBM] [Info] Using GOSS\n",
      "\u001b[2m\u001b[36m(pid=4371)\u001b[0m [LightGBM] [Warning] Unknown parameter: iterations\n",
      "\u001b[2m\u001b[36m(pid=4371)\u001b[0m [LightGBM] [Warning] min_data_in_leaf is set=14, min_child_samples=6 will be ignored. Current value: min_data_in_leaf=14\n",
      "\u001b[2m\u001b[36m(pid=4371)\u001b[0m [LightGBM] [Warning] feature_fraction is set=0.6398003435705414, colsample_bytree=0.9172796226169015 will be ignored. Current value: feature_fraction=0.6398003435705414\n",
      "\u001b[2m\u001b[36m(pid=4371)\u001b[0m [LightGBM] [Warning] bagging_fraction is set=1, subsample=1.0 will be ignored. Current value: bagging_fraction=1\n",
      "\u001b[2m\u001b[36m(pid=4371)\u001b[0m [LightGBM] [Warning] verbosity is set=1, verbose=-1 will be ignored. Current value: verbosity=1\n",
      "\u001b[2m\u001b[36m(pid=4371)\u001b[0m Training until validation scores don't improve for 1 rounds\n",
      "\u001b[2m\u001b[36m(pid=4371)\u001b[0m Did not meet early stopping. Best iteration is:\n",
      "\u001b[2m\u001b[36m(pid=4371)\u001b[0m [1]\ttraining's rmse: 6.08006\tvalid_1's rmse: 6.1267\n",
      "\u001b[2m\u001b[36m(pid=4371)\u001b[0m Fold 1\n",
      "\u001b[2m\u001b[36m(pid=2889)\u001b[0m [LightGBM] [Warning] Unknown parameter: class_weight\n",
      "\u001b[2m\u001b[36m(pid=2889)\u001b[0m [LightGBM] [Warning] Unknown parameter: iterations\n",
      "\u001b[2m\u001b[36m(pid=2889)\u001b[0m [LightGBM] [Warning] min_data_in_leaf is set=8, min_child_samples=18 will be ignored. Current value: min_data_in_leaf=8\n",
      "\u001b[2m\u001b[36m(pid=2889)\u001b[0m [LightGBM] [Warning] feature_fraction is set=0.2582316655084985, colsample_bytree=0.7620829044761457 will be ignored. Current value: feature_fraction=0.2582316655084985\n",
      "\u001b[2m\u001b[36m(pid=2889)\u001b[0m [LightGBM] [Warning] bagging_fraction is set=1, subsample=0.8036757566950207 will be ignored. Current value: bagging_fraction=1\n",
      "\u001b[2m\u001b[36m(pid=2889)\u001b[0m [LightGBM] [Warning] verbosity is set=1, verbose=-1 will be ignored. Current value: verbosity=1\n",
      "\u001b[2m\u001b[36m(pid=2889)\u001b[0m [LightGBM] [Warning] Met categorical feature which contains sparse values. Consider renumbering to consecutive integers started from zero\n",
      "\u001b[2m\u001b[36m(pid=2889)\u001b[0m [LightGBM] [Warning] Met categorical feature which contains sparse values. Consider renumbering to consecutive integers started from zero\n",
      "\u001b[2m\u001b[36m(pid=2889)\u001b[0m [LightGBM] [Warning] Met categorical feature which contains sparse values. Consider renumbering to consecutive integers started from zero\n",
      "\u001b[2m\u001b[36m(pid=2889)\u001b[0m [LightGBM] [Warning] Unknown parameter: class_weight\n",
      "\u001b[2m\u001b[36m(pid=2889)\u001b[0m [LightGBM] [Warning] Unknown parameter: iterations\n",
      "\u001b[2m\u001b[36m(pid=2889)\u001b[0m [LightGBM] [Warning] bagging_fraction is set=1, subsample=0.8036757566950207 will be ignored. Current value: bagging_fraction=1\n",
      "\u001b[2m\u001b[36m(pid=2889)\u001b[0m [LightGBM] [Warning] feature_fraction is set=0.2582316655084985, colsample_bytree=0.7620829044761457 will be ignored. Current value: feature_fraction=0.2582316655084985\n",
      "\u001b[2m\u001b[36m(pid=2889)\u001b[0m [LightGBM] [Warning] min_data_in_leaf is set=8, min_child_samples=18 will be ignored. Current value: min_data_in_leaf=8\n",
      "\u001b[2m\u001b[36m(pid=2889)\u001b[0m [LightGBM] [Info] Total Bins 116\n",
      "\u001b[2m\u001b[36m(pid=2889)\u001b[0m [LightGBM] [Info] Number of data: 4818, number of used features: 43\n",
      "\u001b[2m\u001b[36m(pid=2889)\u001b[0m [LightGBM] [Warning] Unknown parameter: class_weight\n",
      "\u001b[2m\u001b[36m(pid=2889)\u001b[0m [LightGBM] [Warning] Unknown parameter: iterations\n",
      "\u001b[2m\u001b[36m(pid=2889)\u001b[0m [LightGBM] [Warning] min_data_in_leaf is set=8, min_child_samples=18 will be ignored. Current value: min_data_in_leaf=8\n",
      "\u001b[2m\u001b[36m(pid=2889)\u001b[0m [LightGBM] [Warning] feature_fraction is set=0.2582316655084985, colsample_bytree=0.7620829044761457 will be ignored. Current value: feature_fraction=0.2582316655084985\n",
      "\u001b[2m\u001b[36m(pid=2889)\u001b[0m [LightGBM] [Warning] bagging_fraction is set=1, subsample=0.8036757566950207 will be ignored. Current value: bagging_fraction=1\n",
      "\u001b[2m\u001b[36m(pid=2889)\u001b[0m [LightGBM] [Warning] verbosity is set=1, verbose=-1 will be ignored. Current value: verbosity=1\n",
      "\u001b[2m\u001b[36m(pid=2889)\u001b[0m Training until validation scores don't improve for 1 rounds\n",
      "\u001b[2m\u001b[36m(pid=2889)\u001b[0m Did not meet early stopping. Best iteration is:\n",
      "\u001b[2m\u001b[36m(pid=2889)\u001b[0m [1]\ttraining's rmse: 5.86193\tvalid_1's rmse: 5.84396\n",
      "\u001b[2m\u001b[36m(pid=2889)\u001b[0m CV RMSE: 5.86691 \n",
      "\u001b[2m\u001b[36m(pid=4371)\u001b[0m [LightGBM] [Warning] Unknown parameter: iterations\n",
      "\u001b[2m\u001b[36m(pid=4371)\u001b[0m [LightGBM] [Warning] min_data_in_leaf is set=14, min_child_samples=6 will be ignored. Current value: min_data_in_leaf=14\n",
      "\u001b[2m\u001b[36m(pid=4371)\u001b[0m [LightGBM] [Warning] feature_fraction is set=0.6398003435705414, colsample_bytree=0.9172796226169015 will be ignored. Current value: feature_fraction=0.6398003435705414\n",
      "\u001b[2m\u001b[36m(pid=4371)\u001b[0m [LightGBM] [Warning] bagging_fraction is set=1, subsample=1.0 will be ignored. Current value: bagging_fraction=1\n",
      "\u001b[2m\u001b[36m(pid=4371)\u001b[0m [LightGBM] [Warning] verbosity is set=1, verbose=-1 will be ignored. Current value: verbosity=1\n",
      "\u001b[2m\u001b[36m(pid=4371)\u001b[0m [LightGBM] [Warning] Met categorical feature which contains sparse values. Consider renumbering to consecutive integers started from zero\n",
      "\u001b[2m\u001b[36m(pid=4371)\u001b[0m [LightGBM] [Warning] Met categorical feature which contains sparse values. Consider renumbering to consecutive integers started from zero\n",
      "\u001b[2m\u001b[36m(pid=4371)\u001b[0m [LightGBM] [Warning] Met categorical feature which contains sparse values. Consider renumbering to consecutive integers started from zero\n",
      "\u001b[2m\u001b[36m(pid=4371)\u001b[0m [LightGBM] [Warning] Unknown parameter: iterations\n",
      "\u001b[2m\u001b[36m(pid=4371)\u001b[0m [LightGBM] [Warning] bagging_fraction is set=1, subsample=1.0 will be ignored. Current value: bagging_fraction=1\n",
      "\u001b[2m\u001b[36m(pid=4371)\u001b[0m [LightGBM] [Warning] feature_fraction is set=0.6398003435705414, colsample_bytree=0.9172796226169015 will be ignored. Current value: feature_fraction=0.6398003435705414\n",
      "\u001b[2m\u001b[36m(pid=4371)\u001b[0m [LightGBM] [Warning] min_data_in_leaf is set=14, min_child_samples=6 will be ignored. Current value: min_data_in_leaf=14\n",
      "\u001b[2m\u001b[36m(pid=4371)\u001b[0m [LightGBM] [Info] Total Bins 139\n",
      "\u001b[2m\u001b[36m(pid=4371)\u001b[0m [LightGBM] [Info] Number of data: 4818, number of used features: 44\n",
      "\u001b[2m\u001b[36m(pid=4371)\u001b[0m [LightGBM] [Info] Using GOSS\n",
      "Result for objective_1_gbdt=0.95012,gbdt=14,boost_from_average=false,boosting_type=gbdt,subsample=0.80368,class_weight=balanced,colsample_bytree=0.76208,feature_fraction=0.25823,iterations=2,learning_rate=0.069354,max_depth=-1,metric=root_mean_squared_error,min_child_samples=18,min_data_in_leaf=8,num_leaves=33,num_threads=1,objective=regression,reg_alpha=0.62144,reg_lambda=0.65754,seed=99999,subsample_for_bin=6,tree_learner=serial,use_missing=True,verbosity=1:\n",
      "  date: 2019-11-26_00-48-32\n",
      "  done: false\n",
      "  experiment_id: 5de74dde33be4a0ca90fccbb86770760\n",
      "  hostname: ben-asus\n",
      "  iterations_since_restore: 1\n",
      "  mean_loss: 0.0048548827763091\n",
      "  neg_mean_loss: -0.0048548827763091\n",
      "  node_ip: 192.168.0.15\n",
      "  pid: 2889\n",
      "  time_since_restore: 30.886582136154175\n",
      "  time_this_iter_s: 30.886582136154175\n",
      "  time_total_s: 30.886582136154175\n",
      "  timestamp: 1574696912\n",
      "  timesteps_since_restore: 0\n",
      "  timesteps_total: 1\n",
      "  training_iteration: 1\n",
      "  trial_id: f4cfd016\n",
      "  \n",
      "_____________________________________________________________TestLogger {'timesteps_total': 1, 'mean_loss': 0.0048548827763091, 'time_this_iter_s': 30.886582136154175, 'done': False, 'episodes_total': None, 'training_iteration': 1, 'neg_mean_loss': -0.0048548827763091, 'experiment_id': '5de74dde33be4a0ca90fccbb86770760', 'date': '2019-11-26_00-48-32', 'timestamp': 1574696912, 'time_total_s': 30.886582136154175, 'pid': 2889, 'hostname': 'ben-asus', 'node_ip': '192.168.0.15', 'config': {'iterations': 2, 'bagging_fraction': {'gbdt': 0.9501238089461829}, 'bagging_freq': {'gbdt': 14}, 'boost_from_average': 'false', 'boosting_type': {'boosting_type': 'gbdt', 'subsample': 0.8036757566950207}, 'class_weight': 'balanced', 'colsample_bytree': 0.7620829044761457, 'feature_fraction': 0.2582316655084985, 'learning_rate': 0.0693543647213393, 'max_depth': -1, 'metric': 'root_mean_squared_error', 'min_child_samples': 18, 'min_data_in_leaf': 8, 'num_leaves': 33, 'num_threads': 1, 'objective': 'regression', 'reg_alpha': 0.6214396421633374, 'reg_lambda': 0.657544509128026, 'seed': 99999, 'subsample_for_bin': 6, 'tree_learner': 'serial', 'use_missing': True, 'verbosity': 1}, 'time_since_restore': 30.886582136154175, 'timesteps_since_restore': 0, 'iterations_since_restore': 1, 'trial_id': 'f4cfd016'}\n",
      "== Status ==\n",
      "Using AsyncHyperBand: num_stopped=0\n",
      "Bracket: Iter 64.000: None | Iter 16.000: None | Iter 4.000: None | Iter 1.000: -0.0048548827763091\n",
      "Resources requested: 2/8 CPUs, 0/1 GPUs, 0.0/1.51 GiB heap, 0.0/0.49 GiB objects\n",
      "Memory usage on this node: 10.7/15.6 GiB\n",
      "Result logdir: /home/ben/ray_results/hyperband_test2\n",
      "Number of trials: 2 ({'RUNNING': 2})\n",
      "RUNNING trials:\n",
      " - objective_1_gbdt=0.95012,gbdt=14,boost_from_average=false,boosting_type=gbdt,subsample=0.80368,class_weight=balanced,colsample_bytree=0.76208,feature_fraction=0.25823,iterations=2,learning_rate=0.069354,max_depth=-1,metric=root_mean_squared_error,min_child_samples=18,min_data_in_leaf=8,num_leaves=33,num_threads=1,objective=regression,reg_alpha=0.62144,reg_lambda=0.65754,seed=99999,subsample_for_bin=6,tree_learner=serial,use_missing=True,verbosity=1:\tRUNNING, [1 CPUs, 0 GPUs], [pid=2889], 30 s, 1 iter, 1 ts, 0.00485 loss\n",
      " - objective_2_gbdt=0.95931,gbdt=6,boost_from_average=false,boosting_type=goss,class_weight=None,colsample_bytree=0.91728,feature_fraction=0.6398,iterations=2,learning_rate=0.022792,max_depth=-1,metric=root_mean_squared_error,min_child_samples=6,min_data_in_leaf=14,num_leaves=136,num_threads=1,objective=regression,reg_alpha=0.444,reg_lambda=0.83056,seed=99999,subsample_for_bin=7,tree_learner=serial,use_missing=True,verbosity=1:\tRUNNING\n",
      "\n",
      "\u001b[2m\u001b[36m(pid=2889)\u001b[0m Mean val RMSE 5.8669 +/- 0.0049\n",
      "\u001b[2m\u001b[36m(pid=4371)\u001b[0m [LightGBM] [Warning] Unknown parameter: iterations\n",
      "\u001b[2m\u001b[36m(pid=4371)\u001b[0m [LightGBM] [Warning] min_data_in_leaf is set=14, min_child_samples=6 will be ignored. Current value: min_data_in_leaf=14\n",
      "\u001b[2m\u001b[36m(pid=4371)\u001b[0m [LightGBM] [Warning] feature_fraction is set=0.6398003435705414, colsample_bytree=0.9172796226169015 will be ignored. Current value: feature_fraction=0.6398003435705414\n",
      "\u001b[2m\u001b[36m(pid=4371)\u001b[0m [LightGBM] [Warning] bagging_fraction is set=1, subsample=1.0 will be ignored. Current value: bagging_fraction=1\n",
      "\u001b[2m\u001b[36m(pid=4371)\u001b[0m [LightGBM] [Warning] verbosity is set=1, verbose=-1 will be ignored. Current value: verbosity=1\n",
      "\u001b[2m\u001b[36m(pid=4371)\u001b[0m Training until validation scores don't improve for 1 rounds\n",
      "\u001b[2m\u001b[36m(pid=4371)\u001b[0m Did not meet early stopping. Best iteration is:\n",
      "\u001b[2m\u001b[36m(pid=4371)\u001b[0m [1]\ttraining's rmse: 6.08066\tvalid_1's rmse: 6.06378\n"
     ]
    },
    {
     "name": "stderr",
     "output_type": "stream",
     "text": [
      "2019-11-26 00:48:32,202\tINFO tune.py:276 -- Returning an analysis object by default. You can call `analysis.trials` to retrieve a list of trials. This message will be removed in future versions of Tune.\n"
     ]
    },
    {
     "name": "stdout",
     "output_type": "stream",
     "text": [
      "\u001b[2m\u001b[36m(pid=4371)\u001b[0m CV RMSE: 6.09730 \n",
      "Result for objective_2_gbdt=0.95931,gbdt=6,boost_from_average=false,boosting_type=goss,class_weight=None,colsample_bytree=0.91728,feature_fraction=0.6398,iterations=2,learning_rate=0.022792,max_depth=-1,metric=root_mean_squared_error,min_child_samples=6,min_data_in_leaf=14,num_leaves=136,num_threads=1,objective=regression,reg_alpha=0.444,reg_lambda=0.83056,seed=99999,subsample_for_bin=7,tree_learner=serial,use_missing=True,verbosity=1:\n",
      "  date: 2019-11-26_00-48-32\n",
      "  done: false\n",
      "  experiment_id: 5e86c963483440ce83b96e6e1faa2f03\n",
      "  hostname: ben-asus\n",
      "  iterations_since_restore: 1\n",
      "  mean_loss: 0.003641263797063363\n",
      "  neg_mean_loss: -0.003641263797063363\n",
      "  node_ip: 192.168.0.15\n",
      "  pid: 4371\n",
      "  time_since_restore: 29.36853313446045\n",
      "  time_this_iter_s: 29.36853313446045\n",
      "  time_total_s: 29.36853313446045\n",
      "  timestamp: 1574696912\n",
      "  timesteps_since_restore: 0\n",
      "  timesteps_total: 1\n",
      "  training_iteration: 1\n",
      "  trial_id: f4dd5ede\n",
      "  \n",
      "_____________________________________________________________TestLogger {'timesteps_total': 1, 'mean_loss': 0.003641263797063363, 'time_this_iter_s': 29.36853313446045, 'done': False, 'episodes_total': None, 'training_iteration': 1, 'neg_mean_loss': -0.003641263797063363, 'experiment_id': '5e86c963483440ce83b96e6e1faa2f03', 'date': '2019-11-26_00-48-32', 'timestamp': 1574696912, 'time_total_s': 29.36853313446045, 'pid': 4371, 'hostname': 'ben-asus', 'node_ip': '192.168.0.15', 'config': {'iterations': 2, 'bagging_fraction': {'gbdt': 0.9593138949590461}, 'bagging_freq': {'gbdt': 6}, 'boost_from_average': 'false', 'boosting_type': {'boosting_type': 'goss'}, 'class_weight': None, 'colsample_bytree': 0.9172796226169015, 'feature_fraction': 0.6398003435705414, 'learning_rate': 0.02279151901405369, 'max_depth': -1, 'metric': 'root_mean_squared_error', 'min_child_samples': 6, 'min_data_in_leaf': 14, 'num_leaves': 136, 'num_threads': 1, 'objective': 'regression', 'reg_alpha': 0.44399719237476487, 'reg_lambda': 0.830559309380702, 'seed': 99999, 'subsample_for_bin': 7, 'tree_learner': 'serial', 'use_missing': True, 'verbosity': 1}, 'time_since_restore': 29.36853313446045, 'timesteps_since_restore': 0, 'iterations_since_restore': 1, 'trial_id': 'f4dd5ede'}\n",
      "== Status ==\n",
      "Using AsyncHyperBand: num_stopped=0\n",
      "Bracket: Iter 64.000: None | Iter 16.000: None | Iter 4.000: None | Iter 1.000: -0.003944668541874797\n",
      "Resources requested: 0/8 CPUs, 0/1 GPUs, 0.0/1.51 GiB heap, 0.0/0.49 GiB objects\n",
      "Memory usage on this node: 10.7/15.6 GiB\n",
      "Result logdir: /home/ben/ray_results/hyperband_test2\n",
      "Number of trials: 2 ({'TERMINATED': 2})\n",
      "TERMINATED trials:\n",
      " - objective_1_gbdt=0.95012,gbdt=14,boost_from_average=false,boosting_type=gbdt,subsample=0.80368,class_weight=balanced,colsample_bytree=0.76208,feature_fraction=0.25823,iterations=2,learning_rate=0.069354,max_depth=-1,metric=root_mean_squared_error,min_child_samples=18,min_data_in_leaf=8,num_leaves=33,num_threads=1,objective=regression,reg_alpha=0.62144,reg_lambda=0.65754,seed=99999,subsample_for_bin=6,tree_learner=serial,use_missing=True,verbosity=1:\tTERMINATED, [1 CPUs, 0 GPUs], [pid=2889], 30 s, 1 iter, 1 ts, 0.00485 loss\n",
      " - objective_2_gbdt=0.95931,gbdt=6,boost_from_average=false,boosting_type=goss,class_weight=None,colsample_bytree=0.91728,feature_fraction=0.6398,iterations=2,learning_rate=0.022792,max_depth=-1,metric=root_mean_squared_error,min_child_samples=6,min_data_in_leaf=14,num_leaves=136,num_threads=1,objective=regression,reg_alpha=0.444,reg_lambda=0.83056,seed=99999,subsample_for_bin=7,tree_learner=serial,use_missing=True,verbosity=1:\tTERMINATED, [1 CPUs, 0 GPUs], [pid=4371], 29 s, 1 iter, 1 ts, 0.00364 loss\n",
      "\n"
     ]
    },
    {
     "data": {
      "text/plain": [
       "<ray.tune.analysis.experiment_analysis.ExperimentAnalysis at 0x7fe1a85e5eb8>"
      ]
     },
     "execution_count": 220,
     "metadata": {},
     "output_type": "execute_result"
    },
    {
     "name": "stdout",
     "output_type": "stream",
     "text": [
      "\u001b[2m\u001b[36m(pid=4371)\u001b[0m Mean val RMSE 6.0973 +/- 0.0036\n"
     ]
    }
   ],
   "source": [
    "import ray\n",
    "from ray.tune import run\n",
    "from ray.tune.schedulers import AsyncHyperBandScheduler\n",
    "from ray.tune.suggest.hyperopt import HyperOptSearch\n",
    "from ray.tune.logger import DEFAULT_LOGGERS\n",
    "\n",
    "# Global variable\n",
    "global  ITERATION\n",
    "\n",
    "ITERATION = 0\n",
    "\n",
    "MAX_EVALS = 10\n",
    "# https://github.com/ray-project/ray/blob/master/python/ray/tune/examples/hyperopt_example.py\n",
    "config = {\n",
    "    \"num_samples\": 2,\n",
    "    \"config\": {\n",
    "        \"iterations\": 2, # passed to our objective\n",
    "    },\n",
    "    \"stop\": {\n",
    "        \"timesteps_total\": 999\n",
    "    },\n",
    "}\n",
    "    \n",
    "algo = HyperOptSearch(\n",
    "    space,\n",
    "    max_concurrent=4,\n",
    "    metric=\"mean_loss\",\n",
    "    mode=\"min\")\n",
    "\n",
    "class TestLogger(ray.tune.logger.Logger):\n",
    "    def on_result(self, result):\n",
    "        print(\"_____________________________________________________________TestLogger\", result)\n",
    "\n",
    "scheduler = AsyncHyperBandScheduler(metric=\"mean_loss\", mode=\"min\")\n",
    "run(objective,\n",
    "    name=\"hyperband_test2\",\n",
    "    search_alg=algo,\n",
    "    scheduler=scheduler,\n",
    "    loggers=[ray.tune.logger.CSVLogger, TestLogger],\n",
    "    **config)\n"
   ]
  },
  {
   "cell_type": "code",
   "execution_count": 223,
   "metadata": {},
   "outputs": [
    {
     "data": {
      "text/plain": [
       "(ray.tune.logger.JsonLogger,\n",
       " ray.tune.logger.CSVLogger,\n",
       " <function ray.tune.logger.tf2_compat_logger(config, logdir, trial=None)>)"
      ]
     },
     "execution_count": 223,
     "metadata": {},
     "output_type": "execute_result"
    }
   ],
   "source": [
    "DEFAULT_LOGGERS"
   ]
  }
 ],
 "metadata": {
  "kernelspec": {
   "display_name": "Python [conda env:thriai] *",
   "language": "python",
   "name": "conda-env-thriai-py"
  },
  "language_info": {
   "codemirror_mode": {
    "name": "ipython",
    "version": 3
   },
   "file_extension": ".py",
   "mimetype": "text/x-python",
   "name": "python",
   "nbconvert_exporter": "python",
   "pygments_lexer": "ipython3",
   "version": "3.6.5"
  }
 },
 "nbformat": 4,
 "nbformat_minor": 2
}
