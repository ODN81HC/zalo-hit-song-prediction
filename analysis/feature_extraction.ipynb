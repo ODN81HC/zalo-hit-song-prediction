{
  "nbformat": 4,
  "nbformat_minor": 0,
  "metadata": {
    "colab": {
      "name": "Untitled0.ipynb",
      "provenance": [],
      "collapsed_sections": []
    },
    "kernelspec": {
      "name": "python3",
      "display_name": "Python 3"
    },
    "accelerator": "GPU"
  },
  "cells": [
    {
      "cell_type": "code",
      "metadata": {
        "id": "sA3_7QDk1Cdx",
        "colab_type": "code",
        "colab": {}
      },
      "source": [
        "import numpy as np\n",
        "import matplotlib as mpl\n",
        "import matplotlib.pyplot as plt\n",
        "mpl.rc('axes', labelsize=14)\n",
        "mpl.rc('xtick', labelsize=12)\n",
        "mpl.rc('ytick', labelsize=12)\n",
        "%matplotlib inline\n",
        "\n",
        "np.random.seed(42)\n"
      ],
      "execution_count": 0,
      "outputs": []
    },
    {
      "cell_type": "code",
      "metadata": {
        "id": "QERiherEzfpq",
        "colab_type": "code",
        "outputId": "f5f981bf-4e43-4363-8e76-7205fd78e275",
        "colab": {
          "base_uri": "https://localhost:8080/",
          "height": 54
        }
      },
      "source": [
        "from google.colab import drive\n",
        "drive.mount('/content/drive')"
      ],
      "execution_count": 0,
      "outputs": [
        {
          "output_type": "stream",
          "text": [
            "Drive already mounted at /content/drive; to attempt to forcibly remount, call drive.mount(\"/content/drive\", force_remount=True).\n"
          ],
          "name": "stdout"
        }
      ]
    },
    {
      "cell_type": "code",
      "metadata": {
        "id": "8DzbX-hMzzg8",
        "colab_type": "code",
        "outputId": "b42e8372-5894-4a53-9ee6-5ae4628d0ee0",
        "colab": {
          "base_uri": "https://localhost:8080/",
          "height": 71
        }
      },
      "source": [
        "import pandas as pd\n",
        "data = pd.DataFrame.from_csv(\"drive/My Drive/data/train_info.tsv\", sep=\"\\t\")\n"
      ],
      "execution_count": 0,
      "outputs": [
        {
          "output_type": "stream",
          "text": [
            "/usr/local/lib/python3.6/dist-packages/ipykernel_launcher.py:2: FutureWarning: from_csv is deprecated. Please use read_csv(...) instead. Note that some of the default arguments are different, so please refer to the documentation for from_csv when changing your function calls\n",
            "  \n"
          ],
          "name": "stderr"
        }
      ]
    },
    {
      "cell_type": "code",
      "metadata": {
        "id": "Iw6s51xF0I30",
        "colab_type": "code",
        "outputId": "00f6d41f-33cd-4e84-9be9-1cd59ed85675",
        "colab": {
          "base_uri": "https://localhost:8080/",
          "height": 235
        }
      },
      "source": [
        "data.head()"
      ],
      "execution_count": 0,
      "outputs": [
        {
          "output_type": "execute_result",
          "data": {
            "text/html": [
              "<div>\n",
              "<style scoped>\n",
              "    .dataframe tbody tr th:only-of-type {\n",
              "        vertical-align: middle;\n",
              "    }\n",
              "\n",
              "    .dataframe tbody tr th {\n",
              "        vertical-align: top;\n",
              "    }\n",
              "\n",
              "    .dataframe thead th {\n",
              "        text-align: right;\n",
              "    }\n",
              "</style>\n",
              "<table border=\"1\" class=\"dataframe\">\n",
              "  <thead>\n",
              "    <tr style=\"text-align: right;\">\n",
              "      <th></th>\n",
              "      <th>title</th>\n",
              "      <th>artist_name</th>\n",
              "      <th>artist_id</th>\n",
              "      <th>composers_name</th>\n",
              "      <th>composers_id</th>\n",
              "      <th>release_time</th>\n",
              "    </tr>\n",
              "    <tr>\n",
              "      <th>ID</th>\n",
              "      <th></th>\n",
              "      <th></th>\n",
              "      <th></th>\n",
              "      <th></th>\n",
              "      <th></th>\n",
              "      <th></th>\n",
              "    </tr>\n",
              "  </thead>\n",
              "  <tbody>\n",
              "    <tr>\n",
              "      <th>1073748245</th>\n",
              "      <td>Đêm Chôn Dầu Vượt Biển</td>\n",
              "      <td>Như Quỳnh</td>\n",
              "      <td>551</td>\n",
              "      <td>Châu Đình An</td>\n",
              "      <td>5765</td>\n",
              "      <td>2017-10-01 22:07:00</td>\n",
              "    </tr>\n",
              "    <tr>\n",
              "      <th>1073751978</th>\n",
              "      <td>Mùa Thu Trong Mưa</td>\n",
              "      <td>Minh Tuyết</td>\n",
              "      <td>455</td>\n",
              "      <td>Trường Sa</td>\n",
              "      <td>100105</td>\n",
              "      <td>2017-10-01 20:58:00</td>\n",
              "    </tr>\n",
              "    <tr>\n",
              "      <th>1073835561</th>\n",
              "      <td>Rồi Ánh Trăng Tan</td>\n",
              "      <td>Lưu Bích</td>\n",
              "      <td>450</td>\n",
              "      <td>Quốc Bảo</td>\n",
              "      <td>4355</td>\n",
              "      <td>2017-11-01 18:16:00</td>\n",
              "    </tr>\n",
              "    <tr>\n",
              "      <th>1073856553</th>\n",
              "      <td>Còn Thương Rau Đắng Mọc Sau Hè</td>\n",
              "      <td>Như Quỳnh</td>\n",
              "      <td>551</td>\n",
              "      <td>Bắc Sơn</td>\n",
              "      <td>7686</td>\n",
              "      <td>2017-11-01 17:36:00</td>\n",
              "    </tr>\n",
              "    <tr>\n",
              "      <th>1073929630</th>\n",
              "      <td>Người Điên Biết Yêu</td>\n",
              "      <td>Như Loan</td>\n",
              "      <td>513</td>\n",
              "      <td>Lê Minh Kha</td>\n",
              "      <td>100466</td>\n",
              "      <td>2017-11-01 17:49:00</td>\n",
              "    </tr>\n",
              "  </tbody>\n",
              "</table>\n",
              "</div>"
            ],
            "text/plain": [
              "                                     title  ...         release_time\n",
              "ID                                          ...                     \n",
              "1073748245          Đêm Chôn Dầu Vượt Biển  ...  2017-10-01 22:07:00\n",
              "1073751978               Mùa Thu Trong Mưa  ...  2017-10-01 20:58:00\n",
              "1073835561               Rồi Ánh Trăng Tan  ...  2017-11-01 18:16:00\n",
              "1073856553  Còn Thương Rau Đắng Mọc Sau Hè  ...  2017-11-01 17:36:00\n",
              "1073929630             Người Điên Biết Yêu  ...  2017-11-01 17:49:00\n",
              "\n",
              "[5 rows x 6 columns]"
            ]
          },
          "metadata": {
            "tags": []
          },
          "execution_count": 72
        }
      ]
    },
    {
      "cell_type": "code",
      "metadata": {
        "id": "Abba8OTL05Xi",
        "colab_type": "code",
        "outputId": "6d8fb537-3ebb-44fd-ef82-644a08f423c5",
        "colab": {
          "base_uri": "https://localhost:8080/",
          "height": 204
        }
      },
      "source": [
        "data.info()"
      ],
      "execution_count": 0,
      "outputs": [
        {
          "output_type": "stream",
          "text": [
            "<class 'pandas.core.frame.DataFrame'>\n",
            "Int64Index: 9078 entries, 1073748245 to 1078514108\n",
            "Data columns (total 6 columns):\n",
            "title             9078 non-null object\n",
            "artist_name       9078 non-null object\n",
            "artist_id         9078 non-null object\n",
            "composers_name    9078 non-null object\n",
            "composers_id      9078 non-null object\n",
            "release_time      9078 non-null object\n",
            "dtypes: object(6)\n",
            "memory usage: 496.5+ KB\n"
          ],
          "name": "stdout"
        }
      ]
    },
    {
      "cell_type": "code",
      "metadata": {
        "id": "_B5GtI421F1h",
        "colab_type": "code",
        "outputId": "88effc97-89a1-49c1-9eec-460411ef87ca",
        "colab": {
          "base_uri": "https://localhost:8080/",
          "height": 173
        }
      },
      "source": [
        "data.describe()"
      ],
      "execution_count": 0,
      "outputs": [
        {
          "output_type": "execute_result",
          "data": {
            "text/html": [
              "<div>\n",
              "<style scoped>\n",
              "    .dataframe tbody tr th:only-of-type {\n",
              "        vertical-align: middle;\n",
              "    }\n",
              "\n",
              "    .dataframe tbody tr th {\n",
              "        vertical-align: top;\n",
              "    }\n",
              "\n",
              "    .dataframe thead th {\n",
              "        text-align: right;\n",
              "    }\n",
              "</style>\n",
              "<table border=\"1\" class=\"dataframe\">\n",
              "  <thead>\n",
              "    <tr style=\"text-align: right;\">\n",
              "      <th></th>\n",
              "      <th>title</th>\n",
              "      <th>artist_name</th>\n",
              "      <th>artist_id</th>\n",
              "      <th>composers_name</th>\n",
              "      <th>composers_id</th>\n",
              "      <th>release_time</th>\n",
              "    </tr>\n",
              "  </thead>\n",
              "  <tbody>\n",
              "    <tr>\n",
              "      <th>count</th>\n",
              "      <td>9078</td>\n",
              "      <td>9078</td>\n",
              "      <td>9078</td>\n",
              "      <td>9078</td>\n",
              "      <td>9078</td>\n",
              "      <td>9078</td>\n",
              "    </tr>\n",
              "    <tr>\n",
              "      <th>unique</th>\n",
              "      <td>6766</td>\n",
              "      <td>2397</td>\n",
              "      <td>2391</td>\n",
              "      <td>2048</td>\n",
              "      <td>2212</td>\n",
              "      <td>3675</td>\n",
              "    </tr>\n",
              "    <tr>\n",
              "      <th>top</th>\n",
              "      <td>Đắp Mộ Cuộc Tình</td>\n",
              "      <td>Hoàng Minh Thắng</td>\n",
              "      <td>601427</td>\n",
              "      <td>Nhạc Ngoại Lời Việt</td>\n",
              "      <td>100103</td>\n",
              "      <td>2018-11-14 21:38:00</td>\n",
              "    </tr>\n",
              "    <tr>\n",
              "      <th>freq</th>\n",
              "      <td>33</td>\n",
              "      <td>147</td>\n",
              "      <td>147</td>\n",
              "      <td>178</td>\n",
              "      <td>178</td>\n",
              "      <td>26</td>\n",
              "    </tr>\n",
              "  </tbody>\n",
              "</table>\n",
              "</div>"
            ],
            "text/plain": [
              "                   title       artist_name  ... composers_id         release_time\n",
              "count               9078              9078  ...         9078                 9078\n",
              "unique              6766              2397  ...         2212                 3675\n",
              "top     Đắp Mộ Cuộc Tình  Hoàng Minh Thắng  ...       100103  2018-11-14 21:38:00\n",
              "freq                  33               147  ...          178                   26\n",
              "\n",
              "[4 rows x 6 columns]"
            ]
          },
          "metadata": {
            "tags": []
          },
          "execution_count": 74
        }
      ]
    },
    {
      "cell_type": "code",
      "metadata": {
        "id": "BzJzPSOJ1JX7",
        "colab_type": "code",
        "outputId": "b48823a3-f2e6-40ad-f188-7bb289ab03e9",
        "colab": {
          "base_uri": "https://localhost:8080/",
          "height": 34
        }
      },
      "source": [
        "len(data.artist_name.value_counts())"
      ],
      "execution_count": 0,
      "outputs": [
        {
          "output_type": "execute_result",
          "data": {
            "text/plain": [
              "2397"
            ]
          },
          "metadata": {
            "tags": []
          },
          "execution_count": 75
        }
      ]
    },
    {
      "cell_type": "code",
      "metadata": {
        "id": "aDZowgOB1rW-",
        "colab_type": "code",
        "outputId": "0cd065ad-b166-4e01-9771-639b79081a0c",
        "colab": {
          "base_uri": "https://localhost:8080/",
          "height": 34
        }
      },
      "source": [
        "len(data.artist_id.value_counts())"
      ],
      "execution_count": 0,
      "outputs": [
        {
          "output_type": "execute_result",
          "data": {
            "text/plain": [
              "2391"
            ]
          },
          "metadata": {
            "tags": []
          },
          "execution_count": 76
        }
      ]
    },
    {
      "cell_type": "markdown",
      "metadata": {
        "id": "zUMDqmPeze5W",
        "colab_type": "text"
      },
      "source": [
        "artist_name > artist_id"
      ]
    },
    {
      "cell_type": "code",
      "metadata": {
        "id": "E7piftk-1_Ka",
        "colab_type": "code",
        "outputId": "ebe7f012-fcc0-4f13-ccad-70c6f649b266",
        "colab": {
          "base_uri": "https://localhost:8080/",
          "height": 204
        }
      },
      "source": [
        "data_label = pd.read_csv(\"drive/My Drive/data/train_rank.csv\", sep=\",\")\n",
        "data_label.head()"
      ],
      "execution_count": 0,
      "outputs": [
        {
          "output_type": "execute_result",
          "data": {
            "text/html": [
              "<div>\n",
              "<style scoped>\n",
              "    .dataframe tbody tr th:only-of-type {\n",
              "        vertical-align: middle;\n",
              "    }\n",
              "\n",
              "    .dataframe tbody tr th {\n",
              "        vertical-align: top;\n",
              "    }\n",
              "\n",
              "    .dataframe thead th {\n",
              "        text-align: right;\n",
              "    }\n",
              "</style>\n",
              "<table border=\"1\" class=\"dataframe\">\n",
              "  <thead>\n",
              "    <tr style=\"text-align: right;\">\n",
              "      <th></th>\n",
              "      <th>ID</th>\n",
              "      <th>label</th>\n",
              "    </tr>\n",
              "  </thead>\n",
              "  <tbody>\n",
              "    <tr>\n",
              "      <th>0</th>\n",
              "      <td>1073748245</td>\n",
              "      <td>7</td>\n",
              "    </tr>\n",
              "    <tr>\n",
              "      <th>1</th>\n",
              "      <td>1073751978</td>\n",
              "      <td>3</td>\n",
              "    </tr>\n",
              "    <tr>\n",
              "      <th>2</th>\n",
              "      <td>1073835561</td>\n",
              "      <td>6</td>\n",
              "    </tr>\n",
              "    <tr>\n",
              "      <th>3</th>\n",
              "      <td>1073856553</td>\n",
              "      <td>2</td>\n",
              "    </tr>\n",
              "    <tr>\n",
              "      <th>4</th>\n",
              "      <td>1073929630</td>\n",
              "      <td>7</td>\n",
              "    </tr>\n",
              "  </tbody>\n",
              "</table>\n",
              "</div>"
            ],
            "text/plain": [
              "           ID  label\n",
              "0  1073748245      7\n",
              "1  1073751978      3\n",
              "2  1073835561      6\n",
              "3  1073856553      2\n",
              "4  1073929630      7"
            ]
          },
          "metadata": {
            "tags": []
          },
          "execution_count": 77
        }
      ]
    },
    {
      "cell_type": "code",
      "metadata": {
        "id": "9VP6uhj55P5E",
        "colab_type": "code",
        "outputId": "da9eca63-23ce-4435-f51d-9914ad7c97ef",
        "colab": {
          "base_uri": "https://localhost:8080/",
          "height": 289
        }
      },
      "source": [
        "data1 = pd.merge(left=data,right=data_label, left_on='ID', right_on='ID')\n",
        "data1.head()\n"
      ],
      "execution_count": 0,
      "outputs": [
        {
          "output_type": "execute_result",
          "data": {
            "text/html": [
              "<div>\n",
              "<style scoped>\n",
              "    .dataframe tbody tr th:only-of-type {\n",
              "        vertical-align: middle;\n",
              "    }\n",
              "\n",
              "    .dataframe tbody tr th {\n",
              "        vertical-align: top;\n",
              "    }\n",
              "\n",
              "    .dataframe thead th {\n",
              "        text-align: right;\n",
              "    }\n",
              "</style>\n",
              "<table border=\"1\" class=\"dataframe\">\n",
              "  <thead>\n",
              "    <tr style=\"text-align: right;\">\n",
              "      <th></th>\n",
              "      <th>ID</th>\n",
              "      <th>title</th>\n",
              "      <th>artist_name</th>\n",
              "      <th>artist_id</th>\n",
              "      <th>composers_name</th>\n",
              "      <th>composers_id</th>\n",
              "      <th>release_time</th>\n",
              "      <th>label</th>\n",
              "    </tr>\n",
              "  </thead>\n",
              "  <tbody>\n",
              "    <tr>\n",
              "      <th>0</th>\n",
              "      <td>1073748245</td>\n",
              "      <td>Đêm Chôn Dầu Vượt Biển</td>\n",
              "      <td>Như Quỳnh</td>\n",
              "      <td>551</td>\n",
              "      <td>Châu Đình An</td>\n",
              "      <td>5765</td>\n",
              "      <td>2017-10-01 22:07:00</td>\n",
              "      <td>7</td>\n",
              "    </tr>\n",
              "    <tr>\n",
              "      <th>1</th>\n",
              "      <td>1073751978</td>\n",
              "      <td>Mùa Thu Trong Mưa</td>\n",
              "      <td>Minh Tuyết</td>\n",
              "      <td>455</td>\n",
              "      <td>Trường Sa</td>\n",
              "      <td>100105</td>\n",
              "      <td>2017-10-01 20:58:00</td>\n",
              "      <td>3</td>\n",
              "    </tr>\n",
              "    <tr>\n",
              "      <th>2</th>\n",
              "      <td>1073835561</td>\n",
              "      <td>Rồi Ánh Trăng Tan</td>\n",
              "      <td>Lưu Bích</td>\n",
              "      <td>450</td>\n",
              "      <td>Quốc Bảo</td>\n",
              "      <td>4355</td>\n",
              "      <td>2017-11-01 18:16:00</td>\n",
              "      <td>6</td>\n",
              "    </tr>\n",
              "    <tr>\n",
              "      <th>3</th>\n",
              "      <td>1073856553</td>\n",
              "      <td>Còn Thương Rau Đắng Mọc Sau Hè</td>\n",
              "      <td>Như Quỳnh</td>\n",
              "      <td>551</td>\n",
              "      <td>Bắc Sơn</td>\n",
              "      <td>7686</td>\n",
              "      <td>2017-11-01 17:36:00</td>\n",
              "      <td>2</td>\n",
              "    </tr>\n",
              "    <tr>\n",
              "      <th>4</th>\n",
              "      <td>1073929630</td>\n",
              "      <td>Người Điên Biết Yêu</td>\n",
              "      <td>Như Loan</td>\n",
              "      <td>513</td>\n",
              "      <td>Lê Minh Kha</td>\n",
              "      <td>100466</td>\n",
              "      <td>2017-11-01 17:49:00</td>\n",
              "      <td>7</td>\n",
              "    </tr>\n",
              "  </tbody>\n",
              "</table>\n",
              "</div>"
            ],
            "text/plain": [
              "           ID                           title  ...         release_time label\n",
              "0  1073748245          Đêm Chôn Dầu Vượt Biển  ...  2017-10-01 22:07:00     7\n",
              "1  1073751978               Mùa Thu Trong Mưa  ...  2017-10-01 20:58:00     3\n",
              "2  1073835561               Rồi Ánh Trăng Tan  ...  2017-11-01 18:16:00     6\n",
              "3  1073856553  Còn Thương Rau Đắng Mọc Sau Hè  ...  2017-11-01 17:36:00     2\n",
              "4  1073929630             Người Điên Biết Yêu  ...  2017-11-01 17:49:00     7\n",
              "\n",
              "[5 rows x 8 columns]"
            ]
          },
          "metadata": {
            "tags": []
          },
          "execution_count": 78
        }
      ]
    },
    {
      "cell_type": "code",
      "metadata": {
        "id": "RzPRLEs05g6X",
        "colab_type": "code",
        "outputId": "9c410e56-2a18-4590-dc59-3289eea1a494",
        "colab": {
          "base_uri": "https://localhost:8080/",
          "height": 289
        }
      },
      "source": [
        "data_label.label.hist()"
      ],
      "execution_count": 0,
      "outputs": [
        {
          "output_type": "execute_result",
          "data": {
            "text/plain": [
              "<matplotlib.axes._subplots.AxesSubplot at 0x7f2275604198>"
            ]
          },
          "metadata": {
            "tags": []
          },
          "execution_count": 79
        },
        {
          "output_type": "display_data",
          "data": {
            "image/png": "[encoded data removed]",
            "text/plain": [
              "<Figure size 432x288 with 1 Axes>"
            ]
          },
          "metadata": {
            "tags": []
          }
        }
      ]
    },
    {
      "cell_type": "markdown",
      "metadata": {
        "id": "0wqjYrP3zPMx",
        "colab_type": "text"
      },
      "source": [
        "cac label phan bo deu"
      ]
    },
    {
      "cell_type": "code",
      "metadata": {
        "id": "0Mld4m2T7_Rr",
        "colab_type": "code",
        "colab": {}
      },
      "source": [
        "data1.drop(columns=['artist_id', 'composers_id'], inplace=True)"
      ],
      "execution_count": 0,
      "outputs": []
    },
    {
      "cell_type": "code",
      "metadata": {
        "id": "9um6S6ZK9HfL",
        "colab_type": "code",
        "outputId": "6e8028cc-f0d6-4b45-fd89-07bc95ac570b",
        "colab": {
          "base_uri": "https://localhost:8080/",
          "height": 153
        }
      },
      "source": [
        "data1[data1.artist_name == 'Phan Duy Anh'].label.value_counts()"
      ],
      "execution_count": 0,
      "outputs": [
        {
          "output_type": "execute_result",
          "data": {
            "text/plain": [
              "2     5\n",
              "4     4\n",
              "1     4\n",
              "6     3\n",
              "5     3\n",
              "10    2\n",
              "3     2\n",
              "Name: label, dtype: int64"
            ]
          },
          "metadata": {
            "tags": []
          },
          "execution_count": 81
        }
      ]
    },
    {
      "cell_type": "code",
      "metadata": {
        "id": "9zYtPfXD-IMF",
        "colab_type": "code",
        "colab": {}
      },
      "source": [
        "top_artists = data1.groupby('artist_name').label.mean().sort_values(ascending=True)"
      ],
      "execution_count": 0,
      "outputs": []
    },
    {
      "cell_type": "code",
      "metadata": {
        "id": "SuP_zQRVGqVO",
        "colab_type": "code",
        "outputId": "3a2eca17-e304-4d74-a2c2-9ea0feff5009",
        "colab": {
          "base_uri": "https://localhost:8080/",
          "height": 1000
        }
      },
      "source": [
        "top_artists[200:300]"
      ],
      "execution_count": 0,
      "outputs": [
        {
          "output_type": "execute_result",
          "data": {
            "text/plain": [
              "artist_name\n",
              "Hoàng Kio                                                  1.000000\n",
              "Soobin Hoàng Sơn, Hương Tràm, Đức Phúc, ERIK, Hòa Minzy    1.000000\n",
              "Soobin Hoàng Sơn, Jiyeon                                   1.000000\n",
              "Soobin Hoàng Sơn, Rhymastic                                1.000000\n",
              "Suboi                                                      1.000000\n",
              "Suzie, Phuc.Pin, Búp, KayDee, Sevenk                       1.000000\n",
              "HuyR, Tùng Viu                                             1.000000\n",
              "Sơn Ngọc Minh, Huỳnh Lập                                   1.000000\n",
              "Sơn Tùng M-TP, SlimV                                       1.000000\n",
              "HuyR, Tuấn Cry                                             1.000000\n",
              "T-Rex                                                      1.000000\n",
              "Đức Phúc, Hòa Minzy                                        1.000000\n",
              "HuyR, Lizay, The Wind                                      1.000000\n",
              "RHY, Dick                                                  1.000000\n",
              "Tuấn Hưng                                                  1.000000\n",
              "Rik, Lédk, JuongB, Lil'One, Huyền Mikii                    1.000000\n",
              "Đặng Tuấn Phương                                           1.000000\n",
              "Phương Ly, JustaTee                                        1.000000\n",
              "Hồ Phong An, Lil'One                                       1.000000\n",
              "Hồ Quang Hiếu, Sửu K, Jay Phan                             1.000000\n",
              "Hồ Quang Ngọc                                              1.000000\n",
              "Hari Won, Đan Trường                                       1.000000\n",
              "Yến Trang, Dương Edward                                    1.000000\n",
              "Bùi Lan Hương                                              1.000000\n",
              "Haohinh, Krix, Rush                                        1.000000\n",
              "Hồng Gấm, Phi Nhung, Mạnh Quỳnh                            1.000000\n",
              "Thái Đinh, Minh Cà Ri                                      1.000000\n",
              "Touliver, Binz, Andree, Evy                                1.000000\n",
              "Touliver, Binz                                             1.000000\n",
              "Han Sara, Huỳnh Hiền Năng                                  1.000000\n",
              "                                                             ...   \n",
              "Quang Vinh                                                 1.000000\n",
              "Hồ Phong An                                                1.000000\n",
              "Vũ.                                                        1.142857\n",
              "Wendy Thảo                                                 1.153846\n",
              "Trung Quân Idol                                            1.200000\n",
              "Hoàng Yến Chibi                                            1.214286\n",
              "Soobin Hoàng Sơn                                           1.250000\n",
              "Chu Bin                                                    1.250000\n",
              "Dương Edward                                               1.250000\n",
              "ERIK                                                       1.250000\n",
              "Phan Ann, Mons                                             1.333333\n",
              "Phan Ann                                                   1.333333\n",
              "Chuy Blue                                                  1.333333\n",
              "Ưng Đại Vệ                                                 1.333333\n",
              "Hữu Khương, Dương Hồng Loan                                1.333333\n",
              "Juun Đăng Dũng, RTee                                       1.333333\n",
              "Hà LeoNa                                                   1.333333\n",
              "Khắc Việt                                                  1.333333\n",
              "JayKii                                                     1.400000\n",
              "Da LAB                                                     1.400000\n",
              "Bùi Công Nam                                               1.400000\n",
              "Đông Nhi                                                   1.428571\n",
              "Chi Pu                                                     1.444444\n",
              "Huy Vạc, Ly Mít                                            1.500000\n",
              "Trường Tam                                                 1.500000\n",
              "Khắc Việt, Daniel Mastro                                   1.500000\n",
              "Yến Trang                                                  1.500000\n",
              "Du Thiên                                                   1.500000\n",
              "Đoàn Minh Quân, Tiên Fami                                  1.500000\n",
              "Đinh Hương, Hà Anh Tuấn                                    1.500000\n",
              "Name: label, Length: 100, dtype: float64"
            ]
          },
          "metadata": {
            "tags": []
          },
          "execution_count": 83
        }
      ]
    },
    {
      "cell_type": "markdown",
      "metadata": {
        "id": "LjXTlKaOL1wC",
        "colab_type": "text"
      },
      "source": [
        "so luong artist ko phai 1 nguoi co label 1 la kha nhieu"
      ]
    },
    {
      "cell_type": "code",
      "metadata": {
        "id": "eMGRhMJg0B52",
        "colab_type": "code",
        "colab": {}
      },
      "source": [
        "def viet_thuong(string):\n",
        "  return string.lower()"
      ],
      "execution_count": 0,
      "outputs": []
    },
    {
      "cell_type": "code",
      "metadata": {
        "id": "6986_729zv6V",
        "colab_type": "code",
        "colab": {}
      },
      "source": [
        "data1.artist_name = data1.artist_name.apply(viet_thuong)\n",
        "data1.composers_name = data1.composers_name.apply(viet_thuong)"
      ],
      "execution_count": 0,
      "outputs": []
    },
    {
      "cell_type": "code",
      "metadata": {
        "id": "5ZpbM0GoNbWQ",
        "colab_type": "code",
        "colab": {}
      },
      "source": [
        "def number_of(string):\n",
        "  return len(string.split(','))"
      ],
      "execution_count": 0,
      "outputs": []
    },
    {
      "cell_type": "code",
      "metadata": {
        "id": "EmYlW4q-IEtD",
        "colab_type": "code",
        "colab": {}
      },
      "source": [
        "data1['no_artist'] = data1.artist_name.apply(number_of)"
      ],
      "execution_count": 0,
      "outputs": []
    },
    {
      "cell_type": "code",
      "metadata": {
        "id": "MqtfYQzKMS8w",
        "colab_type": "code",
        "outputId": "849faf23-bc17-4528-a1f4-26900ff7c47e",
        "colab": {
          "base_uri": "https://localhost:8080/",
          "height": 187
        }
      },
      "source": [
        "data1['no_artist'].value_counts()"
      ],
      "execution_count": 0,
      "outputs": [
        {
          "output_type": "execute_result",
          "data": {
            "text/plain": [
              "1     7418\n",
              "2     1462\n",
              "3      132\n",
              "4       39\n",
              "5       17\n",
              "6        5\n",
              "8        3\n",
              "12       1\n",
              "11       1\n",
              "Name: no_artist, dtype: int64"
            ]
          },
          "metadata": {
            "tags": []
          },
          "execution_count": 88
        }
      ]
    },
    {
      "cell_type": "code",
      "metadata": {
        "id": "pB1UAG8tMY0Z",
        "colab_type": "code",
        "outputId": "00b7690b-3195-4966-daa6-ed48c9d65545",
        "colab": {
          "base_uri": "https://localhost:8080/",
          "height": 204
        }
      },
      "source": [
        "data1.groupby('no_artist').label.mean()"
      ],
      "execution_count": 0,
      "outputs": [
        {
          "output_type": "execute_result",
          "data": {
            "text/plain": [
              "no_artist\n",
              "1      5.728363\n",
              "2      4.699726\n",
              "3      3.537879\n",
              "4      3.410256\n",
              "5      2.176471\n",
              "6      4.200000\n",
              "8      3.333333\n",
              "11    10.000000\n",
              "12     2.000000\n",
              "Name: label, dtype: float64"
            ]
          },
          "metadata": {
            "tags": []
          },
          "execution_count": 89
        }
      ]
    },
    {
      "cell_type": "markdown",
      "metadata": {
        "id": "WYbghxH2PBMU",
        "colab_type": "text"
      },
      "source": [
        "voi so artist tu 1 den 5, cang nhieu artist label cang nho"
      ]
    },
    {
      "cell_type": "code",
      "metadata": {
        "id": "5qW4PpYDNtGd",
        "colab_type": "code",
        "colab": {}
      },
      "source": [
        "data1 = data1[data1['no_artist'] < 6]"
      ],
      "execution_count": 0,
      "outputs": []
    },
    {
      "cell_type": "code",
      "metadata": {
        "id": "QUOnuLI30uav",
        "colab_type": "code",
        "colab": {}
      },
      "source": [
        "def number_of_2(string):\n",
        "  return len(string.split('ft'))"
      ],
      "execution_count": 0,
      "outputs": []
    },
    {
      "cell_type": "code",
      "metadata": {
        "id": "6VEWsZah1Vm-",
        "colab_type": "code",
        "outputId": "d99e3f2d-5fdf-4885-ab5e-2d2a0031df90",
        "colab": {
          "base_uri": "https://localhost:8080/",
          "height": 68
        }
      },
      "source": [
        "m = data1.artist_name[data1.no_artist == 1].apply(number_of_2)\n",
        "m[m>1]"
      ],
      "execution_count": 0,
      "outputs": [
        {
          "output_type": "execute_result",
          "data": {
            "text/plain": [
              "2839    2\n",
              "2930    2\n",
              "Name: artist_name, dtype: int64"
            ]
          },
          "metadata": {
            "tags": []
          },
          "execution_count": 92
        }
      ]
    },
    {
      "cell_type": "code",
      "metadata": {
        "id": "Xn9NaLk_O9oL",
        "colab_type": "code",
        "colab": {}
      },
      "source": [
        "data_1_artist = data1[data1['no_artist'] == 1]"
      ],
      "execution_count": 0,
      "outputs": []
    },
    {
      "cell_type": "code",
      "metadata": {
        "id": "glcQjiCgPa0d",
        "colab_type": "code",
        "outputId": "b81a54f4-c2b5-41c2-fc53-70350d605916",
        "colab": {
          "base_uri": "https://localhost:8080/",
          "height": 1000
        }
      },
      "source": [
        "data_1_artist.groupby('artist_name').label.mean().sort_values(ascending=True)"
      ],
      "execution_count": 0,
      "outputs": [
        {
          "output_type": "execute_result",
          "data": {
            "text/plain": [
              "artist_name\n",
              "khắc hưng               1.0\n",
              "hải sâm                 1.0\n",
              "hồ gia huy              1.0\n",
              "uyên pím (bệt band)     1.0\n",
              "hồ phong an             1.0\n",
              "hồ quang ngọc           1.0\n",
              "jack                    1.0\n",
              "jun phạm                1.0\n",
              "junki                   1.0\n",
              "hạnh sino               1.0\n",
              "justatee                1.0\n",
              "kha ken                 1.0\n",
              "khánh phong             1.0\n",
              "khởi my                 1.0\n",
              "kim thành               1.0\n",
              "kiều thương thương      1.0\n",
              "cara                    1.0\n",
              "đạt g                   1.0\n",
              "tuấn hưng               1.0\n",
              "kai đinh                1.0\n",
              "long cao                1.0\n",
              "vicky nhung             1.0\n",
              "hoàng kio               1.0\n",
              "đinh tùng huy           1.0\n",
              "bảo anh                 1.0\n",
              "đinh hương              1.0\n",
              "đen                     1.0\n",
              "đan nguyên              1.0\n",
              "dickson                 1.0\n",
              "diệp thanh phong        1.0\n",
              "                       ... \n",
              "châu ngọc hiếu         10.0\n",
              "vũ minh vương          10.0\n",
              "hoàng phương           10.0\n",
              "đan kim                10.0\n",
              "cúc vàng               10.0\n",
              "phạm đình nam          10.0\n",
              "quân han               10.0\n",
              "dico-gb                10.0\n",
              "quang đệ               10.0\n",
              "pti                    10.0\n",
              "cindy v                10.0\n",
              "bé hoài ngọc           10.0\n",
              "huy kid                10.0\n",
              "hyo                    10.0\n",
              "louis quy anh          10.0\n",
              "sao mai                10.0\n",
              "tánh linh              10.0\n",
              "kid td                 10.0\n",
              "khởi phong             10.0\n",
              "s.at                   10.0\n",
              "cao hoàng              10.0\n",
              "yang                   10.0\n",
              "uyên nguyên            10.0\n",
              "bùi vĩnh phúc          10.0\n",
              "hàn vy                 10.0\n",
              "hà trọng               10.0\n",
              "rio                    10.0\n",
              "phương huyền           10.0\n",
              "hồ hưng dũng           10.0\n",
              "stillad                10.0\n",
              "Name: label, Length: 1401, dtype: float64"
            ]
          },
          "metadata": {
            "tags": []
          },
          "execution_count": 96
        }
      ]
    },
    {
      "cell_type": "code",
      "metadata": {
        "id": "OR1fTs3tPoDG",
        "colab_type": "code",
        "outputId": "fe551279-b288-44aa-ce79-839ca569cf24",
        "colab": {
          "base_uri": "https://localhost:8080/",
          "height": 289
        }
      },
      "source": [
        "hang_1 = data1['label'] == 1\n",
        "artist = data1['no_artist'] == 1\n",
        "data_rank1 = data1[hang_1 & artist]\n",
        "data_rank1.head()"
      ],
      "execution_count": 0,
      "outputs": [
        {
          "output_type": "execute_result",
          "data": {
            "text/html": [
              "<div>\n",
              "<style scoped>\n",
              "    .dataframe tbody tr th:only-of-type {\n",
              "        vertical-align: middle;\n",
              "    }\n",
              "\n",
              "    .dataframe tbody tr th {\n",
              "        vertical-align: top;\n",
              "    }\n",
              "\n",
              "    .dataframe thead th {\n",
              "        text-align: right;\n",
              "    }\n",
              "</style>\n",
              "<table border=\"1\" class=\"dataframe\">\n",
              "  <thead>\n",
              "    <tr style=\"text-align: right;\">\n",
              "      <th></th>\n",
              "      <th>ID</th>\n",
              "      <th>title</th>\n",
              "      <th>artist_name</th>\n",
              "      <th>composers_name</th>\n",
              "      <th>release_time</th>\n",
              "      <th>label</th>\n",
              "      <th>no_artist</th>\n",
              "    </tr>\n",
              "  </thead>\n",
              "  <tbody>\n",
              "    <tr>\n",
              "      <th>28</th>\n",
              "      <td>1075033645</td>\n",
              "      <td>Một Nhà</td>\n",
              "      <td>da lab</td>\n",
              "      <td>da lab</td>\n",
              "      <td>2017-09-25 17:02:00</td>\n",
              "      <td>1</td>\n",
              "      <td>1</td>\n",
              "    </tr>\n",
              "    <tr>\n",
              "      <th>56</th>\n",
              "      <td>1075810266</td>\n",
              "      <td>Trở Về Đi (Tỉnh Giấc Tôi Thấy Mình Trong Ai OST)</td>\n",
              "      <td>chi pu</td>\n",
              "      <td>phạm toàn thắng</td>\n",
              "      <td>2017-09-01 16:15:00</td>\n",
              "      <td>1</td>\n",
              "      <td>1</td>\n",
              "    </tr>\n",
              "    <tr>\n",
              "      <th>64</th>\n",
              "      <td>1075810346</td>\n",
              "      <td>Con Đê Chung Tình</td>\n",
              "      <td>phi nhung</td>\n",
              "      <td>phạm hoàng dũng</td>\n",
              "      <td>2017-09-01 17:32:00</td>\n",
              "      <td>1</td>\n",
              "      <td>1</td>\n",
              "    </tr>\n",
              "    <tr>\n",
              "      <th>94</th>\n",
              "      <td>1075810896</td>\n",
              "      <td>Người Ta Thuờng Nói</td>\n",
              "      <td>trung quân idol</td>\n",
              "      <td>kai đinh</td>\n",
              "      <td>2017-10-01 19:46:00</td>\n",
              "      <td>1</td>\n",
              "      <td>1</td>\n",
              "    </tr>\n",
              "    <tr>\n",
              "      <th>106</th>\n",
              "      <td>1075810944</td>\n",
              "      <td>Phải Có Em</td>\n",
              "      <td>kai đinh</td>\n",
              "      <td>kai đinh</td>\n",
              "      <td>2017-10-01 20:55:00</td>\n",
              "      <td>1</td>\n",
              "      <td>1</td>\n",
              "    </tr>\n",
              "  </tbody>\n",
              "</table>\n",
              "</div>"
            ],
            "text/plain": [
              "             ID  ... no_artist\n",
              "28   1075033645  ...         1\n",
              "56   1075810266  ...         1\n",
              "64   1075810346  ...         1\n",
              "94   1075810896  ...         1\n",
              "106  1075810944  ...         1\n",
              "\n",
              "[5 rows x 7 columns]"
            ]
          },
          "metadata": {
            "tags": []
          },
          "execution_count": 97
        }
      ]
    },
    {
      "cell_type": "markdown",
      "metadata": {
        "id": "_UxtTPjjsN4e",
        "colab_type": "text"
      },
      "source": [
        "top 20 artist loại Cao Nam Thành, Gia Huy"
      ]
    },
    {
      "cell_type": "code",
      "metadata": {
        "id": "WqH2cf1WtUmi",
        "colab_type": "code",
        "outputId": "48aca2c6-6125-4444-b057-cb7012421e63",
        "colab": {
          "base_uri": "https://localhost:8080/",
          "height": 68
        }
      },
      "source": [
        "data1.release_time.str.slice(0 ,4).value_counts()"
      ],
      "execution_count": 0,
      "outputs": [
        {
          "output_type": "execute_result",
          "data": {
            "text/plain": [
              "2018    6244\n",
              "2017    2824\n",
              "Name: release_time, dtype: int64"
            ]
          },
          "metadata": {
            "tags": []
          },
          "execution_count": 98
        }
      ]
    },
    {
      "cell_type": "code",
      "metadata": {
        "id": "vM_ums6mGhtI",
        "colab_type": "code",
        "outputId": "fd3d0557-f05d-4568-f496-2fe9f6b66187",
        "colab": {
          "base_uri": "https://localhost:8080/",
          "height": 204
        }
      },
      "source": [
        "data1.head()"
      ],
      "execution_count": 0,
      "outputs": [
        {
          "output_type": "execute_result",
          "data": {
            "text/html": [
              "<div>\n",
              "<style scoped>\n",
              "    .dataframe tbody tr th:only-of-type {\n",
              "        vertical-align: middle;\n",
              "    }\n",
              "\n",
              "    .dataframe tbody tr th {\n",
              "        vertical-align: top;\n",
              "    }\n",
              "\n",
              "    .dataframe thead th {\n",
              "        text-align: right;\n",
              "    }\n",
              "</style>\n",
              "<table border=\"1\" class=\"dataframe\">\n",
              "  <thead>\n",
              "    <tr style=\"text-align: right;\">\n",
              "      <th></th>\n",
              "      <th>ID</th>\n",
              "      <th>title</th>\n",
              "      <th>artist_name</th>\n",
              "      <th>composers_name</th>\n",
              "      <th>release_time</th>\n",
              "      <th>label</th>\n",
              "      <th>no_artist</th>\n",
              "    </tr>\n",
              "  </thead>\n",
              "  <tbody>\n",
              "    <tr>\n",
              "      <th>0</th>\n",
              "      <td>1073748245</td>\n",
              "      <td>Đêm Chôn Dầu Vượt Biển</td>\n",
              "      <td>như quỳnh</td>\n",
              "      <td>châu đình an</td>\n",
              "      <td>2017-10-01 22:07:00</td>\n",
              "      <td>7</td>\n",
              "      <td>1</td>\n",
              "    </tr>\n",
              "    <tr>\n",
              "      <th>1</th>\n",
              "      <td>1073751978</td>\n",
              "      <td>Mùa Thu Trong Mưa</td>\n",
              "      <td>minh tuyết</td>\n",
              "      <td>trường sa</td>\n",
              "      <td>2017-10-01 20:58:00</td>\n",
              "      <td>3</td>\n",
              "      <td>1</td>\n",
              "    </tr>\n",
              "    <tr>\n",
              "      <th>2</th>\n",
              "      <td>1073835561</td>\n",
              "      <td>Rồi Ánh Trăng Tan</td>\n",
              "      <td>lưu bích</td>\n",
              "      <td>quốc bảo</td>\n",
              "      <td>2017-11-01 18:16:00</td>\n",
              "      <td>6</td>\n",
              "      <td>1</td>\n",
              "    </tr>\n",
              "    <tr>\n",
              "      <th>3</th>\n",
              "      <td>1073856553</td>\n",
              "      <td>Còn Thương Rau Đắng Mọc Sau Hè</td>\n",
              "      <td>như quỳnh</td>\n",
              "      <td>bắc sơn</td>\n",
              "      <td>2017-11-01 17:36:00</td>\n",
              "      <td>2</td>\n",
              "      <td>1</td>\n",
              "    </tr>\n",
              "    <tr>\n",
              "      <th>4</th>\n",
              "      <td>1073929630</td>\n",
              "      <td>Người Điên Biết Yêu</td>\n",
              "      <td>như loan</td>\n",
              "      <td>lê minh kha</td>\n",
              "      <td>2017-11-01 17:49:00</td>\n",
              "      <td>7</td>\n",
              "      <td>1</td>\n",
              "    </tr>\n",
              "  </tbody>\n",
              "</table>\n",
              "</div>"
            ],
            "text/plain": [
              "           ID                           title  ... label no_artist\n",
              "0  1073748245          Đêm Chôn Dầu Vượt Biển  ...     7         1\n",
              "1  1073751978               Mùa Thu Trong Mưa  ...     3         1\n",
              "2  1073835561               Rồi Ánh Trăng Tan  ...     6         1\n",
              "3  1073856553  Còn Thương Rau Đắng Mọc Sau Hè  ...     2         1\n",
              "4  1073929630             Người Điên Biết Yêu  ...     7         1\n",
              "\n",
              "[5 rows x 7 columns]"
            ]
          },
          "metadata": {
            "tags": []
          },
          "execution_count": 99
        }
      ]
    },
    {
      "cell_type": "code",
      "metadata": {
        "id": "VXZmF2kcG0-n",
        "colab_type": "code",
        "colab": {}
      },
      "source": [
        "data1.release_time = pd.to_datetime(data1.release_time)"
      ],
      "execution_count": 0,
      "outputs": []
    },
    {
      "cell_type": "code",
      "metadata": {
        "id": "iLbpnaTbHSx8",
        "colab_type": "code",
        "outputId": "bbae6c48-0eef-480c-fb18-95ff436d2f85",
        "colab": {
          "base_uri": "https://localhost:8080/",
          "height": 307
        }
      },
      "source": [
        "data1.groupby(data1.release_time.dt.year).label.mean().plot()"
      ],
      "execution_count": 0,
      "outputs": [
        {
          "output_type": "execute_result",
          "data": {
            "text/plain": [
              "<matplotlib.axes._subplots.AxesSubplot at 0x7f22756a2eb8>"
            ]
          },
          "metadata": {
            "tags": []
          },
          "execution_count": 101
        },
        {
          "output_type": "display_data",
          "data": {
            "image/png": "[encoded data removed]",
            "text/plain": [
              "<Figure size 432x288 with 1 Axes>"
            ]
          },
          "metadata": {
            "tags": []
          }
        }
      ]
    },
    {
      "cell_type": "code",
      "metadata": {
        "id": "Q9kNT8FiHeIQ",
        "colab_type": "code",
        "outputId": "3e553e6a-ac83-4c8e-fbb3-ac8b067443b9",
        "colab": {
          "base_uri": "https://localhost:8080/",
          "height": 307
        }
      },
      "source": [
        "data1.groupby(data1.release_time.dt.month).label.mean().plot()"
      ],
      "execution_count": 0,
      "outputs": [
        {
          "output_type": "execute_result",
          "data": {
            "text/plain": [
              "<matplotlib.axes._subplots.AxesSubplot at 0x7f227598cac8>"
            ]
          },
          "metadata": {
            "tags": []
          },
          "execution_count": 102
        },
        {
          "output_type": "display_data",
          "data": {
            "image/png": "[encoded data removed]",
            "text/plain": [
              "<Figure size 432x288 with 1 Axes>"
            ]
          },
          "metadata": {
            "tags": []
          }
        }
      ]
    },
    {
      "cell_type": "markdown",
      "metadata": {
        "id": "opg2AeLKI2MA",
        "colab_type": "text"
      },
      "source": [
        "cang gan thang 12 label cang nho"
      ]
    },
    {
      "cell_type": "code",
      "metadata": {
        "id": "5SHwVZk2I6Fn",
        "colab_type": "code",
        "outputId": "1a1e9978-a89e-427d-ba66-97fd1274a5b2",
        "colab": {
          "base_uri": "https://localhost:8080/",
          "height": 238
        }
      },
      "source": [
        "data1.release_time.dt.month.value_counts()"
      ],
      "execution_count": 0,
      "outputs": [
        {
          "output_type": "execute_result",
          "data": {
            "text/plain": [
              "8     1227\n",
              "11    1078\n",
              "10    1022\n",
              "9      980\n",
              "12     977\n",
              "5      718\n",
              "1      683\n",
              "7      561\n",
              "3      538\n",
              "4      509\n",
              "6      436\n",
              "2      339\n",
              "Name: release_time, dtype: int64"
            ]
          },
          "metadata": {
            "tags": []
          },
          "execution_count": 103
        }
      ]
    },
    {
      "cell_type": "markdown",
      "metadata": {
        "id": "dtF_ZiV3JFjO",
        "colab_type": "text"
      },
      "source": [
        "cac thang 8 9 10 11 12 co so luong bai hat duoc release nhieu"
      ]
    },
    {
      "cell_type": "code",
      "metadata": {
        "id": "LY1hb4znIUFJ",
        "colab_type": "code",
        "outputId": "54736ea4-eb95-4ec8-8793-94de5a6c5cb1",
        "colab": {
          "base_uri": "https://localhost:8080/",
          "height": 307
        }
      },
      "source": [
        "data1.groupby(data1.release_time.dt.hour).label.mean().plot()"
      ],
      "execution_count": 0,
      "outputs": [
        {
          "output_type": "execute_result",
          "data": {
            "text/plain": [
              "<matplotlib.axes._subplots.AxesSubplot at 0x7f22751149b0>"
            ]
          },
          "metadata": {
            "tags": []
          },
          "execution_count": 104
        },
        {
          "output_type": "display_data",
          "data": {
            "image/png": "[encoded data removed]",
            "text/plain": [
              "<Figure size 432x288 with 1 Axes>"
            ]
          },
          "metadata": {
            "tags": []
          }
        }
      ]
    },
    {
      "cell_type": "code",
      "metadata": {
        "id": "VgaYDCdSJmps",
        "colab_type": "code",
        "outputId": "63d3a3c5-3e4e-4851-de8d-e32ecdd7ce3a",
        "colab": {
          "base_uri": "https://localhost:8080/",
          "height": 391
        }
      },
      "source": [
        "data1.release_time.dt.hour.value_counts()"
      ],
      "execution_count": 0,
      "outputs": [
        {
          "output_type": "execute_result",
          "data": {
            "text/plain": [
              "17    1367\n",
              "18    1243\n",
              "22    1215\n",
              "0     1127\n",
              "23    1092\n",
              "21    1037\n",
              "1      615\n",
              "16     569\n",
              "19     199\n",
              "20     183\n",
              "2      148\n",
              "3       84\n",
              "15      49\n",
              "4       40\n",
              "5       26\n",
              "7       26\n",
              "8       22\n",
              "6       17\n",
              "13       4\n",
              "12       3\n",
              "9        2\n",
              "Name: release_time, dtype: int64"
            ]
          },
          "metadata": {
            "tags": []
          },
          "execution_count": 105
        }
      ]
    },
    {
      "cell_type": "markdown",
      "metadata": {
        "id": "jtE-CyimbZ5f",
        "colab_type": "text"
      },
      "source": [
        "tu 17h den 0h release nhieu bai hat, nhung label cua nhung bai hat nay kha lon, luc 6h va 12h co label nho nhung co rat it bai hat duoc release trong khoang thoi gian nay"
      ]
    },
    {
      "cell_type": "code",
      "metadata": {
        "id": "lJLy17GuIlQe",
        "colab_type": "code",
        "outputId": "d0ef1507-6e5a-4f3d-cbf6-37e8e31d6a1d",
        "colab": {
          "base_uri": "https://localhost:8080/",
          "height": 307
        }
      },
      "source": [
        "data1.groupby(data1.release_time.dt.day).label.mean().plot()"
      ],
      "execution_count": 0,
      "outputs": [
        {
          "output_type": "execute_result",
          "data": {
            "text/plain": [
              "<matplotlib.axes._subplots.AxesSubplot at 0x7f227514c9e8>"
            ]
          },
          "metadata": {
            "tags": []
          },
          "execution_count": 106
        },
        {
          "output_type": "display_data",
          "data": {
            "image/png": "[encoded data removed]",
            "text/plain": [
              "<Figure size 432x288 with 1 Axes>"
            ]
          },
          "metadata": {
            "tags": []
          }
        }
      ]
    },
    {
      "cell_type": "code",
      "metadata": {
        "id": "JIRXEN1RJPpX",
        "colab_type": "code",
        "outputId": "f056f118-f73c-41d9-b284-cd5015141afb",
        "colab": {
          "base_uri": "https://localhost:8080/",
          "height": 289
        }
      },
      "source": [
        "data1.release_time.dt.day.hist(bins = 30)"
      ],
      "execution_count": 0,
      "outputs": [
        {
          "output_type": "execute_result",
          "data": {
            "text/plain": [
              "<matplotlib.axes._subplots.AxesSubplot at 0x7f22750fca20>"
            ]
          },
          "metadata": {
            "tags": []
          },
          "execution_count": 107
        },
        {
          "output_type": "display_data",
          "data": {
            "image/png": "[encoded data removed]",
            "text/plain": [
              "<Figure size 432x288 with 1 Axes>"
            ]
          },
          "metadata": {
            "tags": []
          }
        }
      ]
    },
    {
      "cell_type": "code",
      "metadata": {
        "id": "aeN-HbtITUr2",
        "colab_type": "code",
        "colab": {}
      },
      "source": [
        "data1['month'] = data1.release_time.dt.month\n",
        "data1['year'] = data1.release_time.dt.year"
      ],
      "execution_count": 0,
      "outputs": []
    },
    {
      "cell_type": "code",
      "metadata": {
        "id": "FbVm0oCHb3yD",
        "colab_type": "code",
        "colab": {}
      },
      "source": [
        "data1.drop(columns=['release_time'], inplace = True)"
      ],
      "execution_count": 0,
      "outputs": []
    },
    {
      "cell_type": "code",
      "metadata": {
        "id": "5Nxc6H3xb_9o",
        "colab_type": "code",
        "outputId": "7ee75785-5cd3-4aa0-f006-83ff98384a3d",
        "colab": {
          "base_uri": "https://localhost:8080/",
          "height": 204
        }
      },
      "source": [
        "data1.dtypes"
      ],
      "execution_count": 0,
      "outputs": [
        {
          "output_type": "execute_result",
          "data": {
            "text/plain": [
              "ID                 int64\n",
              "title             object\n",
              "artist_name       object\n",
              "composers_name    object\n",
              "label              int64\n",
              "no_artist          int64\n",
              "month              int64\n",
              "year               int64\n",
              "months            object\n",
              "years             object\n",
              "dtype: object"
            ]
          },
          "metadata": {
            "tags": []
          },
          "execution_count": 130
        }
      ]
    },
    {
      "cell_type": "code",
      "metadata": {
        "id": "AwCKEJrRcBTY",
        "colab_type": "code",
        "colab": {}
      },
      "source": [
        "data1['months'] = data1.month.apply(str)\n",
        "data1['years'] = data1.year.apply(str)"
      ],
      "execution_count": 0,
      "outputs": []
    },
    {
      "cell_type": "code",
      "metadata": {
        "id": "-vRF1uXXcvLL",
        "colab_type": "code",
        "colab": {}
      },
      "source": [
        "data1.drop(columns=['month', 'year'], inplace=True)"
      ],
      "execution_count": 0,
      "outputs": []
    },
    {
      "cell_type": "code",
      "metadata": {
        "id": "I60lNF2meDb7",
        "colab_type": "code",
        "colab": {}
      },
      "source": [
        "data1['no_composer'] = data1.composers_name.apply(number_of)"
      ],
      "execution_count": 0,
      "outputs": []
    },
    {
      "cell_type": "code",
      "metadata": {
        "id": "mE3apz5eeHw4",
        "colab_type": "code",
        "outputId": "9522dabd-877f-4409-8526-2ca8840a6c27",
        "colab": {
          "base_uri": "https://localhost:8080/",
          "height": 119
        }
      },
      "source": [
        "data1.no_composer.value_counts()"
      ],
      "execution_count": 0,
      "outputs": [
        {
          "output_type": "execute_result",
          "data": {
            "text/plain": [
              "1    8235\n",
              "2     752\n",
              "3      70\n",
              "4      10\n",
              "7       1\n",
              "Name: no_composer, dtype: int64"
            ]
          },
          "metadata": {
            "tags": []
          },
          "execution_count": 136
        }
      ]
    },
    {
      "cell_type": "code",
      "metadata": {
        "id": "UU53YczJeoiH",
        "colab_type": "code",
        "outputId": "4d236216-d1bf-4a10-e769-0495d68300fc",
        "colab": {
          "base_uri": "https://localhost:8080/",
          "height": 136
        }
      },
      "source": [
        "data1.groupby('no_composer').label.mean()"
      ],
      "execution_count": 0,
      "outputs": [
        {
          "output_type": "execute_result",
          "data": {
            "text/plain": [
              "no_composer\n",
              "1    5.556648\n",
              "2    5.259309\n",
              "3    3.371429\n",
              "4    4.700000\n",
              "7    4.000000\n",
              "Name: label, dtype: float64"
            ]
          },
          "metadata": {
            "tags": []
          },
          "execution_count": 143
        }
      ]
    },
    {
      "cell_type": "markdown",
      "metadata": {
        "id": "SItAyzErfmg5",
        "colab_type": "text"
      },
      "source": [
        "so luong composer tang label giam, so composer la 4 va 7 la ko nhieu"
      ]
    },
    {
      "cell_type": "code",
      "metadata": {
        "id": "7OWfXgesfd9E",
        "colab_type": "code",
        "colab": {}
      },
      "source": [
        "data1 = data1[data1['no_artist'] < 4]"
      ],
      "execution_count": 0,
      "outputs": []
    },
    {
      "cell_type": "code",
      "metadata": {
        "id": "5bGrtcnSgBkj",
        "colab_type": "code",
        "outputId": "ddb43501-5847-4d1a-d1c3-3d91280ffc3f",
        "colab": {
          "base_uri": "https://localhost:8080/",
          "height": 221
        }
      },
      "source": [
        "data1.head()"
      ],
      "execution_count": 0,
      "outputs": [
        {
          "output_type": "execute_result",
          "data": {
            "text/html": [
              "<div>\n",
              "<style scoped>\n",
              "    .dataframe tbody tr th:only-of-type {\n",
              "        vertical-align: middle;\n",
              "    }\n",
              "\n",
              "    .dataframe tbody tr th {\n",
              "        vertical-align: top;\n",
              "    }\n",
              "\n",
              "    .dataframe thead th {\n",
              "        text-align: right;\n",
              "    }\n",
              "</style>\n",
              "<table border=\"1\" class=\"dataframe\">\n",
              "  <thead>\n",
              "    <tr style=\"text-align: right;\">\n",
              "      <th></th>\n",
              "      <th>ID</th>\n",
              "      <th>title</th>\n",
              "      <th>artist_name</th>\n",
              "      <th>composers_name</th>\n",
              "      <th>label</th>\n",
              "      <th>no_artist</th>\n",
              "      <th>months</th>\n",
              "      <th>years</th>\n",
              "      <th>no_composer</th>\n",
              "    </tr>\n",
              "  </thead>\n",
              "  <tbody>\n",
              "    <tr>\n",
              "      <th>0</th>\n",
              "      <td>1073748245</td>\n",
              "      <td>Đêm Chôn Dầu Vượt Biển</td>\n",
              "      <td>như quỳnh</td>\n",
              "      <td>châu đình an</td>\n",
              "      <td>7</td>\n",
              "      <td>1</td>\n",
              "      <td>10</td>\n",
              "      <td>2017</td>\n",
              "      <td>1</td>\n",
              "    </tr>\n",
              "    <tr>\n",
              "      <th>1</th>\n",
              "      <td>1073751978</td>\n",
              "      <td>Mùa Thu Trong Mưa</td>\n",
              "      <td>minh tuyết</td>\n",
              "      <td>trường sa</td>\n",
              "      <td>3</td>\n",
              "      <td>1</td>\n",
              "      <td>10</td>\n",
              "      <td>2017</td>\n",
              "      <td>1</td>\n",
              "    </tr>\n",
              "    <tr>\n",
              "      <th>2</th>\n",
              "      <td>1073835561</td>\n",
              "      <td>Rồi Ánh Trăng Tan</td>\n",
              "      <td>lưu bích</td>\n",
              "      <td>quốc bảo</td>\n",
              "      <td>6</td>\n",
              "      <td>1</td>\n",
              "      <td>11</td>\n",
              "      <td>2017</td>\n",
              "      <td>1</td>\n",
              "    </tr>\n",
              "    <tr>\n",
              "      <th>3</th>\n",
              "      <td>1073856553</td>\n",
              "      <td>Còn Thương Rau Đắng Mọc Sau Hè</td>\n",
              "      <td>như quỳnh</td>\n",
              "      <td>bắc sơn</td>\n",
              "      <td>2</td>\n",
              "      <td>1</td>\n",
              "      <td>11</td>\n",
              "      <td>2017</td>\n",
              "      <td>1</td>\n",
              "    </tr>\n",
              "    <tr>\n",
              "      <th>4</th>\n",
              "      <td>1073929630</td>\n",
              "      <td>Người Điên Biết Yêu</td>\n",
              "      <td>như loan</td>\n",
              "      <td>lê minh kha</td>\n",
              "      <td>7</td>\n",
              "      <td>1</td>\n",
              "      <td>11</td>\n",
              "      <td>2017</td>\n",
              "      <td>1</td>\n",
              "    </tr>\n",
              "  </tbody>\n",
              "</table>\n",
              "</div>"
            ],
            "text/plain": [
              "           ID                           title  ... years no_composer\n",
              "0  1073748245          Đêm Chôn Dầu Vượt Biển  ...  2017           1\n",
              "1  1073751978               Mùa Thu Trong Mưa  ...  2017           1\n",
              "2  1073835561               Rồi Ánh Trăng Tan  ...  2017           1\n",
              "3  1073856553  Còn Thương Rau Đắng Mọc Sau Hè  ...  2017           1\n",
              "4  1073929630             Người Điên Biết Yêu  ...  2017           1\n",
              "\n",
              "[5 rows x 9 columns]"
            ]
          },
          "metadata": {
            "tags": []
          },
          "execution_count": 145
        }
      ]
    },
    {
      "cell_type": "code",
      "metadata": {
        "id": "ymUz1a6GgD7S",
        "colab_type": "code",
        "colab": {}
      },
      "source": [
        ""
      ],
      "execution_count": 0,
      "outputs": []
    }
  ]
}