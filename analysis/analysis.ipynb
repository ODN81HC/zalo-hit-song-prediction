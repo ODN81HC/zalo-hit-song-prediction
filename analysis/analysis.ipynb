{
 "cells": [
  {
   "cell_type": "code",
   "execution_count": 26,
   "metadata": {},
   "outputs": [],
   "source": [
    "import pandas as pd\n",
    "\n",
    "TRAININFO = \"/data/HitSongPrediction/train_info.tsv\"\n",
    "TRAINRANK =  \"/data/HitSongPrediction/train_rank.csv\"\n",
    "TESTINFO = \"/data/HitSongPrediction/test_info.tsv\"\n",
    "SUBMISSION = \"/data/HitSongPrediction/submission.csv\""
   ]
  },
  {
   "cell_type": "code",
   "execution_count": 29,
   "metadata": {},
   "outputs": [
    {
     "data": {
      "text/html": [
       "<div>\n",
       "<style scoped>\n",
       "    .dataframe tbody tr th:only-of-type {\n",
       "        vertical-align: middle;\n",
       "    }\n",
       "\n",
       "    .dataframe tbody tr th {\n",
       "        vertical-align: top;\n",
       "    }\n",
       "\n",
       "    .dataframe thead th {\n",
       "        text-align: right;\n",
       "    }\n",
       "</style>\n",
       "<table border=\"1\" class=\"dataframe\">\n",
       "  <thead>\n",
       "    <tr style=\"text-align: right;\">\n",
       "      <th></th>\n",
       "      <th>ID</th>\n",
       "      <th>title</th>\n",
       "      <th>artist_name</th>\n",
       "      <th>artist_id</th>\n",
       "      <th>composers_name</th>\n",
       "      <th>composers_id</th>\n",
       "      <th>release_time</th>\n",
       "      <th>label</th>\n",
       "    </tr>\n",
       "  </thead>\n",
       "  <tbody>\n",
       "    <tr>\n",
       "      <td>0</td>\n",
       "      <td>1073748245</td>\n",
       "      <td>Đêm Chôn Dầu Vượt Biển</td>\n",
       "      <td>Như Quỳnh</td>\n",
       "      <td>551</td>\n",
       "      <td>Châu Đình An</td>\n",
       "      <td>5765</td>\n",
       "      <td>2017-10-01 22:07:00</td>\n",
       "      <td>7</td>\n",
       "    </tr>\n",
       "    <tr>\n",
       "      <td>1</td>\n",
       "      <td>1073751978</td>\n",
       "      <td>Mùa Thu Trong Mưa</td>\n",
       "      <td>Minh Tuyết</td>\n",
       "      <td>455</td>\n",
       "      <td>Trường Sa</td>\n",
       "      <td>100105</td>\n",
       "      <td>2017-10-01 20:58:00</td>\n",
       "      <td>3</td>\n",
       "    </tr>\n",
       "    <tr>\n",
       "      <td>2</td>\n",
       "      <td>1073835561</td>\n",
       "      <td>Rồi Ánh Trăng Tan</td>\n",
       "      <td>Lưu Bích</td>\n",
       "      <td>450</td>\n",
       "      <td>Quốc Bảo</td>\n",
       "      <td>4355</td>\n",
       "      <td>2017-11-01 18:16:00</td>\n",
       "      <td>6</td>\n",
       "    </tr>\n",
       "    <tr>\n",
       "      <td>3</td>\n",
       "      <td>1073856553</td>\n",
       "      <td>Còn Thương Rau Đắng Mọc Sau Hè</td>\n",
       "      <td>Như Quỳnh</td>\n",
       "      <td>551</td>\n",
       "      <td>Bắc Sơn</td>\n",
       "      <td>7686</td>\n",
       "      <td>2017-11-01 17:36:00</td>\n",
       "      <td>2</td>\n",
       "    </tr>\n",
       "    <tr>\n",
       "      <td>4</td>\n",
       "      <td>1073929630</td>\n",
       "      <td>Người Điên Biết Yêu</td>\n",
       "      <td>Như Loan</td>\n",
       "      <td>513</td>\n",
       "      <td>Lê Minh Kha</td>\n",
       "      <td>100466</td>\n",
       "      <td>2017-11-01 17:49:00</td>\n",
       "      <td>7</td>\n",
       "    </tr>\n",
       "    <tr>\n",
       "      <td>...</td>\n",
       "      <td>...</td>\n",
       "      <td>...</td>\n",
       "      <td>...</td>\n",
       "      <td>...</td>\n",
       "      <td>...</td>\n",
       "      <td>...</td>\n",
       "      <td>...</td>\n",
       "      <td>...</td>\n",
       "    </tr>\n",
       "    <tr>\n",
       "      <td>95</td>\n",
       "      <td>1075810914</td>\n",
       "      <td>Trăng Tàn Trên Hè Phố</td>\n",
       "      <td>Phương Diễm Hạnh</td>\n",
       "      <td>33855</td>\n",
       "      <td>Phạm Thế Mỹ</td>\n",
       "      <td>100354</td>\n",
       "      <td>2017-10-01 20:36:00</td>\n",
       "      <td>2</td>\n",
       "    </tr>\n",
       "    <tr>\n",
       "      <td>96</td>\n",
       "      <td>1075810915</td>\n",
       "      <td>Chỉ Hai Đứa Mình Thôi Nhé</td>\n",
       "      <td>Phương Diễm Hạnh</td>\n",
       "      <td>33855</td>\n",
       "      <td>Lê Dinh, Anh Bằng</td>\n",
       "      <td>100299.100183</td>\n",
       "      <td>2017-10-01 20:36:00</td>\n",
       "      <td>3</td>\n",
       "    </tr>\n",
       "    <tr>\n",
       "      <td>97</td>\n",
       "      <td>1075810916</td>\n",
       "      <td>Tình Hậu Phương</td>\n",
       "      <td>Phương Diễm Hạnh</td>\n",
       "      <td>33855</td>\n",
       "      <td>Minh Kỳ</td>\n",
       "      <td>100134</td>\n",
       "      <td>2017-10-01 20:36:00</td>\n",
       "      <td>4</td>\n",
       "    </tr>\n",
       "    <tr>\n",
       "      <td>98</td>\n",
       "      <td>1075810917</td>\n",
       "      <td>Thu Tím Lá Vàng</td>\n",
       "      <td>Phương Diễm Hạnh</td>\n",
       "      <td>33855</td>\n",
       "      <td>Văn Tùng</td>\n",
       "      <td>102319</td>\n",
       "      <td>2017-10-01 20:36:00</td>\n",
       "      <td>4</td>\n",
       "    </tr>\n",
       "    <tr>\n",
       "      <td>99</td>\n",
       "      <td>1075810918</td>\n",
       "      <td>Bỏ Phố Lên Rừng</td>\n",
       "      <td>Phương Diễm Hạnh</td>\n",
       "      <td>33855</td>\n",
       "      <td>Châu Kỳ</td>\n",
       "      <td>100139</td>\n",
       "      <td>2017-10-01 20:36:00</td>\n",
       "      <td>4</td>\n",
       "    </tr>\n",
       "  </tbody>\n",
       "</table>\n",
       "<p>100 rows × 8 columns</p>\n",
       "</div>"
      ],
      "text/plain": [
       "            ID                           title       artist_name artist_id  \\\n",
       "0   1073748245          Đêm Chôn Dầu Vượt Biển         Như Quỳnh       551   \n",
       "1   1073751978               Mùa Thu Trong Mưa        Minh Tuyết       455   \n",
       "2   1073835561               Rồi Ánh Trăng Tan          Lưu Bích       450   \n",
       "3   1073856553  Còn Thương Rau Đắng Mọc Sau Hè         Như Quỳnh       551   \n",
       "4   1073929630             Người Điên Biết Yêu          Như Loan       513   \n",
       "..         ...                             ...               ...       ...   \n",
       "95  1075810914           Trăng Tàn Trên Hè Phố  Phương Diễm Hạnh     33855   \n",
       "96  1075810915       Chỉ Hai Đứa Mình Thôi Nhé  Phương Diễm Hạnh     33855   \n",
       "97  1075810916                 Tình Hậu Phương  Phương Diễm Hạnh     33855   \n",
       "98  1075810917                 Thu Tím Lá Vàng  Phương Diễm Hạnh     33855   \n",
       "99  1075810918                 Bỏ Phố Lên Rừng  Phương Diễm Hạnh     33855   \n",
       "\n",
       "       composers_name   composers_id         release_time  label  \n",
       "0        Châu Đình An           5765  2017-10-01 22:07:00      7  \n",
       "1           Trường Sa         100105  2017-10-01 20:58:00      3  \n",
       "2            Quốc Bảo           4355  2017-11-01 18:16:00      6  \n",
       "3             Bắc Sơn           7686  2017-11-01 17:36:00      2  \n",
       "4         Lê Minh Kha         100466  2017-11-01 17:49:00      7  \n",
       "..                ...            ...                  ...    ...  \n",
       "95        Phạm Thế Mỹ         100354  2017-10-01 20:36:00      2  \n",
       "96  Lê Dinh, Anh Bằng  100299.100183  2017-10-01 20:36:00      3  \n",
       "97            Minh Kỳ         100134  2017-10-01 20:36:00      4  \n",
       "98           Văn Tùng         102319  2017-10-01 20:36:00      4  \n",
       "99            Châu Kỳ         100139  2017-10-01 20:36:00      4  \n",
       "\n",
       "[100 rows x 8 columns]"
      ]
     },
     "execution_count": 29,
     "metadata": {},
     "output_type": "execute_result"
    }
   ],
   "source": [
    "df_i = pd.read_csv(TRAININFO, delimiter='\\t',encoding='utf-8')\n",
    "df_r = pd.read_csv(TRAINRANK)\n",
    "df_i_test = pd.read_csv(TESTINFO, delimiter='\\t',encoding='utf-8')\n",
    "\n",
    "df = pd_i.merge(df_r, left_on='ID', right_on='ID')\n",
    "df.head(100)"
   ]
  },
  {
   "cell_type": "markdown",
   "metadata": {},
   "source": [
    "# Data exploration\n",
    "Ideas: + Frequency of aritist id and composers id\n",
    "       + range of ranks of song group by artist id and composer id\n",
    "       + Len of the song to label\n",
    "       + hour of release time or month of release time or year\n",
    "       + Type of music based on file name\n",
    "       + Vector text features of name of the song\n",
    "       + Len of name of the song\n",
    "       + Number of artist or composer of the song\n",
    "       + How many song the same type, artit, composer in this period of 6 month\n",
    "       + Rithms of the song, high node on the song, max - min of node on the song"
   ]
  },
  {
   "cell_type": "code",
   "execution_count": 38,
   "metadata": {},
   "outputs": [
    {
     "data": {
      "image/png": "[encoded data removed]",
      "text/plain": [
       "<Figure size 504x504 with 1 Axes>"
      ]
     },
     "metadata": {
      "needs_background": "light"
     },
     "output_type": "display_data"
    }
   ],
   "source": [
    "import seaborn as sns\n",
    "import matplotlib.pyplot as plt\n",
    "%matplotlib inline\n",
    "\n",
    "fig = plt.figure(figsize=(7,7))\n",
    "ax = sns.countplot(x=\"artist_id\", data=df)\n",
    "ax.set_xlim([0,60])\n",
    "plt.show()"
   ]
  },
  {
   "cell_type": "code",
   "execution_count": 39,
   "metadata": {},
   "outputs": [
    {
     "data": {
      "image/png": "[encoded data removed]",
      "text/plain": [
       "<Figure size 504x504 with 1 Axes>"
      ]
     },
     "metadata": {
      "needs_background": "light"
     },
     "output_type": "display_data"
    }
   ],
   "source": [
    "fig = plt.figure(figsize=(7,7))\n",
    "ax = sns.countplot(x=\"composers_id\", data=df)\n",
    "plt.show()"
   ]
  },
  {
   "cell_type": "code",
   "execution_count": null,
   "metadata": {},
   "outputs": [],
   "source": []
  }
 ],
 "metadata": {
  "kernelspec": {
   "display_name": "Python (tf-gpu)",
   "language": "python",
   "name": "tf-gpu"
  },
  "language_info": {
   "codemirror_mode": {
    "name": "ipython",
    "version": 3
   },
   "file_extension": ".py",
   "mimetype": "text/x-python",
   "name": "python",
   "nbconvert_exporter": "python",
   "pygments_lexer": "ipython3",
   "version": "3.6.3"
  }
 },
 "nbformat": 4,
 "nbformat_minor": 2
}
