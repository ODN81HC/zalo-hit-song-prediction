{
  "nbformat": 4,
  "nbformat_minor": 0,
  "metadata": {
    "colab": {
      "name": "Untitled4.ipynb",
      "provenance": [],
      "collapsed_sections": [],
      "machine_shape": "hm"
    },
    "kernelspec": {
      "name": "python3",
      "display_name": "Python 3"
    },
    "accelerator": "GPU"
  },
  "cells": [
    {
      "cell_type": "code",
      "metadata": {
        "id": "Kf7d4NbwGs4r",
        "colab_type": "code",
        "colab": {
          "base_uri": "https://localhost:8080/",
          "height": 34
        },
        "outputId": "4b686af3-0caa-43e7-db63-807f2e690c7a"
      },
      "source": [
        "import pandas as pd\n",
        "import numpy as np\n",
        "import random\n",
        "\n",
        "from google.colab import drive\n",
        "drive.mount('/content/drive')\n",
        "\n",
        "np.random.seed(1)\n",
        "random.seed(1)"
      ],
      "execution_count": 29,
      "outputs": [
        {
          "output_type": "stream",
          "text": [
            "Drive already mounted at /content/drive; to attempt to forcibly remount, call drive.mount(\"/content/drive\", force_remount=True).\n"
          ],
          "name": "stdout"
        }
      ]
    },
    {
      "cell_type": "code",
      "metadata": {
        "id": "yQuxZGJ8G2iR",
        "colab_type": "code",
        "colab": {}
      },
      "source": [
        "TRAININFO = \"/content/drive/My Drive/data/hit_song/train_info.tsv\"\n",
        "TRAINRANK =  \"/content/drive/My Drive/data/hit_song/train_rank.csv\"\n",
        "TESTINFO = \"/content/drive/My Drive/data/hit_song/test_info.tsv\"\n",
        "Track_info = \"/content/drive/My Drive/data/hit_song/all_track_info.csv\"\n",
        "Audio_info = \"/content/drive/My Drive/data/hit_song/all_track_audio_features.csv\""
      ],
      "execution_count": 0,
      "outputs": []
    },
    {
      "cell_type": "code",
      "metadata": {
        "id": "LA6IZh6DG4rE",
        "colab_type": "code",
        "colab": {
          "base_uri": "https://localhost:8080/",
          "height": 204
        },
        "outputId": "6b0b539d-1300-4cae-d860-dfdde3c57461"
      },
      "source": [
        "df_i = pd.read_csv(TRAININFO, delimiter='\\t',encoding='utf-8')\n",
        "df_r = pd.read_csv(TRAINRANK)\n",
        "df_i_train = df_i.merge(df_r, left_on='ID', right_on='ID')\n",
        "df_i_train[\"dataset\"] = \"train\"\n",
        "\n",
        "df_i_test = pd.read_csv(TESTINFO, delimiter='\\t',encoding='utf-8')\n",
        "df_i_test[\"label\"] = np.nan\n",
        "df_i_test[\"dataset\"] = \"test\"\n",
        "\n",
        "df = pd.concat([df_i_train, df_i_test])\n",
        "df_track_info = pd.read_csv(Track_info)\n",
        "df = df.merge(df_track_info, left_on='ID', right_on='ID')\n",
        "df_audio_features = pd.read_csv(Audio_info)\n",
        "df =df.merge(df_audio_features,left_on=\"ID\",right_on=\"ID\", how=\"left\")\n",
        "df = df[['ID','title','artist_name','lyric','label','dataset']]\n",
        "df.head()"
      ],
      "execution_count": 31,
      "outputs": [
        {
          "output_type": "execute_result",
          "data": {
            "text/html": [
              "<div>\n",
              "<style scoped>\n",
              "    .dataframe tbody tr th:only-of-type {\n",
              "        vertical-align: middle;\n",
              "    }\n",
              "\n",
              "    .dataframe tbody tr th {\n",
              "        vertical-align: top;\n",
              "    }\n",
              "\n",
              "    .dataframe thead th {\n",
              "        text-align: right;\n",
              "    }\n",
              "</style>\n",
              "<table border=\"1\" class=\"dataframe\">\n",
              "  <thead>\n",
              "    <tr style=\"text-align: right;\">\n",
              "      <th></th>\n",
              "      <th>ID</th>\n",
              "      <th>title</th>\n",
              "      <th>artist_name</th>\n",
              "      <th>lyric</th>\n",
              "      <th>label</th>\n",
              "      <th>dataset</th>\n",
              "    </tr>\n",
              "  </thead>\n",
              "  <tbody>\n",
              "    <tr>\n",
              "      <th>0</th>\n",
              "      <td>1073748245</td>\n",
              "      <td>Đêm Chôn Dầu Vượt Biển</td>\n",
              "      <td>Như Quỳnh</td>\n",
              "      <td>Đêm nay anh gánh dầu ra biển anh chôn \\r\\nAnh ...</td>\n",
              "      <td>7.0</td>\n",
              "      <td>train</td>\n",
              "    </tr>\n",
              "    <tr>\n",
              "      <th>1</th>\n",
              "      <td>1073751978</td>\n",
              "      <td>Mùa Thu Trong Mưa</td>\n",
              "      <td>Minh Tuyết</td>\n",
              "      <td>Chiều mưa không có em\\r\\nbờ đá công viên âm th...</td>\n",
              "      <td>3.0</td>\n",
              "      <td>train</td>\n",
              "    </tr>\n",
              "    <tr>\n",
              "      <th>2</th>\n",
              "      <td>1073835561</td>\n",
              "      <td>Rồi Ánh Trăng Tan</td>\n",
              "      <td>Lưu Bích</td>\n",
              "      <td>Rồi ánh trăng cũng đang tan dần\\r\\nRồi ước mơ ...</td>\n",
              "      <td>6.0</td>\n",
              "      <td>train</td>\n",
              "    </tr>\n",
              "    <tr>\n",
              "      <th>3</th>\n",
              "      <td>1073856553</td>\n",
              "      <td>Còn Thương Rau Đắng Mọc Sau Hè</td>\n",
              "      <td>Như Quỳnh</td>\n",
              "      <td>Nắng hạ đi Mây trôi lang thang cho hạ buồn Coi...</td>\n",
              "      <td>2.0</td>\n",
              "      <td>train</td>\n",
              "    </tr>\n",
              "    <tr>\n",
              "      <th>4</th>\n",
              "      <td>1073929630</td>\n",
              "      <td>Người Điên Biết Yêu</td>\n",
              "      <td>Như Loan</td>\n",
              "      <td>Ai trong tình yêu, ai không mơ mộng?\\n\\nNgu ng...</td>\n",
              "      <td>7.0</td>\n",
              "      <td>train</td>\n",
              "    </tr>\n",
              "  </tbody>\n",
              "</table>\n",
              "</div>"
            ],
            "text/plain": [
              "           ID                           title  ... label dataset\n",
              "0  1073748245          Đêm Chôn Dầu Vượt Biển  ...   7.0   train\n",
              "1  1073751978               Mùa Thu Trong Mưa  ...   3.0   train\n",
              "2  1073835561               Rồi Ánh Trăng Tan  ...   6.0   train\n",
              "3  1073856553  Còn Thương Rau Đắng Mọc Sau Hè  ...   2.0   train\n",
              "4  1073929630             Người Điên Biết Yêu  ...   7.0   train\n",
              "\n",
              "[5 rows x 6 columns]"
            ]
          },
          "metadata": {
            "tags": []
          },
          "execution_count": 31
        }
      ]
    },
    {
      "cell_type": "code",
      "metadata": {
        "id": "dFo5mvYsZEy5",
        "colab_type": "code",
        "colab": {
          "base_uri": "https://localhost:8080/",
          "height": 204
        },
        "outputId": "0c83b4b9-a614-45b8-b876-939f1320410a"
      },
      "source": [
        "import re\n",
        "\n",
        "df.drop([6707,6718,7426], inplace=True)\n",
        "df.lyric.fillna(\"\", inplace=True)\n",
        "def cleanString(string):\n",
        "  return re.sub('\\W+',' ', string )\n",
        "df.lyric = df.lyric.apply(lambda x: cleanString(x))\n",
        "df.lyric = df.lyric.apply(lambda x: x.lower())\n",
        "df.head()"
      ],
      "execution_count": 32,
      "outputs": [
        {
          "output_type": "execute_result",
          "data": {
            "text/html": [
              "<div>\n",
              "<style scoped>\n",
              "    .dataframe tbody tr th:only-of-type {\n",
              "        vertical-align: middle;\n",
              "    }\n",
              "\n",
              "    .dataframe tbody tr th {\n",
              "        vertical-align: top;\n",
              "    }\n",
              "\n",
              "    .dataframe thead th {\n",
              "        text-align: right;\n",
              "    }\n",
              "</style>\n",
              "<table border=\"1\" class=\"dataframe\">\n",
              "  <thead>\n",
              "    <tr style=\"text-align: right;\">\n",
              "      <th></th>\n",
              "      <th>ID</th>\n",
              "      <th>title</th>\n",
              "      <th>artist_name</th>\n",
              "      <th>lyric</th>\n",
              "      <th>label</th>\n",
              "      <th>dataset</th>\n",
              "    </tr>\n",
              "  </thead>\n",
              "  <tbody>\n",
              "    <tr>\n",
              "      <th>0</th>\n",
              "      <td>1073748245</td>\n",
              "      <td>Đêm Chôn Dầu Vượt Biển</td>\n",
              "      <td>Như Quỳnh</td>\n",
              "      <td>đêm nay anh gánh dầu ra biển anh chôn anh chôn...</td>\n",
              "      <td>7.0</td>\n",
              "      <td>train</td>\n",
              "    </tr>\n",
              "    <tr>\n",
              "      <th>1</th>\n",
              "      <td>1073751978</td>\n",
              "      <td>Mùa Thu Trong Mưa</td>\n",
              "      <td>Minh Tuyết</td>\n",
              "      <td>chiều mưa không có em bờ đá công viên âm thầm ...</td>\n",
              "      <td>3.0</td>\n",
              "      <td>train</td>\n",
              "    </tr>\n",
              "    <tr>\n",
              "      <th>2</th>\n",
              "      <td>1073835561</td>\n",
              "      <td>Rồi Ánh Trăng Tan</td>\n",
              "      <td>Lưu Bích</td>\n",
              "      <td>rồi ánh trăng cũng đang tan dần rồi ước mơ cũn...</td>\n",
              "      <td>6.0</td>\n",
              "      <td>train</td>\n",
              "    </tr>\n",
              "    <tr>\n",
              "      <th>3</th>\n",
              "      <td>1073856553</td>\n",
              "      <td>Còn Thương Rau Đắng Mọc Sau Hè</td>\n",
              "      <td>Như Quỳnh</td>\n",
              "      <td>nắng hạ đi mây trôi lang thang cho hạ buồn coi...</td>\n",
              "      <td>2.0</td>\n",
              "      <td>train</td>\n",
              "    </tr>\n",
              "    <tr>\n",
              "      <th>4</th>\n",
              "      <td>1073929630</td>\n",
              "      <td>Người Điên Biết Yêu</td>\n",
              "      <td>Như Loan</td>\n",
              "      <td>ai trong tình yêu ai không mơ mộng ngu ngơ từn...</td>\n",
              "      <td>7.0</td>\n",
              "      <td>train</td>\n",
              "    </tr>\n",
              "  </tbody>\n",
              "</table>\n",
              "</div>"
            ],
            "text/plain": [
              "           ID                           title  ... label dataset\n",
              "0  1073748245          Đêm Chôn Dầu Vượt Biển  ...   7.0   train\n",
              "1  1073751978               Mùa Thu Trong Mưa  ...   3.0   train\n",
              "2  1073835561               Rồi Ánh Trăng Tan  ...   6.0   train\n",
              "3  1073856553  Còn Thương Rau Đắng Mọc Sau Hè  ...   2.0   train\n",
              "4  1073929630             Người Điên Biết Yêu  ...   7.0   train\n",
              "\n",
              "[5 rows x 6 columns]"
            ]
          },
          "metadata": {
            "tags": []
          },
          "execution_count": 32
        }
      ]
    },
    {
      "cell_type": "code",
      "metadata": {
        "id": "wzzxIYPGZYSw",
        "colab_type": "code",
        "colab": {
          "base_uri": "https://localhost:8080/",
          "height": 204
        },
        "outputId": "7eb394dd-052b-4819-c3ad-6490d041605e"
      },
      "source": [
        "def artist_func(string):\n",
        "  return ''.join(string.split(' '))+ \"_\"\n",
        "df['artist_name'] = df['artist_name'].apply(lambda x: artist_func(x))\n",
        "df['lyric'] = df['artist_name'] + df['lyric']\n",
        "df.head()"
      ],
      "execution_count": 33,
      "outputs": [
        {
          "output_type": "execute_result",
          "data": {
            "text/html": [
              "<div>\n",
              "<style scoped>\n",
              "    .dataframe tbody tr th:only-of-type {\n",
              "        vertical-align: middle;\n",
              "    }\n",
              "\n",
              "    .dataframe tbody tr th {\n",
              "        vertical-align: top;\n",
              "    }\n",
              "\n",
              "    .dataframe thead th {\n",
              "        text-align: right;\n",
              "    }\n",
              "</style>\n",
              "<table border=\"1\" class=\"dataframe\">\n",
              "  <thead>\n",
              "    <tr style=\"text-align: right;\">\n",
              "      <th></th>\n",
              "      <th>ID</th>\n",
              "      <th>title</th>\n",
              "      <th>artist_name</th>\n",
              "      <th>lyric</th>\n",
              "      <th>label</th>\n",
              "      <th>dataset</th>\n",
              "    </tr>\n",
              "  </thead>\n",
              "  <tbody>\n",
              "    <tr>\n",
              "      <th>0</th>\n",
              "      <td>1073748245</td>\n",
              "      <td>Đêm Chôn Dầu Vượt Biển</td>\n",
              "      <td>NhưQuỳnh_</td>\n",
              "      <td>NhưQuỳnh_đêm nay anh gánh dầu ra biển anh chôn...</td>\n",
              "      <td>7.0</td>\n",
              "      <td>train</td>\n",
              "    </tr>\n",
              "    <tr>\n",
              "      <th>1</th>\n",
              "      <td>1073751978</td>\n",
              "      <td>Mùa Thu Trong Mưa</td>\n",
              "      <td>MinhTuyết_</td>\n",
              "      <td>MinhTuyết_chiều mưa không có em bờ đá công viê...</td>\n",
              "      <td>3.0</td>\n",
              "      <td>train</td>\n",
              "    </tr>\n",
              "    <tr>\n",
              "      <th>2</th>\n",
              "      <td>1073835561</td>\n",
              "      <td>Rồi Ánh Trăng Tan</td>\n",
              "      <td>LưuBích_</td>\n",
              "      <td>LưuBích_rồi ánh trăng cũng đang tan dần rồi ướ...</td>\n",
              "      <td>6.0</td>\n",
              "      <td>train</td>\n",
              "    </tr>\n",
              "    <tr>\n",
              "      <th>3</th>\n",
              "      <td>1073856553</td>\n",
              "      <td>Còn Thương Rau Đắng Mọc Sau Hè</td>\n",
              "      <td>NhưQuỳnh_</td>\n",
              "      <td>NhưQuỳnh_nắng hạ đi mây trôi lang thang cho hạ...</td>\n",
              "      <td>2.0</td>\n",
              "      <td>train</td>\n",
              "    </tr>\n",
              "    <tr>\n",
              "      <th>4</th>\n",
              "      <td>1073929630</td>\n",
              "      <td>Người Điên Biết Yêu</td>\n",
              "      <td>NhưLoan_</td>\n",
              "      <td>NhưLoan_ai trong tình yêu ai không mơ mộng ngu...</td>\n",
              "      <td>7.0</td>\n",
              "      <td>train</td>\n",
              "    </tr>\n",
              "  </tbody>\n",
              "</table>\n",
              "</div>"
            ],
            "text/plain": [
              "           ID                           title  ... label dataset\n",
              "0  1073748245          Đêm Chôn Dầu Vượt Biển  ...   7.0   train\n",
              "1  1073751978               Mùa Thu Trong Mưa  ...   3.0   train\n",
              "2  1073835561               Rồi Ánh Trăng Tan  ...   6.0   train\n",
              "3  1073856553  Còn Thương Rau Đắng Mọc Sau Hè  ...   2.0   train\n",
              "4  1073929630             Người Điên Biết Yêu  ...   7.0   train\n",
              "\n",
              "[5 rows x 6 columns]"
            ]
          },
          "metadata": {
            "tags": []
          },
          "execution_count": 33
        }
      ]
    },
    {
      "cell_type": "code",
      "metadata": {
        "id": "quhwU2HsbzFA",
        "colab_type": "code",
        "colab": {
          "base_uri": "https://localhost:8080/",
          "height": 204
        },
        "outputId": "73a188ca-5cec-40da-beb4-61b8e8ab33a8"
      },
      "source": [
        "def personalized(string):\n",
        "  lst = string.split('_')[1].split(\" \")\n",
        "  for i in range(0,len(lst)):\n",
        "    lst[i] = string.split(\"_\")[0]+\"_\"+lst[i]\n",
        "  return \" \".join(lst)\n",
        "df['lyric'] = df['lyric'].apply(lambda x: personalized(x))\n",
        "df.head()"
      ],
      "execution_count": 34,
      "outputs": [
        {
          "output_type": "execute_result",
          "data": {
            "text/html": [
              "<div>\n",
              "<style scoped>\n",
              "    .dataframe tbody tr th:only-of-type {\n",
              "        vertical-align: middle;\n",
              "    }\n",
              "\n",
              "    .dataframe tbody tr th {\n",
              "        vertical-align: top;\n",
              "    }\n",
              "\n",
              "    .dataframe thead th {\n",
              "        text-align: right;\n",
              "    }\n",
              "</style>\n",
              "<table border=\"1\" class=\"dataframe\">\n",
              "  <thead>\n",
              "    <tr style=\"text-align: right;\">\n",
              "      <th></th>\n",
              "      <th>ID</th>\n",
              "      <th>title</th>\n",
              "      <th>artist_name</th>\n",
              "      <th>lyric</th>\n",
              "      <th>label</th>\n",
              "      <th>dataset</th>\n",
              "    </tr>\n",
              "  </thead>\n",
              "  <tbody>\n",
              "    <tr>\n",
              "      <th>0</th>\n",
              "      <td>1073748245</td>\n",
              "      <td>Đêm Chôn Dầu Vượt Biển</td>\n",
              "      <td>NhưQuỳnh_</td>\n",
              "      <td>NhưQuỳnh_đêm NhưQuỳnh_nay NhưQuỳnh_anh NhưQuỳn...</td>\n",
              "      <td>7.0</td>\n",
              "      <td>train</td>\n",
              "    </tr>\n",
              "    <tr>\n",
              "      <th>1</th>\n",
              "      <td>1073751978</td>\n",
              "      <td>Mùa Thu Trong Mưa</td>\n",
              "      <td>MinhTuyết_</td>\n",
              "      <td>MinhTuyết_chiều MinhTuyết_mưa MinhTuyết_không ...</td>\n",
              "      <td>3.0</td>\n",
              "      <td>train</td>\n",
              "    </tr>\n",
              "    <tr>\n",
              "      <th>2</th>\n",
              "      <td>1073835561</td>\n",
              "      <td>Rồi Ánh Trăng Tan</td>\n",
              "      <td>LưuBích_</td>\n",
              "      <td>LưuBích_rồi LưuBích_ánh LưuBích_trăng LưuBích_...</td>\n",
              "      <td>6.0</td>\n",
              "      <td>train</td>\n",
              "    </tr>\n",
              "    <tr>\n",
              "      <th>3</th>\n",
              "      <td>1073856553</td>\n",
              "      <td>Còn Thương Rau Đắng Mọc Sau Hè</td>\n",
              "      <td>NhưQuỳnh_</td>\n",
              "      <td>NhưQuỳnh_nắng NhưQuỳnh_hạ NhưQuỳnh_đi NhưQuỳnh...</td>\n",
              "      <td>2.0</td>\n",
              "      <td>train</td>\n",
              "    </tr>\n",
              "    <tr>\n",
              "      <th>4</th>\n",
              "      <td>1073929630</td>\n",
              "      <td>Người Điên Biết Yêu</td>\n",
              "      <td>NhưLoan_</td>\n",
              "      <td>NhưLoan_ai NhưLoan_trong NhưLoan_tình NhưLoan_...</td>\n",
              "      <td>7.0</td>\n",
              "      <td>train</td>\n",
              "    </tr>\n",
              "  </tbody>\n",
              "</table>\n",
              "</div>"
            ],
            "text/plain": [
              "           ID                           title  ... label dataset\n",
              "0  1073748245          Đêm Chôn Dầu Vượt Biển  ...   7.0   train\n",
              "1  1073751978               Mùa Thu Trong Mưa  ...   3.0   train\n",
              "2  1073835561               Rồi Ánh Trăng Tan  ...   6.0   train\n",
              "3  1073856553  Còn Thương Rau Đắng Mọc Sau Hè  ...   2.0   train\n",
              "4  1073929630             Người Điên Biết Yêu  ...   7.0   train\n",
              "\n",
              "[5 rows x 6 columns]"
            ]
          },
          "metadata": {
            "tags": []
          },
          "execution_count": 34
        }
      ]
    },
    {
      "cell_type": "code",
      "metadata": {
        "id": "VZmhdBuLHZFI",
        "colab_type": "code",
        "colab": {
          "base_uri": "https://localhost:8080/",
          "height": 136
        },
        "outputId": "cedb1435-8176-40b4-9c33-0737640a66db"
      },
      "source": [
        "df_train=df[df.dataset=='train']\n",
        "print(df_train.shape)\n",
        "df_train.drop_duplicates(subset='lyric', keep='first',inplace=True)\n",
        "print(df_train.shape)"
      ],
      "execution_count": 35,
      "outputs": [
        {
          "output_type": "stream",
          "text": [
            "(9075, 6)\n",
            "(4599, 6)\n"
          ],
          "name": "stdout"
        },
        {
          "output_type": "stream",
          "text": [
            "/usr/local/lib/python3.6/dist-packages/ipykernel_launcher.py:3: SettingWithCopyWarning: \n",
            "A value is trying to be set on a copy of a slice from a DataFrame\n",
            "\n",
            "See the caveats in the documentation: http://pandas.pydata.org/pandas-docs/stable/user_guide/indexing.html#returning-a-view-versus-a-copy\n",
            "  This is separate from the ipykernel package so we can avoid doing imports until\n"
          ],
          "name": "stderr"
        }
      ]
    },
    {
      "cell_type": "code",
      "metadata": {
        "id": "9Q46ysalioQq",
        "colab_type": "code",
        "colab": {}
      },
      "source": [
        "from sklearn.feature_extraction.text import HashingVectorizer\n",
        "vectorizer = HashingVectorizer(n_features=2**19)\n"
      ],
      "execution_count": 0,
      "outputs": []
    },
    {
      "cell_type": "code",
      "metadata": {
        "id": "2RedEnIXkgC9",
        "colab_type": "code",
        "colab": {
          "base_uri": "https://localhost:8080/",
          "height": 34
        },
        "outputId": "d1e28e97-b7f3-4783-f2c8-b0399550f6e7"
      },
      "source": [
        "from sklearn.metrics import mean_squared_error as mse\n",
        "from sklearn.model_selection import StratifiedKFold\n",
        "from sklearn.naive_bayes import GaussianNB\n",
        "from sklearn.naive_bayes import MultinomialNB\n",
        "\n",
        "folds = StratifiedKFold(n_splits=5, shuffle=True, random_state=99999)\n",
        "oof = np.zeros(len(df_train))\n",
        "labels= df_train.label\n",
        "\n",
        "for fold_, (trn_idx, val_idx) in enumerate(folds.split(df_train.values, df_train.label.values)):\n",
        "  print(\"Fold {}\".format(fold_))\n",
        "  train_x, train_y = df_train['lyric'].iloc[trn_idx], df_train['label'].iloc[trn_idx]\n",
        "  valid_x, valid_y = df_train['lyric'].iloc[val_idx], df_train['label'].iloc[val_idx]\n",
        "  train_x = vectorizer.fit_transform(train_x).todense()\n",
        "  valid_x = vectorizer.fit_transform(valid_x).todense()\n",
        "  # clf = GaussianNB()\n",
        "  clf = MultinomialNB()\n",
        "  clf.fit(train_x, train_y)\n",
        "  oof[val_idx] = clf.predict(valid_x)\n",
        "  print(\"rmse_train: \"+str(np.sqrt(mse(clf.predict(train_x), train_y))))\n",
        "  print(\"rmse_val: \"+str(np.sqrt(mse(oof[val_idx], valid_y))))"
      ],
      "execution_count": 0,
      "outputs": [
        {
          "output_type": "stream",
          "text": [
            "Fold 0\n"
          ],
          "name": "stdout"
        }
      ]
    },
    {
      "cell_type": "code",
      "metadata": {
        "id": "w2YQJ84KHkYB",
        "colab_type": "code",
        "colab": {}
      },
      "source": [
        "# import pandas as pd\n",
        "# from sklearn.feature_extraction.text import TfidfVectorizer\n",
        "\n",
        "# vectorizer = TfidfVectorizer()\n",
        "# vectors = vectorizer.fit_transform(df_train.lyric)\n",
        "# feature_names = vectorizer.get_feature_names()\n",
        "# dense = vectors.todense()\n",
        "# denselist = dense.tolist()\n",
        "# df_train_new = pd.DataFrame(denselist, columns=feature_names)\n",
        "# df_train_new.head()"
      ],
      "execution_count": 0,
      "outputs": []
    }
  ]
}