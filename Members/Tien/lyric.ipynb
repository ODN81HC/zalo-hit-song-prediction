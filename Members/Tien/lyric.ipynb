{
 "cells": [
  {
   "cell_type": "code",
   "execution_count": 58,
   "metadata": {
    "collapsed": true
   },
   "outputs": [],
   "source": [
    "import pandas as pd\n",
    "import numpy as np\n",
    "import random\n",
    "\n",
    "np.random.seed(1)\n",
    "random.seed(1)"
   ]
  },
  {
   "cell_type": "code",
   "execution_count": 59,
   "metadata": {
    "collapsed": true
   },
   "outputs": [],
   "source": [
    "TRAININFO = \"data/train_info.tsv\"\n",
    "TRAINRANK =  \"data/train_rank.csv\"\n",
    "TESTINFO = \"data/test_info.tsv\"\n",
    "Track_info = \"data/all_track_info.csv\"\n",
    "Audio_info = \"data/all_track_audio_features.csv\""
   ]
  },
  {
   "cell_type": "code",
   "execution_count": 60,
   "metadata": {},
   "outputs": [
    {
     "data": {
      "text/html": [
       "<div>\n",
       "<style scoped>\n",
       "    .dataframe tbody tr th:only-of-type {\n",
       "        vertical-align: middle;\n",
       "    }\n",
       "\n",
       "    .dataframe tbody tr th {\n",
       "        vertical-align: top;\n",
       "    }\n",
       "\n",
       "    .dataframe thead th {\n",
       "        text-align: right;\n",
       "    }\n",
       "</style>\n",
       "<table border=\"1\" class=\"dataframe\">\n",
       "  <thead>\n",
       "    <tr style=\"text-align: right;\">\n",
       "      <th></th>\n",
       "      <th>ID</th>\n",
       "      <th>title</th>\n",
       "      <th>artist_name</th>\n",
       "      <th>lyric</th>\n",
       "      <th>label</th>\n",
       "      <th>dataset</th>\n",
       "    </tr>\n",
       "  </thead>\n",
       "  <tbody>\n",
       "    <tr>\n",
       "      <th>0</th>\n",
       "      <td>1073748245</td>\n",
       "      <td>Đêm Chôn Dầu Vượt Biển</td>\n",
       "      <td>Như Quỳnh</td>\n",
       "      <td>Đêm nay anh gánh dầu ra biển anh chôn \\r\\nAnh ...</td>\n",
       "      <td>7.0</td>\n",
       "      <td>train</td>\n",
       "    </tr>\n",
       "    <tr>\n",
       "      <th>1</th>\n",
       "      <td>1073751978</td>\n",
       "      <td>Mùa Thu Trong Mưa</td>\n",
       "      <td>Minh Tuyết</td>\n",
       "      <td>Chiều mưa không có em\\r\\nbờ đá công viên âm th...</td>\n",
       "      <td>3.0</td>\n",
       "      <td>train</td>\n",
       "    </tr>\n",
       "    <tr>\n",
       "      <th>2</th>\n",
       "      <td>1073835561</td>\n",
       "      <td>Rồi Ánh Trăng Tan</td>\n",
       "      <td>Lưu Bích</td>\n",
       "      <td>Rồi ánh trăng cũng đang tan dần\\r\\nRồi ước mơ ...</td>\n",
       "      <td>6.0</td>\n",
       "      <td>train</td>\n",
       "    </tr>\n",
       "    <tr>\n",
       "      <th>3</th>\n",
       "      <td>1073856553</td>\n",
       "      <td>Còn Thương Rau Đắng Mọc Sau Hè</td>\n",
       "      <td>Như Quỳnh</td>\n",
       "      <td>Nắng hạ đi Mây trôi lang thang cho hạ buồn Coi...</td>\n",
       "      <td>2.0</td>\n",
       "      <td>train</td>\n",
       "    </tr>\n",
       "    <tr>\n",
       "      <th>4</th>\n",
       "      <td>1073929630</td>\n",
       "      <td>Người Điên Biết Yêu</td>\n",
       "      <td>Như Loan</td>\n",
       "      <td>Ai trong tình yêu, ai không mơ mộng?\\n\\nNgu ng...</td>\n",
       "      <td>7.0</td>\n",
       "      <td>train</td>\n",
       "    </tr>\n",
       "  </tbody>\n",
       "</table>\n",
       "</div>"
      ],
      "text/plain": [
       "           ID                           title artist_name  \\\n",
       "0  1073748245          Đêm Chôn Dầu Vượt Biển   Như Quỳnh   \n",
       "1  1073751978               Mùa Thu Trong Mưa  Minh Tuyết   \n",
       "2  1073835561               Rồi Ánh Trăng Tan    Lưu Bích   \n",
       "3  1073856553  Còn Thương Rau Đắng Mọc Sau Hè   Như Quỳnh   \n",
       "4  1073929630             Người Điên Biết Yêu    Như Loan   \n",
       "\n",
       "                                               lyric  label dataset  \n",
       "0  Đêm nay anh gánh dầu ra biển anh chôn \\r\\nAnh ...    7.0   train  \n",
       "1  Chiều mưa không có em\\r\\nbờ đá công viên âm th...    3.0   train  \n",
       "2  Rồi ánh trăng cũng đang tan dần\\r\\nRồi ước mơ ...    6.0   train  \n",
       "3  Nắng hạ đi Mây trôi lang thang cho hạ buồn Coi...    2.0   train  \n",
       "4  Ai trong tình yêu, ai không mơ mộng?\\n\\nNgu ng...    7.0   train  "
      ]
     },
     "execution_count": 60,
     "metadata": {},
     "output_type": "execute_result"
    }
   ],
   "source": [
    "df_i = pd.read_csv(TRAININFO, delimiter='\\t',encoding='utf-8')\n",
    "df_r = pd.read_csv(TRAINRANK)\n",
    "df_i_train = df_i.merge(df_r, left_on='ID', right_on='ID')\n",
    "df_i_train[\"dataset\"] = \"train\"\n",
    "\n",
    "df_i_test = pd.read_csv(TESTINFO, delimiter='\\t',encoding='utf-8')\n",
    "df_i_test[\"label\"] = np.nan\n",
    "df_i_test[\"dataset\"] = \"test\"\n",
    "\n",
    "df = pd.concat([df_i_train, df_i_test])\n",
    "df_track_info = pd.read_csv(Track_info)\n",
    "df = df.merge(df_track_info, left_on='ID', right_on='ID')\n",
    "df_audio_features = pd.read_csv(Audio_info)\n",
    "df =df.merge(df_audio_features,left_on=\"ID\",right_on=\"ID\", how=\"left\")\n",
    "df = df[['ID','title','artist_name','lyric','label','dataset']]\n",
    "df.head()"
   ]
  },
  {
   "cell_type": "code",
   "execution_count": 61,
   "metadata": {},
   "outputs": [
    {
     "name": "stdout",
     "output_type": "stream",
     "text": [
      "(9069, 6)\n",
      "(4594, 6)\n"
     ]
    },
    {
     "name": "stderr",
     "output_type": "stream",
     "text": [
      "/usr/lib64/python3.6/site-packages/ipykernel_launcher.py:24: SettingWithCopyWarning: \n",
      "A value is trying to be set on a copy of a slice from a DataFrame\n",
      "\n",
      "See the caveats in the documentation: http://pandas.pydata.org/pandas-docs/stable/indexing.html#indexing-view-versus-copy\n"
     ]
    },
    {
     "data": {
      "text/html": [
       "<div>\n",
       "<style scoped>\n",
       "    .dataframe tbody tr th:only-of-type {\n",
       "        vertical-align: middle;\n",
       "    }\n",
       "\n",
       "    .dataframe tbody tr th {\n",
       "        vertical-align: top;\n",
       "    }\n",
       "\n",
       "    .dataframe thead th {\n",
       "        text-align: right;\n",
       "    }\n",
       "</style>\n",
       "<table border=\"1\" class=\"dataframe\">\n",
       "  <thead>\n",
       "    <tr style=\"text-align: right;\">\n",
       "      <th></th>\n",
       "      <th>ID</th>\n",
       "      <th>title</th>\n",
       "      <th>artist_name</th>\n",
       "      <th>lyric</th>\n",
       "      <th>label</th>\n",
       "      <th>dataset</th>\n",
       "    </tr>\n",
       "  </thead>\n",
       "  <tbody>\n",
       "    <tr>\n",
       "      <th>0</th>\n",
       "      <td>1073748245</td>\n",
       "      <td>Đêm Chôn Dầu Vượt Biển</td>\n",
       "      <td>NhưQuỳnh_</td>\n",
       "      <td>NhưQuỳnh_đêm NhưQuỳnh_nay NhưQuỳnh_anh NhưQuỳn...</td>\n",
       "      <td>7.0</td>\n",
       "      <td>train</td>\n",
       "    </tr>\n",
       "    <tr>\n",
       "      <th>1</th>\n",
       "      <td>1073751978</td>\n",
       "      <td>Mùa Thu Trong Mưa</td>\n",
       "      <td>MinhTuyết_</td>\n",
       "      <td>MinhTuyết_chiều MinhTuyết_mưa MinhTuyết_không ...</td>\n",
       "      <td>3.0</td>\n",
       "      <td>train</td>\n",
       "    </tr>\n",
       "    <tr>\n",
       "      <th>2</th>\n",
       "      <td>1073835561</td>\n",
       "      <td>Rồi Ánh Trăng Tan</td>\n",
       "      <td>LưuBích_</td>\n",
       "      <td>LưuBích_rồi LưuBích_ánh LưuBích_trăng LưuBích_...</td>\n",
       "      <td>6.0</td>\n",
       "      <td>train</td>\n",
       "    </tr>\n",
       "    <tr>\n",
       "      <th>3</th>\n",
       "      <td>1073856553</td>\n",
       "      <td>Còn Thương Rau Đắng Mọc Sau Hè</td>\n",
       "      <td>NhưQuỳnh_</td>\n",
       "      <td>NhưQuỳnh_nắng NhưQuỳnh_hạ NhưQuỳnh_đi NhưQuỳnh...</td>\n",
       "      <td>2.0</td>\n",
       "      <td>train</td>\n",
       "    </tr>\n",
       "    <tr>\n",
       "      <th>4</th>\n",
       "      <td>1073929630</td>\n",
       "      <td>Người Điên Biết Yêu</td>\n",
       "      <td>NhưLoan_</td>\n",
       "      <td>NhưLoan_ai NhưLoan_trong NhưLoan_tình NhưLoan_...</td>\n",
       "      <td>7.0</td>\n",
       "      <td>train</td>\n",
       "    </tr>\n",
       "  </tbody>\n",
       "</table>\n",
       "</div>"
      ],
      "text/plain": [
       "           ID                           title artist_name  \\\n",
       "0  1073748245          Đêm Chôn Dầu Vượt Biển   NhưQuỳnh_   \n",
       "1  1073751978               Mùa Thu Trong Mưa  MinhTuyết_   \n",
       "2  1073835561               Rồi Ánh Trăng Tan    LưuBích_   \n",
       "3  1073856553  Còn Thương Rau Đắng Mọc Sau Hè   NhưQuỳnh_   \n",
       "4  1073929630             Người Điên Biết Yêu    NhưLoan_   \n",
       "\n",
       "                                               lyric  label dataset  \n",
       "0  NhưQuỳnh_đêm NhưQuỳnh_nay NhưQuỳnh_anh NhưQuỳn...    7.0   train  \n",
       "1  MinhTuyết_chiều MinhTuyết_mưa MinhTuyết_không ...    3.0   train  \n",
       "2  LưuBích_rồi LưuBích_ánh LưuBích_trăng LưuBích_...    6.0   train  \n",
       "3  NhưQuỳnh_nắng NhưQuỳnh_hạ NhưQuỳnh_đi NhưQuỳnh...    2.0   train  \n",
       "4  NhưLoan_ai NhưLoan_trong NhưLoan_tình NhưLoan_...    7.0   train  "
      ]
     },
     "execution_count": 61,
     "metadata": {},
     "output_type": "execute_result"
    }
   ],
   "source": [
    "import re\n",
    "\n",
    "df.drop([6707,6718,7426,7362,8499,8500,7360,7361,7214], inplace=True)\n",
    "df.lyric.fillna(\"\", inplace=True)\n",
    "def cleanString(string):\n",
    "  return re.sub('\\W+',' ', string )\n",
    "df.lyric = df.lyric.apply(lambda x: cleanString(x))\n",
    "df.lyric = df.lyric.apply(lambda x: x.lower())\n",
    "\n",
    "def artist_func(string):\n",
    "  return ''.join(string.split(' '))+ \"_\"\n",
    "df['artist_name'] = df['artist_name'].apply(lambda x: artist_func(x))\n",
    "df['lyric'] = df['artist_name'] + df['lyric']\n",
    "\n",
    "def personalized(string):\n",
    "  lst = string.split('_')[1].split(\" \")\n",
    "  for i in range(0,len(lst)):\n",
    "    lst[i] = string.split(\"_\")[0]+\"_\"+lst[i]\n",
    "  return \" \".join(lst)\n",
    "df['lyric'] = df['lyric'].apply(lambda x: personalized(x))\n",
    "\n",
    "df_train=df[df.dataset=='train']\n",
    "print(df_train.shape)\n",
    "df_train.drop_duplicates(subset='lyric', keep='first',inplace=True)\n",
    "print(df_train.shape)\n",
    "df_train.head()"
   ]
  },
  {
   "cell_type": "code",
   "execution_count": 62,
   "metadata": {
    "collapsed": true
   },
   "outputs": [],
   "source": [
    "from sklearn.metrics import mean_squared_error as mse\n",
    "from sklearn.model_selection import GridSearchCV, StratifiedKFold, train_test_split\n",
    "from sklearn.naive_bayes import GaussianNB\n",
    "from sklearn.naive_bayes import MultinomialNB\n",
    "from sklearn.feature_extraction.text import TfidfVectorizer\n",
    "from sklearn.feature_extraction.text import HashingVectorizer\n",
    "\n",
    "# def ex_features(train_set,hash=False):\n",
    "#     if hash:\n",
    "#         vectorizer = HashingVectorizer(non_negative=True, n_features = 2**9)\n",
    "#     else:\n",
    "#         vectorizer = TfidfVectorizer()\n",
    "#     vectors = vectorizer.fit_transform(train_set.lyric)\n",
    "#     dense = vectors.todense()\n",
    "#     skf = StratifiedKFold(n_splits=5, random_state=99999)\n",
    "#     params = {}\n",
    "# # denselist = dense.tolist()\n",
    "# # X_train = pd.DataFrame(denselist, columns=feature_names)\n",
    "#     nb = MultinomialNB()\n",
    "#     gs = GridSearchCV(nb, cv=skf, param_grid=params, scoring='mean_squared_error')\n",
    "#     gs.fit(dense, train_set.label)\n",
    "#     return np.sqrt(mse(gs.predict(dense), train_set.label))"
   ]
  },
  {
   "cell_type": "code",
   "execution_count": 65,
   "metadata": {},
   "outputs": [
    {
     "name": "stderr",
     "output_type": "stream",
     "text": [
      "/usr/lib64/python3.6/site-packages/sklearn/feature_extraction/text.py:1089: FutureWarning: Conversion of the second argument of issubdtype from `float` to `np.floating` is deprecated. In future, it will be treated as `np.float64 == np.dtype(float).type`.\n",
      "  if hasattr(X, 'dtype') and np.issubdtype(X.dtype, np.float):\n"
     ]
    },
    {
     "name": "stdout",
     "output_type": "stream",
     "text": [
      "{'mean_fit_time': array([5.06885529]), 'std_fit_time': array([1.59133743]), 'mean_score_time': array([2.08281956]), 'std_score_time': array([0.08474047]), 'params': [{}], 'split0_test_score': array([-24.54821235]), 'split1_test_score': array([-21.15635179]), 'split2_test_score': array([-18.0785169]), 'split3_test_score': array([-16.21592148]), 'split4_test_score': array([-20.53930131]), 'mean_test_score': array([-20.11427949]), 'std_test_score': array([2.83978414]), 'rank_test_score': array([1], dtype=int32), 'split0_train_score': array([-1.4083356]), 'split1_train_score': array([-1.3299755]), 'split2_train_score': array([-1.03725863]), 'split3_train_score': array([-0.99211314]), 'split4_train_score': array([-0.99537792]), 'mean_train_score': array([-1.15261216]), 'std_train_score': array([0.17924353])}\n",
      "best score: 4.484894591291246\n"
     ]
    }
   ],
   "source": [
    "vectorizer = TfidfVectorizer()\n",
    "vectors = vectorizer.fit_transform(df_train.lyric)\n",
    "dense = vectors.todense()\n",
    "skf = StratifiedKFold(n_splits=5, random_state=99999)\n",
    "params = {}\n",
    "# denselist = dense.tolist()\n",
    "# X_train = pd.DataFrame(denselist, columns=feature_names)\n",
    "nb = MultinomialNB()\n",
    "gs = GridSearchCV(nb, cv=skf, param_grid=params, scoring='neg_mean_squared_error',return_train_score=True)\n",
    "gs.fit(dense, df_train.label)\n",
    "print(gs.cv_results_)\n",
    "print(\"best score: \"+str(np.sqrt(-(gs.best_score_))))"
   ]
  },
  {
   "cell_type": "code",
   "execution_count": 66,
   "metadata": {},
   "outputs": [
    {
     "name": "stderr",
     "output_type": "stream",
     "text": [
      "/usr/lib64/python3.6/site-packages/sklearn/feature_extraction/hashing.py:94: DeprecationWarning: the option non_negative=True has been deprecated in 0.19 and will be removed in version 0.21.\n",
      "  \" in version 0.21.\", DeprecationWarning)\n",
      "/usr/lib64/python3.6/site-packages/sklearn/feature_extraction/hashing.py:94: DeprecationWarning: the option non_negative=True has been deprecated in 0.19 and will be removed in version 0.21.\n",
      "  \" in version 0.21.\", DeprecationWarning)\n"
     ]
    },
    {
     "name": "stdout",
     "output_type": "stream",
     "text": [
      "{'mean_fit_time': array([0.00969534]), 'std_fit_time': array([0.00025366]), 'mean_score_time': array([0.00454626]), 'std_score_time': array([1.62563012e-05]), 'params': [{}], 'split0_test_score': array([-21.36511376]), 'split1_test_score': array([-21.59500543]), 'split2_test_score': array([-18.58342421]), 'split3_test_score': array([-15.74154853]), 'split4_test_score': array([-19.51965066]), 'mean_test_score': array([-19.36547671]), 'std_test_score': array([2.13263964]), 'rank_test_score': array([1], dtype=int32), 'split0_train_score': array([-12.83873604]), 'split1_train_score': array([-13.13095562]), 'split2_train_score': array([-12.86374762]), 'split3_train_score': array([-12.31302692]), 'split4_train_score': array([-13.18814573]), 'mean_train_score': array([-12.86692239]), 'std_train_score': array([0.31000088])}\n",
      "best score: 4.400622309259288\n"
     ]
    }
   ],
   "source": [
    "vectorizer = HashingVectorizer(non_negative=True, n_features = 2**9)\n",
    "vectors = vectorizer.fit_transform(df_train.lyric)\n",
    "dense = vectors.todense()\n",
    "skf = StratifiedKFold(n_splits=5, random_state=99999)\n",
    "params = {}\n",
    "nb = MultinomialNB()\n",
    "gs = GridSearchCV(nb, cv=skf, param_grid=params, scoring='neg_mean_squared_error',return_train_score=True)\n",
    "gs.fit(dense, df_train.label)\n",
    "print(gs.cv_results_)\n",
    "print(\"best score: \"+str(np.sqrt(-(gs.best_score_))))"
   ]
  }
 ],
 "metadata": {
  "kernelspec": {
   "display_name": "Python 3",
   "language": "python",
   "name": "python3"
  },
  "language_info": {
   "codemirror_mode": {
    "name": "ipython",
    "version": 3
   },
   "file_extension": ".py",
   "mimetype": "text/x-python",
   "name": "python",
   "nbconvert_exporter": "python",
   "pygments_lexer": "ipython3",
   "version": "3.6.9"
  }
 },
 "nbformat": 4,
 "nbformat_minor": 2
}
